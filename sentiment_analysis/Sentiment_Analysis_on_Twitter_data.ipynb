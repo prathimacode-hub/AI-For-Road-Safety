{
  "cells": [
    {
      "cell_type": "markdown",
      "source": [
        "## **Loading required Libraries**"
      ],
      "metadata": {
        "id": "rKCEks2Mq9ZT"
      }
    },
    {
      "cell_type": "code",
      "source": [
        "from google.colab import drive\n",
        "drive.mount('/content/drive')"
      ],
      "metadata": {
        "colab": {
          "base_uri": "https://localhost:8080/"
        },
        "id": "WbO-uNGc0gMv",
        "outputId": "dafb2b42-debb-46c6-b1fe-3d182c658e9e"
      },
      "execution_count": null,
      "outputs": [
        {
          "output_type": "stream",
          "name": "stdout",
          "text": [
            "Mounted at /content/drive\n"
          ]
        }
      ]
    },
    {
      "cell_type": "code",
      "source": [
        "!wget https://github.com/snikhil17/Road_Safety/raw/main/Data/Tweets%2041k.zip"
      ],
      "metadata": {
        "colab": {
          "base_uri": "https://localhost:8080/"
        },
        "id": "Gyrhs-BP3W_i",
        "outputId": "af4f8930-d36a-42dc-8024-59003fb38b3d"
      },
      "execution_count": null,
      "outputs": [
        {
          "output_type": "stream",
          "name": "stdout",
          "text": [
            "--2022-01-23 03:01:16--  https://github.com/snikhil17/Road_Safety/raw/main/Data/Tweets%2041k.zip\n",
            "Resolving github.com (github.com)... 52.69.186.44\n",
            "Connecting to github.com (github.com)|52.69.186.44|:443... connected.\n",
            "HTTP request sent, awaiting response... 302 Found\n",
            "Location: https://raw.githubusercontent.com/snikhil17/Road_Safety/main/Data/Tweets%2041k.zip [following]\n",
            "--2022-01-23 03:01:16--  https://raw.githubusercontent.com/snikhil17/Road_Safety/main/Data/Tweets%2041k.zip\n",
            "Resolving raw.githubusercontent.com (raw.githubusercontent.com)... 185.199.108.133, 185.199.109.133, 185.199.110.133, ...\n",
            "Connecting to raw.githubusercontent.com (raw.githubusercontent.com)|185.199.108.133|:443... connected.\n",
            "HTTP request sent, awaiting response... 200 OK\n",
            "Length: 6923891 (6.6M) [application/zip]\n",
            "Saving to: ‘Tweets 41k.zip’\n",
            "\n",
            "Tweets 41k.zip      100%[===================>]   6.60M  --.-KB/s    in 0.1s    \n",
            "\n",
            "2022-01-23 03:01:17 (67.7 MB/s) - ‘Tweets 41k.zip’ saved [6923891/6923891]\n",
            "\n"
          ]
        }
      ]
    },
    {
      "cell_type": "code",
      "source": [
        "!unzip Tweets_41k.zip"
      ],
      "metadata": {
        "colab": {
          "base_uri": "https://localhost:8080/"
        },
        "id": "av1mjgi222_J",
        "outputId": "66cc9745-67ba-4326-bf9f-235195e40fcb"
      },
      "execution_count": null,
      "outputs": [
        {
          "output_type": "stream",
          "name": "stdout",
          "text": [
            "Archive:  Tweets_41k.zip\n",
            "  inflating: Tweets 41k/road_accidents_india_40k_0_200.csv  \n",
            "  inflating: Tweets 41k/road_accidents_india_40k_1000_to_1200.csv  \n",
            "  inflating: Tweets 41k/road_accidents_india_40k_10000_to_11000.csv  \n",
            "  inflating: Tweets 41k/road_accidents_india_40k_11000_to_12000.csv  \n",
            "  inflating: Tweets 41k/road_accidents_india_40k_1200_to_1600.csv  \n",
            "  inflating: Tweets 41k/road_accidents_india_40k_12000_to_13000.csv  \n",
            "  inflating: Tweets 41k/road_accidents_india_40k_13000_to_14000.csv  \n",
            "  inflating: Tweets 41k/road_accidents_india_40k_14000_to_15000.csv  \n",
            "  inflating: Tweets 41k/road_accidents_india_40k_15000_to_16000.csv  \n",
            "  inflating: Tweets 41k/road_accidents_india_40k_1600_to_1800.csv  \n",
            "  inflating: Tweets 41k/road_accidents_india_40k_16000_to_16400.csv  \n",
            "  inflating: Tweets 41k/road_accidents_india_40k_16400_to_18000.csv  \n",
            "  inflating: Tweets 41k/road_accidents_india_40k_1800_to_2000.csv  \n",
            "  inflating: Tweets 41k/road_accidents_india_40k_18000_to_21000.csv  \n",
            "  inflating: Tweets 41k/road_accidents_india_40k_2000_to_2200.csv  \n",
            "  inflating: Tweets 41k/road_accidents_india_40k_21000_to_22000.csv  \n",
            "  inflating: Tweets 41k/road_accidents_india_40k_2200_to_2400.csv  \n",
            "  inflating: Tweets 41k/road_accidents_india_40k_22000_to_22400.csv  \n",
            "  inflating: Tweets 41k/road_accidents_india_40k_22400_to_24000.csv  \n",
            "  inflating: Tweets 41k/road_accidents_india_40k_2400_to_2600.csv  \n",
            "  inflating: Tweets 41k/road_accidents_india_40k_24000_to_27000.csv  \n",
            "  inflating: Tweets 41k/road_accidents_india_40k_2600_to_2800.csv  \n",
            "  inflating: Tweets 41k/road_accidents_india_40k_27000_to_33000.csv  \n",
            "  inflating: Tweets 41k/road_accidents_india_40k_2800_to_3000.csv  \n",
            "  inflating: Tweets 41k/road_accidents_india_40k_3000_to_3200.csv  \n",
            "  inflating: Tweets 41k/road_accidents_india_40k_3200_to_3400.csv  \n",
            "  inflating: Tweets 41k/road_accidents_india_40k_33000_to_33400.csv  \n",
            "  inflating: Tweets 41k/road_accidents_india_40k_33400_to_41100.csv  \n",
            "  inflating: Tweets 41k/road_accidents_india_40k_3400_to_3600.csv  \n",
            "  inflating: Tweets 41k/road_accidents_india_40k_3600_to_4000.csv  \n",
            "  inflating: Tweets 41k/road_accidents_india_40k_400_to_600.csv  \n",
            "  inflating: Tweets 41k/road_accidents_india_40k_4000_to_4400.csv  \n",
            "  inflating: Tweets 41k/road_accidents_india_40k_4400_to_4600.csv  \n",
            "  inflating: Tweets 41k/road_accidents_india_40k_4600_to_5000.csv  \n",
            "  inflating: Tweets 41k/road_accidents_india_40k_5000_to_5400.csv  \n",
            "  inflating: Tweets 41k/road_accidents_india_40k_5400_to_5800.csv  \n",
            "  inflating: Tweets 41k/road_accidents_india_40k_5800_to_6200.csv  \n",
            "  inflating: Tweets 41k/road_accidents_india_40k_600_to_800.csv  \n",
            "  inflating: Tweets 41k/road_accidents_india_40k_6200_to_6400.csv  \n",
            "  inflating: Tweets 41k/road_accidents_india_40k_6400--6600.csv  \n",
            "  inflating: Tweets 41k/road_accidents_india_40k_6800_to_7800.csv  \n",
            "  inflating: Tweets 41k/road_accidents_india_40k_7800_to_9000.csv  \n",
            "  inflating: Tweets 41k/road_accidents_india_40k_800_to_1000.csv  \n",
            "  inflating: Tweets 41k/road_accidents_india_40k_9000_to_10000.csv  \n"
          ]
        }
      ]
    },
    {
      "cell_type": "code",
      "source": [
        "import pandas as pd\n",
        "import numpy as np\n",
        "import nltk\n",
        "import matplotlib.pyplot as plt\n",
        "import re\n",
        "nltk.download('punkt')\n",
        "nltk.download('wordnet')\n",
        "nltk.download('averaged_perceptron_tagger')\n",
        "\n",
        "from nltk.corpus import wordnet\n",
        "import string\n",
        "from nltk.stem import WordNetLemmatizer, PorterStemmer\n",
        "\n",
        "\n",
        "nltk.download('words')\n",
        "\n",
        "from nltk.corpus import stopwords\n",
        "nltk.download('stopwords')\n",
        "\n",
        "from sklearn.feature_extraction.text import CountVectorizer, TfidfVectorizer\n",
        "import spacy\n",
        "nlp = spacy.load('en_core_web_sm')\n",
        "\n",
        "\n",
        "from sklearn.model_selection import train_test_split\n",
        "from sklearn.svm import SVC\n",
        "from sklearn import metrics\n",
        "from sklearn.model_selection import GridSearchCV, StratifiedKFold"
      ],
      "metadata": {
        "colab": {
          "base_uri": "https://localhost:8080/"
        },
        "id": "PcUayBD8rBO7",
        "outputId": "18341506-9de1-4e4d-a16e-6e0aa31d0ae8"
      },
      "execution_count": null,
      "outputs": [
        {
          "output_type": "stream",
          "name": "stdout",
          "text": [
            "[nltk_data] Downloading package punkt to /root/nltk_data...\n",
            "[nltk_data]   Unzipping tokenizers/punkt.zip.\n",
            "[nltk_data] Downloading package wordnet to /root/nltk_data...\n",
            "[nltk_data]   Unzipping corpora/wordnet.zip.\n",
            "[nltk_data] Downloading package averaged_perceptron_tagger to\n",
            "[nltk_data]     /root/nltk_data...\n",
            "[nltk_data]   Unzipping taggers/averaged_perceptron_tagger.zip.\n",
            "[nltk_data] Downloading package words to /root/nltk_data...\n",
            "[nltk_data]   Unzipping corpora/words.zip.\n",
            "[nltk_data] Downloading package stopwords to /root/nltk_data...\n",
            "[nltk_data]   Unzipping corpora/stopwords.zip.\n"
          ]
        }
      ]
    },
    {
      "cell_type": "code",
      "source": [
        "import glob\n",
        "import os\n",
        "import pandas as pd\n",
        "df = pd.concat(map(pd.read_csv, glob.glob(os.path.join('/content/Tweets 41k/', \"road_accidents_india_40k_*.csv\"))), ignore_index= True).drop('Unnamed: 0', axis = 1)\n",
        "df.head()"
      ],
      "metadata": {
        "colab": {
          "base_uri": "https://localhost:8080/",
          "height": 530
        },
        "id": "5vdhYLFt4iJG",
        "outputId": "b64d6bb9-dc2a-46f9-bbb6-8601a3f7cccd"
      },
      "execution_count": null,
      "outputs": [
        {
          "output_type": "execute_result",
          "data": {
            "text/html": [
              "\n",
              "  <div id=\"df-119b4193-3f5b-4388-aa8a-8d45fc1cb787\">\n",
              "    <div class=\"colab-df-container\">\n",
              "      <div>\n",
              "<style scoped>\n",
              "    .dataframe tbody tr th:only-of-type {\n",
              "        vertical-align: middle;\n",
              "    }\n",
              "\n",
              "    .dataframe tbody tr th {\n",
              "        vertical-align: top;\n",
              "    }\n",
              "\n",
              "    .dataframe thead th {\n",
              "        text-align: right;\n",
              "    }\n",
              "</style>\n",
              "<table border=\"1\" class=\"dataframe\">\n",
              "  <thead>\n",
              "    <tr style=\"text-align: right;\">\n",
              "      <th></th>\n",
              "      <th>tweet_content</th>\n",
              "      <th>labels_zero_shot</th>\n",
              "      <th>respective_scores</th>\n",
              "      <th>best_labels_scores</th>\n",
              "      <th>best_labels</th>\n",
              "      <th>sentiments_one_shot_classifier_score</th>\n",
              "      <th>sentiments_one_shot_classifier</th>\n",
              "      <th>cleaned_text</th>\n",
              "      <th>sentiment_via_VADER</th>\n",
              "    </tr>\n",
              "  </thead>\n",
              "  <tbody>\n",
              "    <tr>\n",
              "      <th>0</th>\n",
              "      <td>The thought and action of a road accident free...</td>\n",
              "      <td>['positive information', 'appreciation', 'nega...</td>\n",
              "      <td>[0.737942636013031, 0.2362614870071411, 0.0117...</td>\n",
              "      <td>{'positive information': 0.737942636013031, 'a...</td>\n",
              "      <td>['positive information', 'appreciation']</td>\n",
              "      <td>{'positive': 0.9731520414352417}</td>\n",
              "      <td>positive</td>\n",
              "      <td>thought action road accident free engineering ...</td>\n",
              "      <td>positive</td>\n",
              "    </tr>\n",
              "    <tr>\n",
              "      <th>1</th>\n",
              "      <td>In India, almost 2 lakh people lose their live...</td>\n",
              "      <td>['negative information', 'fatal accident', 'co...</td>\n",
              "      <td>[0.7789489030838013, 0.13117451965808868, 0.03...</td>\n",
              "      <td>{'negative information': 0.7789489030838013, '...</td>\n",
              "      <td>['negative information', 'fatal accident']</td>\n",
              "      <td>{'negative': 0.9603044390678406}</td>\n",
              "      <td>negative</td>\n",
              "      <td>almost people lose life road accident build km...</td>\n",
              "      <td>negative</td>\n",
              "    </tr>\n",
              "    <tr>\n",
              "      <th>2</th>\n",
              "      <td>@DinakaranNews WRT @DinakaranNews Pls INFO @mk...</td>\n",
              "      <td>['complaints', 'negative information', 'fatal ...</td>\n",
              "      <td>[0.48437389731407166, 0.2385663390159607, 0.19...</td>\n",
              "      <td>{'complaints': 0.48437389731407166, 'negative ...</td>\n",
              "      <td>['complaints', 'negative information']</td>\n",
              "      <td>{'negative': 0.8926806449890137}</td>\n",
              "      <td>negative</td>\n",
              "      <td>info complaint bother yet same road accident s...</td>\n",
              "      <td>negative</td>\n",
              "    </tr>\n",
              "    <tr>\n",
              "      <th>3</th>\n",
              "      <td>Good Samaritans who rescue victims of serious ...</td>\n",
              "      <td>['positive information', 'appreciation', 'nega...</td>\n",
              "      <td>[0.6170728206634521, 0.27085718512535095, 0.05...</td>\n",
              "      <td>{'positive information': 0.6170728206634521, '...</td>\n",
              "      <td>['positive information', 'appreciation']</td>\n",
              "      <td>{'positive': 0.8780285120010376}</td>\n",
              "      <td>positive</td>\n",
              "      <td>good rescue victim serious road accident rush ...</td>\n",
              "      <td>positive</td>\n",
              "    </tr>\n",
              "    <tr>\n",
              "      <th>4</th>\n",
              "      <td>@rongmeinbong @INCIndia @priyankagandhi Very t...</td>\n",
              "      <td>['complaints', 'negative information', 'apprec...</td>\n",
              "      <td>[0.6081547141075134, 0.23678579926490784, 0.11...</td>\n",
              "      <td>{'complaints': 0.6081547141075134, 'negative i...</td>\n",
              "      <td>['complaints', 'negative information']</td>\n",
              "      <td>{'negative': 0.8049018979072571}</td>\n",
              "      <td>negative</td>\n",
              "      <td>priyankagandhi very true minor road accident p...</td>\n",
              "      <td>negative</td>\n",
              "    </tr>\n",
              "  </tbody>\n",
              "</table>\n",
              "</div>\n",
              "      <button class=\"colab-df-convert\" onclick=\"convertToInteractive('df-119b4193-3f5b-4388-aa8a-8d45fc1cb787')\"\n",
              "              title=\"Convert this dataframe to an interactive table.\"\n",
              "              style=\"display:none;\">\n",
              "        \n",
              "  <svg xmlns=\"http://www.w3.org/2000/svg\" height=\"24px\"viewBox=\"0 0 24 24\"\n",
              "       width=\"24px\">\n",
              "    <path d=\"M0 0h24v24H0V0z\" fill=\"none\"/>\n",
              "    <path d=\"M18.56 5.44l.94 2.06.94-2.06 2.06-.94-2.06-.94-.94-2.06-.94 2.06-2.06.94zm-11 1L8.5 8.5l.94-2.06 2.06-.94-2.06-.94L8.5 2.5l-.94 2.06-2.06.94zm10 10l.94 2.06.94-2.06 2.06-.94-2.06-.94-.94-2.06-.94 2.06-2.06.94z\"/><path d=\"M17.41 7.96l-1.37-1.37c-.4-.4-.92-.59-1.43-.59-.52 0-1.04.2-1.43.59L10.3 9.45l-7.72 7.72c-.78.78-.78 2.05 0 2.83L4 21.41c.39.39.9.59 1.41.59.51 0 1.02-.2 1.41-.59l7.78-7.78 2.81-2.81c.8-.78.8-2.07 0-2.86zM5.41 20L4 18.59l7.72-7.72 1.47 1.35L5.41 20z\"/>\n",
              "  </svg>\n",
              "      </button>\n",
              "      \n",
              "  <style>\n",
              "    .colab-df-container {\n",
              "      display:flex;\n",
              "      flex-wrap:wrap;\n",
              "      gap: 12px;\n",
              "    }\n",
              "\n",
              "    .colab-df-convert {\n",
              "      background-color: #E8F0FE;\n",
              "      border: none;\n",
              "      border-radius: 50%;\n",
              "      cursor: pointer;\n",
              "      display: none;\n",
              "      fill: #1967D2;\n",
              "      height: 32px;\n",
              "      padding: 0 0 0 0;\n",
              "      width: 32px;\n",
              "    }\n",
              "\n",
              "    .colab-df-convert:hover {\n",
              "      background-color: #E2EBFA;\n",
              "      box-shadow: 0px 1px 2px rgba(60, 64, 67, 0.3), 0px 1px 3px 1px rgba(60, 64, 67, 0.15);\n",
              "      fill: #174EA6;\n",
              "    }\n",
              "\n",
              "    [theme=dark] .colab-df-convert {\n",
              "      background-color: #3B4455;\n",
              "      fill: #D2E3FC;\n",
              "    }\n",
              "\n",
              "    [theme=dark] .colab-df-convert:hover {\n",
              "      background-color: #434B5C;\n",
              "      box-shadow: 0px 1px 3px 1px rgba(0, 0, 0, 0.15);\n",
              "      filter: drop-shadow(0px 1px 2px rgba(0, 0, 0, 0.3));\n",
              "      fill: #FFFFFF;\n",
              "    }\n",
              "  </style>\n",
              "\n",
              "      <script>\n",
              "        const buttonEl =\n",
              "          document.querySelector('#df-119b4193-3f5b-4388-aa8a-8d45fc1cb787 button.colab-df-convert');\n",
              "        buttonEl.style.display =\n",
              "          google.colab.kernel.accessAllowed ? 'block' : 'none';\n",
              "\n",
              "        async function convertToInteractive(key) {\n",
              "          const element = document.querySelector('#df-119b4193-3f5b-4388-aa8a-8d45fc1cb787');\n",
              "          const dataTable =\n",
              "            await google.colab.kernel.invokeFunction('convertToInteractive',\n",
              "                                                     [key], {});\n",
              "          if (!dataTable) return;\n",
              "\n",
              "          const docLinkHtml = 'Like what you see? Visit the ' +\n",
              "            '<a target=\"_blank\" href=https://colab.research.google.com/notebooks/data_table.ipynb>data table notebook</a>'\n",
              "            + ' to learn more about interactive tables.';\n",
              "          element.innerHTML = '';\n",
              "          dataTable['output_type'] = 'display_data';\n",
              "          await google.colab.output.renderOutput(dataTable, element);\n",
              "          const docLink = document.createElement('div');\n",
              "          docLink.innerHTML = docLinkHtml;\n",
              "          element.appendChild(docLink);\n",
              "        }\n",
              "      </script>\n",
              "    </div>\n",
              "  </div>\n",
              "  "
            ],
            "text/plain": [
              "                                       tweet_content  ... sentiment_via_VADER\n",
              "0  The thought and action of a road accident free...  ...            positive\n",
              "1  In India, almost 2 lakh people lose their live...  ...            negative\n",
              "2  @DinakaranNews WRT @DinakaranNews Pls INFO @mk...  ...            negative\n",
              "3  Good Samaritans who rescue victims of serious ...  ...            positive\n",
              "4  @rongmeinbong @INCIndia @priyankagandhi Very t...  ...            negative\n",
              "\n",
              "[5 rows x 9 columns]"
            ]
          },
          "metadata": {},
          "execution_count": 18
        }
      ]
    },
    {
      "cell_type": "markdown",
      "source": [
        "## **Cleaning Helper Functions** \n",
        "- **Function for decontracted and removing IP adresses and other expressions using Regex**\n",
        "  - words like don't , won't etc will be converted to do not, will not etc.\n",
        "  - Emojis, additional lines, email-addresses, website names etc are removed here.\n",
        "- **Removed words like ``no, not, nor`` from english stopwords**\n",
        "- **Removing Non-English Words**\n",
        "  - whatever words nltk corpus has, if given word is in that corpus we will consider the word, else replace with blank.\n",
        "- **Removing Contextual Stopwords**\n",
        "  - Using POS-tagging feature of Spacy, removed words which were Pronoun, punctuation, number, adverb  etc.\n",
        "  - Lemmatizing th words and checking if the given word exist in the list of words needs to be removed (contextual words: obtained after checking the word counts)\n",
        "- **Remaining Preprocessing of text**\n",
        "  - Combining all the above functions to use as analyzer in TF-IDF vectorizer. "
      ],
      "metadata": {
        "id": "jZwLmH9grFv9"
      }
    },
    {
      "cell_type": "code",
      "source": [
        "\"\"\"Functions to clean text using Regex\"\"\"\n",
        "ip_addr_regex = re.compile(r'\\b(?:[0-9]{1,3}\\.){3}[0-9]{1,3}\\b')\n",
        "emoji_pattern = re.compile(\"[\"\n",
        "        u\"\\U0001F600-\\U0001F64F\"  # emoticons\n",
        "        u\"\\U0001F300-\\U0001F5FF\"  # symbols & pictographs\n",
        "        u\"\\U0001F680-\\U0001F6FF\"  # transport & map symbols\n",
        "        u\"\\U0001F1E0-\\U0001F1FF\"  # flags (iOS)\n",
        "                           \"]+\", flags=re.UNICODE)\n",
        "def regex_cleaning(phrase):\n",
        "    # specific\n",
        "    phrase = re.sub(r\"won\\'t\", \"will not\", phrase)\n",
        "    phrase = re.sub(r\"can\\'t\", \"can not\", phrase)\n",
        "\n",
        "    # general\n",
        "    phrase = re.sub(r\"n\\'t\", \" not\", phrase)\n",
        "    phrase = re.sub(r\"\\'re\", \" are\", phrase)\n",
        "    phrase = re.sub(r\"\\'s\", \" is\", phrase)\n",
        "    phrase = re.sub(r\"\\'d\", \" would\", phrase)\n",
        "    phrase = re.sub(r\"\\'ll\", \" will\", phrase)\n",
        "    phrase = re.sub(r\"\\'t\", \" not\", phrase)\n",
        "    phrase = re.sub(r\"\\'ve\", \" have\", phrase)\n",
        "    phrase = re.sub(r\"\\'m\", \" am\", phrase)\n",
        "    phrase = re.sub(r\"[^a-zA-Z0-9]+\", \" \", phrase)\n",
        "    phrase = re.sub(r\"\\r\\n\", \"\", phrase)            # Removing additional line\n",
        "    phrase = re.sub(r\"\\n\", \"\", phrase)              # Removing additional line \n",
        "    phrase = re.sub(r\"\\S*@\\S*\\s?\", \"\", phrase)      # Removing email-addresses \n",
        "    phrase = re.sub(r'http\\S+', '', phrase)         # Removing website links\n",
        "    phrase = re.sub(ip_addr_regex, \"\", phrase)      # Removing IP address link.\n",
        "    phrase = emoji_pattern.sub(r'', phrase)         # Removing Emojis\n",
        "    \n",
        "    return phrase.lower() \n",
        "\n",
        "\"\"\"Ammending Stopwords list\"\"\"\n",
        "stop_words = stopwords.words('english')\n",
        "for i in ['nor', 'not', 'no']:\n",
        "  stop_words.remove(i)\n",
        "\n",
        "\"\"\"Removing Non-English Words\"\"\"\n",
        "nltk_words = set(nltk.corpus.words.words())\n",
        "def only_eng(row):\n",
        "  for word in row:\n",
        "    if word in nltk_words or not word.isalpha():\n",
        "      word = word\n",
        "    else:\n",
        "      word = \"\"\n",
        "  return row\n",
        "\n",
        "\"\"\"Helper function for lemmatization_check\"\"\"\n",
        "def get_wordnet_pos(tag):\n",
        "    if tag.startswith('J'):\n",
        "        return wordnet.ADJ\n",
        "    elif tag.startswith('V'):\n",
        "        return wordnet.VERB\n",
        "    elif tag.startswith('N'):\n",
        "        return wordnet.NOUN\n",
        "    elif tag.startswith('R'):\n",
        "        return wordnet.ADV\n",
        "    else:\n",
        "        return wordnet.NOUN\n",
        "\n",
        "# \"\"\"Extracting Lemmatized word to take care that words like page, paged, pages can be removed at once.\"\"\"\n",
        "\n",
        "def lemmatization_check(word):\n",
        "  word_pos = nltk.pos_tag(word)\n",
        "  lemma_word = lemmaObject.lemmatize(word,get_wordnet_pos(word))\n",
        "  return lemma_word\n",
        "\n",
        "\"\"\"Removing Contextual Stopwords\"\"\"\n",
        "# 'ADJ',\n",
        "lemmaObject = WordNetLemmatizer()\n",
        "pos_taggings_to_remove = ['DET', 'ADP','ADV','AUX', 'SCONJ',  'INTJ','PUNCT', 'NUM',  'SPACE', 'X']\n",
        "some_words_to_remove = ['http', 'year', 'india', 'people', 'every']\n",
        "def remove_contextual_stopwords(row):\n",
        " \n",
        "  final_row = []\n",
        "  row = \"\".join([lemmaObject.lemmatize(word[0],get_wordnet_pos(word[1])) for word in nltk.pos_tag(row)])\n",
        "  row = nlp(row)\n",
        "  for word in row:    \n",
        "    if word.pos_ not in pos_taggings_to_remove and word.text not in some_words_to_remove:\n",
        "      final_row.append(word.text)\n",
        "    else:\n",
        "      continue\n",
        "  return \" \".join(final_row)\n",
        "\n",
        "\"\"\"Remaining Preprocessing of text\"\"\"\n",
        "ps = PorterStemmer()\n",
        "def final_preprocessing(document):\n",
        "  document_regex_cleaned = regex_cleaning(document)\n",
        "  noNonEnglishWords = only_eng(document_regex_cleaned)\n",
        "  words = [\" \".join(nltk.word_tokenize(title)) for title in noNonEnglishWords.split()]                                         # Word Tokenization0\n",
        "  wordWithoutStopwords = [ps.stem(word) for word in words if word not in stop_words if len(word) > 3]                                   # Remove Stopwords\n",
        "  vocabulary = \" \".join([char for char in wordWithoutStopwords if char not in string.punctuation ])                            # Remove Punctuations\n",
        "  noContextualStopwords = remove_contextual_stopwords(vocabulary)                                                              # Remove Contextual Stopwords\n",
        "  return noContextualStopwords.split()                                                                                         # Returning lemmatized-Vocabulary"
      ],
      "metadata": {
        "id": "i7QQQ7T7rEIn"
      },
      "execution_count": null,
      "outputs": []
    },
    {
      "cell_type": "markdown",
      "source": [
        "## **Using Helper functions to clean the data**"
      ],
      "metadata": {
        "id": "2cs9iBa_rq6W"
      }
    },
    {
      "cell_type": "code",
      "source": [
        "df['cleaned_text'] = df['tweet_content'].apply(regex_cleaning)  # Cleaning using Regex\n",
        "df['cleaned_text'] = df['cleaned_text'].apply(only_eng)  # Selecting Only English words"
      ],
      "metadata": {
        "id": "L1mamHLJrPCI"
      },
      "execution_count": null,
      "outputs": []
    },
    {
      "cell_type": "markdown",
      "source": [
        "## **Contextual Stop words**\n",
        "- Creating a for loop to store all the comments into a single list:\n",
        "- In terms of Preprocessing only steps used are remove words less than 3 characters and removed stopwords\n",
        "- The result is stored in a dictionary, where key is word and value is frequency of the word. \n",
        "- This dictionary is convered into DataFrame to observe most frequent words and using that decision is made about selecting **Contextual Stop Words**"
      ],
      "metadata": {
        "id": "XM_G6CAgrxiY"
      }
    },
    {
      "cell_type": "code",
      "source": [
        "freq_dict ={}\n",
        "text_list = [text for text in df['cleaned_text']]\n",
        "for sentence in text_list:\n",
        "  for word in sentence.split(): \n",
        "    \n",
        "    if word in freq_dict.keys() and len(word) > 3 and word not in stopwords.words('english'):\n",
        "      freq_dict[word] += 1\n",
        "\n",
        "    if word not in freq_dict.keys() and len(word) > 3 and word not in stopwords.words('english'):\n",
        "      freq_dict[word] = 1\n",
        "\n",
        "\n",
        "count_df = pd.DataFrame( freq_dict.values(), freq_dict.keys()).reset_index().rename({0: \"Frequency\", \"index\": \"Words\"}, axis =1)\n",
        "count_df.sort_values(by = 'Frequency', ascending = False)[:15]"
      ],
      "metadata": {
        "colab": {
          "base_uri": "https://localhost:8080/",
          "height": 520
        },
        "id": "HMuGBRvUrwTK",
        "outputId": "998e6a2a-1df8-41c9-cc52-0ec027013627"
      },
      "execution_count": null,
      "outputs": [
        {
          "output_type": "execute_result",
          "data": {
            "text/html": [
              "\n",
              "  <div id=\"df-45e82860-de19-4313-b144-9880cd4c6e8b\">\n",
              "    <div class=\"colab-df-container\">\n",
              "      <div>\n",
              "<style scoped>\n",
              "    .dataframe tbody tr th:only-of-type {\n",
              "        vertical-align: middle;\n",
              "    }\n",
              "\n",
              "    .dataframe tbody tr th {\n",
              "        vertical-align: top;\n",
              "    }\n",
              "\n",
              "    .dataframe thead th {\n",
              "        text-align: right;\n",
              "    }\n",
              "</style>\n",
              "<table border=\"1\" class=\"dataframe\">\n",
              "  <thead>\n",
              "    <tr style=\"text-align: right;\">\n",
              "      <th></th>\n",
              "      <th>Words</th>\n",
              "      <th>Frequency</th>\n",
              "    </tr>\n",
              "  </thead>\n",
              "  <tbody>\n",
              "    <tr>\n",
              "      <th>2</th>\n",
              "      <td>road</td>\n",
              "      <td>45117</td>\n",
              "    </tr>\n",
              "    <tr>\n",
              "      <th>5</th>\n",
              "      <td>india</td>\n",
              "      <td>41125</td>\n",
              "    </tr>\n",
              "    <tr>\n",
              "      <th>3</th>\n",
              "      <td>accident</td>\n",
              "      <td>22744</td>\n",
              "    </tr>\n",
              "    <tr>\n",
              "      <th>27</th>\n",
              "      <td>accidents</td>\n",
              "      <td>20768</td>\n",
              "    </tr>\n",
              "    <tr>\n",
              "      <th>13844</th>\n",
              "      <td>http</td>\n",
              "      <td>11147</td>\n",
              "    </tr>\n",
              "    <tr>\n",
              "      <th>87</th>\n",
              "      <td>killed</td>\n",
              "      <td>7782</td>\n",
              "    </tr>\n",
              "    <tr>\n",
              "      <th>24</th>\n",
              "      <td>people</td>\n",
              "      <td>6408</td>\n",
              "    </tr>\n",
              "    <tr>\n",
              "      <th>32</th>\n",
              "      <td>every</td>\n",
              "      <td>4027</td>\n",
              "    </tr>\n",
              "    <tr>\n",
              "      <th>272</th>\n",
              "      <td>news</td>\n",
              "      <td>3813</td>\n",
              "    </tr>\n",
              "    <tr>\n",
              "      <th>36</th>\n",
              "      <td>deaths</td>\n",
              "      <td>3598</td>\n",
              "    </tr>\n",
              "    <tr>\n",
              "      <th>270</th>\n",
              "      <td>injured</td>\n",
              "      <td>3076</td>\n",
              "    </tr>\n",
              "    <tr>\n",
              "      <th>952</th>\n",
              "      <td>safety</td>\n",
              "      <td>2832</td>\n",
              "    </tr>\n",
              "    <tr>\n",
              "      <th>935</th>\n",
              "      <td>times</td>\n",
              "      <td>2761</td>\n",
              "    </tr>\n",
              "    <tr>\n",
              "      <th>74</th>\n",
              "      <td>year</td>\n",
              "      <td>2724</td>\n",
              "    </tr>\n",
              "    <tr>\n",
              "      <th>472</th>\n",
              "      <td>died</td>\n",
              "      <td>2338</td>\n",
              "    </tr>\n",
              "  </tbody>\n",
              "</table>\n",
              "</div>\n",
              "      <button class=\"colab-df-convert\" onclick=\"convertToInteractive('df-45e82860-de19-4313-b144-9880cd4c6e8b')\"\n",
              "              title=\"Convert this dataframe to an interactive table.\"\n",
              "              style=\"display:none;\">\n",
              "        \n",
              "  <svg xmlns=\"http://www.w3.org/2000/svg\" height=\"24px\"viewBox=\"0 0 24 24\"\n",
              "       width=\"24px\">\n",
              "    <path d=\"M0 0h24v24H0V0z\" fill=\"none\"/>\n",
              "    <path d=\"M18.56 5.44l.94 2.06.94-2.06 2.06-.94-2.06-.94-.94-2.06-.94 2.06-2.06.94zm-11 1L8.5 8.5l.94-2.06 2.06-.94-2.06-.94L8.5 2.5l-.94 2.06-2.06.94zm10 10l.94 2.06.94-2.06 2.06-.94-2.06-.94-.94-2.06-.94 2.06-2.06.94z\"/><path d=\"M17.41 7.96l-1.37-1.37c-.4-.4-.92-.59-1.43-.59-.52 0-1.04.2-1.43.59L10.3 9.45l-7.72 7.72c-.78.78-.78 2.05 0 2.83L4 21.41c.39.39.9.59 1.41.59.51 0 1.02-.2 1.41-.59l7.78-7.78 2.81-2.81c.8-.78.8-2.07 0-2.86zM5.41 20L4 18.59l7.72-7.72 1.47 1.35L5.41 20z\"/>\n",
              "  </svg>\n",
              "      </button>\n",
              "      \n",
              "  <style>\n",
              "    .colab-df-container {\n",
              "      display:flex;\n",
              "      flex-wrap:wrap;\n",
              "      gap: 12px;\n",
              "    }\n",
              "\n",
              "    .colab-df-convert {\n",
              "      background-color: #E8F0FE;\n",
              "      border: none;\n",
              "      border-radius: 50%;\n",
              "      cursor: pointer;\n",
              "      display: none;\n",
              "      fill: #1967D2;\n",
              "      height: 32px;\n",
              "      padding: 0 0 0 0;\n",
              "      width: 32px;\n",
              "    }\n",
              "\n",
              "    .colab-df-convert:hover {\n",
              "      background-color: #E2EBFA;\n",
              "      box-shadow: 0px 1px 2px rgba(60, 64, 67, 0.3), 0px 1px 3px 1px rgba(60, 64, 67, 0.15);\n",
              "      fill: #174EA6;\n",
              "    }\n",
              "\n",
              "    [theme=dark] .colab-df-convert {\n",
              "      background-color: #3B4455;\n",
              "      fill: #D2E3FC;\n",
              "    }\n",
              "\n",
              "    [theme=dark] .colab-df-convert:hover {\n",
              "      background-color: #434B5C;\n",
              "      box-shadow: 0px 1px 3px 1px rgba(0, 0, 0, 0.15);\n",
              "      filter: drop-shadow(0px 1px 2px rgba(0, 0, 0, 0.3));\n",
              "      fill: #FFFFFF;\n",
              "    }\n",
              "  </style>\n",
              "\n",
              "      <script>\n",
              "        const buttonEl =\n",
              "          document.querySelector('#df-45e82860-de19-4313-b144-9880cd4c6e8b button.colab-df-convert');\n",
              "        buttonEl.style.display =\n",
              "          google.colab.kernel.accessAllowed ? 'block' : 'none';\n",
              "\n",
              "        async function convertToInteractive(key) {\n",
              "          const element = document.querySelector('#df-45e82860-de19-4313-b144-9880cd4c6e8b');\n",
              "          const dataTable =\n",
              "            await google.colab.kernel.invokeFunction('convertToInteractive',\n",
              "                                                     [key], {});\n",
              "          if (!dataTable) return;\n",
              "\n",
              "          const docLinkHtml = 'Like what you see? Visit the ' +\n",
              "            '<a target=\"_blank\" href=https://colab.research.google.com/notebooks/data_table.ipynb>data table notebook</a>'\n",
              "            + ' to learn more about interactive tables.';\n",
              "          element.innerHTML = '';\n",
              "          dataTable['output_type'] = 'display_data';\n",
              "          await google.colab.output.renderOutput(dataTable, element);\n",
              "          const docLink = document.createElement('div');\n",
              "          docLink.innerHTML = docLinkHtml;\n",
              "          element.appendChild(docLink);\n",
              "        }\n",
              "      </script>\n",
              "    </div>\n",
              "  </div>\n",
              "  "
            ],
            "text/plain": [
              "           Words  Frequency\n",
              "2           road      45117\n",
              "5          india      41125\n",
              "3       accident      22744\n",
              "27     accidents      20768\n",
              "13844       http      11147\n",
              "87        killed       7782\n",
              "24        people       6408\n",
              "32         every       4027\n",
              "272         news       3813\n",
              "36        deaths       3598\n",
              "270      injured       3076\n",
              "952       safety       2832\n",
              "935        times       2761\n",
              "74          year       2724\n",
              "472         died       2338"
            ]
          },
          "metadata": {},
          "execution_count": 25
        }
      ]
    },
    {
      "cell_type": "markdown",
      "source": [
        "## **Observations:**\n",
        "---\n",
        "- We can clearly see that words like **http, year, india, people, every** show up in top 15 words (in terms of frequency).\n",
        "- We can easily call these words as **Contextual Stop-words** and remove such words from our corpus.\n",
        "- Using Part of Speech, certain POS (Adjective, Pronoun, Number, Pronoun, Punctuation) words are removed as they are also be considered as **Contextual Stop Words** \n",
        "\n",
        "### **Using remove_contextual_stopwords function:**\n",
        "---\n",
        "- Remove Contextual words from corpus.\n"
      ],
      "metadata": {
        "id": "PKOS7zUxr0hc"
      }
    },
    {
      "cell_type": "code",
      "source": [
        "%%time\n",
        "df['cleaned_text'] = df['cleaned_text'].apply(remove_contextual_stopwords) # Removing Contextual Stopwords"
      ],
      "metadata": {
        "colab": {
          "base_uri": "https://localhost:8080/"
        },
        "id": "HU-n9rW1ry9F",
        "outputId": "20bcec63-01e6-4e93-a915-d331f2711fc3"
      },
      "execution_count": null,
      "outputs": [
        {
          "output_type": "stream",
          "name": "stdout",
          "text": [
            "CPU times: user 14min 17s, sys: 3.43 s, total: 14min 21s\n",
            "Wall time: 14min 20s\n"
          ]
        }
      ]
    },
    {
      "cell_type": "markdown",
      "source": [
        "## **Let's check the most-frequent words now:**\n",
        "- Same method as used above"
      ],
      "metadata": {
        "id": "MH-RA6TEr3uk"
      }
    },
    {
      "cell_type": "code",
      "source": [
        "freq_dict ={}\n",
        "text_list = [text for text in df['cleaned_text']]\n",
        "for sentence in text_list:\n",
        "  for word in sentence.split(): \n",
        "    \n",
        "    if word in freq_dict.keys() and len(word) > 3 and word not in stopwords.words('english'):\n",
        "      freq_dict[word] += 1\n",
        "\n",
        "    if word not in freq_dict.keys() and len(word) > 3 and word not in stopwords.words('english'):\n",
        "      freq_dict[word] = 1\n",
        "\n",
        "\n",
        "count_df = pd.DataFrame( freq_dict.values(), freq_dict.keys()).reset_index().rename({0: \"Frequency\", \"index\": \"Words\"}, axis =1)\n",
        "count_df.sort_values(by = 'Frequency', ascending = False)[:15]"
      ],
      "metadata": {
        "colab": {
          "base_uri": "https://localhost:8080/",
          "height": 520
        },
        "id": "XskISsfNr2ey",
        "outputId": "09cdf7af-4031-4cbd-f908-6eea59efc3eb"
      },
      "execution_count": null,
      "outputs": [
        {
          "output_type": "execute_result",
          "data": {
            "text/html": [
              "\n",
              "  <div id=\"df-81daecb1-d01c-422c-a367-c3a65aa62821\">\n",
              "    <div class=\"colab-df-container\">\n",
              "      <div>\n",
              "<style scoped>\n",
              "    .dataframe tbody tr th:only-of-type {\n",
              "        vertical-align: middle;\n",
              "    }\n",
              "\n",
              "    .dataframe tbody tr th {\n",
              "        vertical-align: top;\n",
              "    }\n",
              "\n",
              "    .dataframe thead th {\n",
              "        text-align: right;\n",
              "    }\n",
              "</style>\n",
              "<table border=\"1\" class=\"dataframe\">\n",
              "  <thead>\n",
              "    <tr style=\"text-align: right;\">\n",
              "      <th></th>\n",
              "      <th>Words</th>\n",
              "      <th>Frequency</th>\n",
              "    </tr>\n",
              "  </thead>\n",
              "  <tbody>\n",
              "    <tr>\n",
              "      <th>2</th>\n",
              "      <td>road</td>\n",
              "      <td>45117</td>\n",
              "    </tr>\n",
              "    <tr>\n",
              "      <th>3</th>\n",
              "      <td>accident</td>\n",
              "      <td>22744</td>\n",
              "    </tr>\n",
              "    <tr>\n",
              "      <th>23</th>\n",
              "      <td>accidents</td>\n",
              "      <td>20768</td>\n",
              "    </tr>\n",
              "    <tr>\n",
              "      <th>79</th>\n",
              "      <td>killed</td>\n",
              "      <td>7782</td>\n",
              "    </tr>\n",
              "    <tr>\n",
              "      <th>257</th>\n",
              "      <td>news</td>\n",
              "      <td>3813</td>\n",
              "    </tr>\n",
              "    <tr>\n",
              "      <th>31</th>\n",
              "      <td>deaths</td>\n",
              "      <td>3598</td>\n",
              "    </tr>\n",
              "    <tr>\n",
              "      <th>255</th>\n",
              "      <td>injured</td>\n",
              "      <td>3076</td>\n",
              "    </tr>\n",
              "    <tr>\n",
              "      <th>877</th>\n",
              "      <td>safety</td>\n",
              "      <td>2832</td>\n",
              "    </tr>\n",
              "    <tr>\n",
              "      <th>862</th>\n",
              "      <td>times</td>\n",
              "      <td>2761</td>\n",
              "    </tr>\n",
              "    <tr>\n",
              "      <th>909</th>\n",
              "      <td>dies</td>\n",
              "      <td>2338</td>\n",
              "    </tr>\n",
              "    <tr>\n",
              "      <th>435</th>\n",
              "      <td>died</td>\n",
              "      <td>2338</td>\n",
              "    </tr>\n",
              "    <tr>\n",
              "      <th>110</th>\n",
              "      <td>traffic</td>\n",
              "      <td>2186</td>\n",
              "    </tr>\n",
              "    <tr>\n",
              "      <th>401</th>\n",
              "      <td>world</td>\n",
              "      <td>2064</td>\n",
              "    </tr>\n",
              "    <tr>\n",
              "      <th>149</th>\n",
              "      <td>death</td>\n",
              "      <td>1977</td>\n",
              "    </tr>\n",
              "    <tr>\n",
              "      <th>27</th>\n",
              "      <td>roads</td>\n",
              "      <td>1914</td>\n",
              "    </tr>\n",
              "  </tbody>\n",
              "</table>\n",
              "</div>\n",
              "      <button class=\"colab-df-convert\" onclick=\"convertToInteractive('df-81daecb1-d01c-422c-a367-c3a65aa62821')\"\n",
              "              title=\"Convert this dataframe to an interactive table.\"\n",
              "              style=\"display:none;\">\n",
              "        \n",
              "  <svg xmlns=\"http://www.w3.org/2000/svg\" height=\"24px\"viewBox=\"0 0 24 24\"\n",
              "       width=\"24px\">\n",
              "    <path d=\"M0 0h24v24H0V0z\" fill=\"none\"/>\n",
              "    <path d=\"M18.56 5.44l.94 2.06.94-2.06 2.06-.94-2.06-.94-.94-2.06-.94 2.06-2.06.94zm-11 1L8.5 8.5l.94-2.06 2.06-.94-2.06-.94L8.5 2.5l-.94 2.06-2.06.94zm10 10l.94 2.06.94-2.06 2.06-.94-2.06-.94-.94-2.06-.94 2.06-2.06.94z\"/><path d=\"M17.41 7.96l-1.37-1.37c-.4-.4-.92-.59-1.43-.59-.52 0-1.04.2-1.43.59L10.3 9.45l-7.72 7.72c-.78.78-.78 2.05 0 2.83L4 21.41c.39.39.9.59 1.41.59.51 0 1.02-.2 1.41-.59l7.78-7.78 2.81-2.81c.8-.78.8-2.07 0-2.86zM5.41 20L4 18.59l7.72-7.72 1.47 1.35L5.41 20z\"/>\n",
              "  </svg>\n",
              "      </button>\n",
              "      \n",
              "  <style>\n",
              "    .colab-df-container {\n",
              "      display:flex;\n",
              "      flex-wrap:wrap;\n",
              "      gap: 12px;\n",
              "    }\n",
              "\n",
              "    .colab-df-convert {\n",
              "      background-color: #E8F0FE;\n",
              "      border: none;\n",
              "      border-radius: 50%;\n",
              "      cursor: pointer;\n",
              "      display: none;\n",
              "      fill: #1967D2;\n",
              "      height: 32px;\n",
              "      padding: 0 0 0 0;\n",
              "      width: 32px;\n",
              "    }\n",
              "\n",
              "    .colab-df-convert:hover {\n",
              "      background-color: #E2EBFA;\n",
              "      box-shadow: 0px 1px 2px rgba(60, 64, 67, 0.3), 0px 1px 3px 1px rgba(60, 64, 67, 0.15);\n",
              "      fill: #174EA6;\n",
              "    }\n",
              "\n",
              "    [theme=dark] .colab-df-convert {\n",
              "      background-color: #3B4455;\n",
              "      fill: #D2E3FC;\n",
              "    }\n",
              "\n",
              "    [theme=dark] .colab-df-convert:hover {\n",
              "      background-color: #434B5C;\n",
              "      box-shadow: 0px 1px 3px 1px rgba(0, 0, 0, 0.15);\n",
              "      filter: drop-shadow(0px 1px 2px rgba(0, 0, 0, 0.3));\n",
              "      fill: #FFFFFF;\n",
              "    }\n",
              "  </style>\n",
              "\n",
              "      <script>\n",
              "        const buttonEl =\n",
              "          document.querySelector('#df-81daecb1-d01c-422c-a367-c3a65aa62821 button.colab-df-convert');\n",
              "        buttonEl.style.display =\n",
              "          google.colab.kernel.accessAllowed ? 'block' : 'none';\n",
              "\n",
              "        async function convertToInteractive(key) {\n",
              "          const element = document.querySelector('#df-81daecb1-d01c-422c-a367-c3a65aa62821');\n",
              "          const dataTable =\n",
              "            await google.colab.kernel.invokeFunction('convertToInteractive',\n",
              "                                                     [key], {});\n",
              "          if (!dataTable) return;\n",
              "\n",
              "          const docLinkHtml = 'Like what you see? Visit the ' +\n",
              "            '<a target=\"_blank\" href=https://colab.research.google.com/notebooks/data_table.ipynb>data table notebook</a>'\n",
              "            + ' to learn more about interactive tables.';\n",
              "          element.innerHTML = '';\n",
              "          dataTable['output_type'] = 'display_data';\n",
              "          await google.colab.output.renderOutput(dataTable, element);\n",
              "          const docLink = document.createElement('div');\n",
              "          docLink.innerHTML = docLinkHtml;\n",
              "          element.appendChild(docLink);\n",
              "        }\n",
              "      </script>\n",
              "    </div>\n",
              "  </div>\n",
              "  "
            ],
            "text/plain": [
              "         Words  Frequency\n",
              "2         road      45117\n",
              "3     accident      22744\n",
              "23   accidents      20768\n",
              "79      killed       7782\n",
              "257       news       3813\n",
              "31      deaths       3598\n",
              "255    injured       3076\n",
              "877     safety       2832\n",
              "862      times       2761\n",
              "909       dies       2338\n",
              "435       died       2338\n",
              "110    traffic       2186\n",
              "401      world       2064\n",
              "149      death       1977\n",
              "27       roads       1914"
            ]
          },
          "metadata": {},
          "execution_count": 28
        }
      ]
    },
    {
      "cell_type": "markdown",
      "source": [
        "## **Observation:**\n",
        "- Above result actually makes sense. as most of our data is non-toxic comment, our data now shows that a few toxic words are present in the top 15 most frequenct words.\n"
      ],
      "metadata": {
        "id": "rY5Obd2otMM5"
      }
    },
    {
      "cell_type": "code",
      "source": [
        "df.head()"
      ],
      "metadata": {
        "colab": {
          "base_uri": "https://localhost:8080/",
          "height": 548
        },
        "id": "mJUCpTRSCA27",
        "outputId": "b51ffaf0-d86a-4927-b2d3-8ce274e04a65"
      },
      "execution_count": null,
      "outputs": [
        {
          "output_type": "execute_result",
          "data": {
            "text/html": [
              "\n",
              "  <div id=\"df-16bab008-4adc-416a-b253-362fa81fcc6d\">\n",
              "    <div class=\"colab-df-container\">\n",
              "      <div>\n",
              "<style scoped>\n",
              "    .dataframe tbody tr th:only-of-type {\n",
              "        vertical-align: middle;\n",
              "    }\n",
              "\n",
              "    .dataframe tbody tr th {\n",
              "        vertical-align: top;\n",
              "    }\n",
              "\n",
              "    .dataframe thead th {\n",
              "        text-align: right;\n",
              "    }\n",
              "</style>\n",
              "<table border=\"1\" class=\"dataframe\">\n",
              "  <thead>\n",
              "    <tr style=\"text-align: right;\">\n",
              "      <th></th>\n",
              "      <th>tweet_content</th>\n",
              "      <th>labels_zero_shot</th>\n",
              "      <th>respective_scores</th>\n",
              "      <th>best_labels_scores</th>\n",
              "      <th>best_labels</th>\n",
              "      <th>sentiments_one_shot_classifier_score</th>\n",
              "      <th>sentiments_one_shot_classifier</th>\n",
              "      <th>cleaned_text</th>\n",
              "      <th>sentiment_via_VADER</th>\n",
              "    </tr>\n",
              "  </thead>\n",
              "  <tbody>\n",
              "    <tr>\n",
              "      <th>0</th>\n",
              "      <td>The thought and action of a road accident free...</td>\n",
              "      <td>['positive information', 'appreciation', 'nega...</td>\n",
              "      <td>[0.737942636013031, 0.2362614870071411, 0.0117...</td>\n",
              "      <td>{'positive information': 0.737942636013031, 'a...</td>\n",
              "      <td>['positive information', 'appreciation']</td>\n",
              "      <td>{'positive': 0.9731520414352417}</td>\n",
              "      <td>positive</td>\n",
              "      <td>thought and action road accident free engineer...</td>\n",
              "      <td>positive</td>\n",
              "    </tr>\n",
              "    <tr>\n",
              "      <th>1</th>\n",
              "      <td>In India, almost 2 lakh people lose their live...</td>\n",
              "      <td>['negative information', 'fatal accident', 'co...</td>\n",
              "      <td>[0.7789489030838013, 0.13117451965808868, 0.03...</td>\n",
              "      <td>{'negative information': 0.7789489030838013, '...</td>\n",
              "      <td>['negative information', 'fatal accident']</td>\n",
              "      <td>{'negative': 0.9603044390678406}</td>\n",
              "      <td>negative</td>\n",
              "      <td>lakh lose lives road accidents nitin gadkari b...</td>\n",
              "      <td>negative</td>\n",
              "    </tr>\n",
              "    <tr>\n",
              "      <th>2</th>\n",
              "      <td>@DinakaranNews WRT @DinakaranNews Pls INFO @mk...</td>\n",
              "      <td>['complaints', 'negative information', 'fatal ...</td>\n",
              "      <td>[0.48437389731407166, 0.2385663390159607, 0.19...</td>\n",
              "      <td>{'complaints': 0.48437389731407166, 'negative ...</td>\n",
              "      <td>['complaints', 'negative information']</td>\n",
              "      <td>{'negative': 0.8926806449890137}</td>\n",
              "      <td>negative</td>\n",
              "      <td>dinakarannews wrt dinakarannews info mkstalin ...</td>\n",
              "      <td>negative</td>\n",
              "    </tr>\n",
              "    <tr>\n",
              "      <th>3</th>\n",
              "      <td>Good Samaritans who rescue victims of serious ...</td>\n",
              "      <td>['positive information', 'appreciation', 'nega...</td>\n",
              "      <td>[0.6170728206634521, 0.27085718512535095, 0.05...</td>\n",
              "      <td>{'positive information': 0.6170728206634521, '...</td>\n",
              "      <td>['positive information', 'appreciation']</td>\n",
              "      <td>{'positive': 0.8780285120010376}</td>\n",
              "      <td>positive</td>\n",
              "      <td>good samaritans who rescue victims serious roa...</td>\n",
              "      <td>positive</td>\n",
              "    </tr>\n",
              "    <tr>\n",
              "      <th>4</th>\n",
              "      <td>@rongmeinbong @INCIndia @priyankagandhi Very t...</td>\n",
              "      <td>['complaints', 'negative information', 'apprec...</td>\n",
              "      <td>[0.6081547141075134, 0.23678579926490784, 0.11...</td>\n",
              "      <td>{'complaints': 0.6081547141075134, 'negative i...</td>\n",
              "      <td>['complaints', 'negative information']</td>\n",
              "      <td>{'negative': 0.8049018979072571}</td>\n",
              "      <td>negative</td>\n",
              "      <td>rongmeinbong incindia priyankagandhi true mino...</td>\n",
              "      <td>negative</td>\n",
              "    </tr>\n",
              "  </tbody>\n",
              "</table>\n",
              "</div>\n",
              "      <button class=\"colab-df-convert\" onclick=\"convertToInteractive('df-16bab008-4adc-416a-b253-362fa81fcc6d')\"\n",
              "              title=\"Convert this dataframe to an interactive table.\"\n",
              "              style=\"display:none;\">\n",
              "        \n",
              "  <svg xmlns=\"http://www.w3.org/2000/svg\" height=\"24px\"viewBox=\"0 0 24 24\"\n",
              "       width=\"24px\">\n",
              "    <path d=\"M0 0h24v24H0V0z\" fill=\"none\"/>\n",
              "    <path d=\"M18.56 5.44l.94 2.06.94-2.06 2.06-.94-2.06-.94-.94-2.06-.94 2.06-2.06.94zm-11 1L8.5 8.5l.94-2.06 2.06-.94-2.06-.94L8.5 2.5l-.94 2.06-2.06.94zm10 10l.94 2.06.94-2.06 2.06-.94-2.06-.94-.94-2.06-.94 2.06-2.06.94z\"/><path d=\"M17.41 7.96l-1.37-1.37c-.4-.4-.92-.59-1.43-.59-.52 0-1.04.2-1.43.59L10.3 9.45l-7.72 7.72c-.78.78-.78 2.05 0 2.83L4 21.41c.39.39.9.59 1.41.59.51 0 1.02-.2 1.41-.59l7.78-7.78 2.81-2.81c.8-.78.8-2.07 0-2.86zM5.41 20L4 18.59l7.72-7.72 1.47 1.35L5.41 20z\"/>\n",
              "  </svg>\n",
              "      </button>\n",
              "      \n",
              "  <style>\n",
              "    .colab-df-container {\n",
              "      display:flex;\n",
              "      flex-wrap:wrap;\n",
              "      gap: 12px;\n",
              "    }\n",
              "\n",
              "    .colab-df-convert {\n",
              "      background-color: #E8F0FE;\n",
              "      border: none;\n",
              "      border-radius: 50%;\n",
              "      cursor: pointer;\n",
              "      display: none;\n",
              "      fill: #1967D2;\n",
              "      height: 32px;\n",
              "      padding: 0 0 0 0;\n",
              "      width: 32px;\n",
              "    }\n",
              "\n",
              "    .colab-df-convert:hover {\n",
              "      background-color: #E2EBFA;\n",
              "      box-shadow: 0px 1px 2px rgba(60, 64, 67, 0.3), 0px 1px 3px 1px rgba(60, 64, 67, 0.15);\n",
              "      fill: #174EA6;\n",
              "    }\n",
              "\n",
              "    [theme=dark] .colab-df-convert {\n",
              "      background-color: #3B4455;\n",
              "      fill: #D2E3FC;\n",
              "    }\n",
              "\n",
              "    [theme=dark] .colab-df-convert:hover {\n",
              "      background-color: #434B5C;\n",
              "      box-shadow: 0px 1px 3px 1px rgba(0, 0, 0, 0.15);\n",
              "      filter: drop-shadow(0px 1px 2px rgba(0, 0, 0, 0.3));\n",
              "      fill: #FFFFFF;\n",
              "    }\n",
              "  </style>\n",
              "\n",
              "      <script>\n",
              "        const buttonEl =\n",
              "          document.querySelector('#df-16bab008-4adc-416a-b253-362fa81fcc6d button.colab-df-convert');\n",
              "        buttonEl.style.display =\n",
              "          google.colab.kernel.accessAllowed ? 'block' : 'none';\n",
              "\n",
              "        async function convertToInteractive(key) {\n",
              "          const element = document.querySelector('#df-16bab008-4adc-416a-b253-362fa81fcc6d');\n",
              "          const dataTable =\n",
              "            await google.colab.kernel.invokeFunction('convertToInteractive',\n",
              "                                                     [key], {});\n",
              "          if (!dataTable) return;\n",
              "\n",
              "          const docLinkHtml = 'Like what you see? Visit the ' +\n",
              "            '<a target=\"_blank\" href=https://colab.research.google.com/notebooks/data_table.ipynb>data table notebook</a>'\n",
              "            + ' to learn more about interactive tables.';\n",
              "          element.innerHTML = '';\n",
              "          dataTable['output_type'] = 'display_data';\n",
              "          await google.colab.output.renderOutput(dataTable, element);\n",
              "          const docLink = document.createElement('div');\n",
              "          docLink.innerHTML = docLinkHtml;\n",
              "          element.appendChild(docLink);\n",
              "        }\n",
              "      </script>\n",
              "    </div>\n",
              "  </div>\n",
              "  "
            ],
            "text/plain": [
              "                                       tweet_content  ... sentiment_via_VADER\n",
              "0  The thought and action of a road accident free...  ...            positive\n",
              "1  In India, almost 2 lakh people lose their live...  ...            negative\n",
              "2  @DinakaranNews WRT @DinakaranNews Pls INFO @mk...  ...            negative\n",
              "3  Good Samaritans who rescue victims of serious ...  ...            positive\n",
              "4  @rongmeinbong @INCIndia @priyankagandhi Very t...  ...            negative\n",
              "\n",
              "[5 rows x 9 columns]"
            ]
          },
          "metadata": {},
          "execution_count": 35
        }
      ]
    },
    {
      "cell_type": "code",
      "source": [
        "df.columns"
      ],
      "metadata": {
        "colab": {
          "base_uri": "https://localhost:8080/"
        },
        "id": "J_jWGgbsizUy",
        "outputId": "e01799d5-094d-40de-ef26-f800b1be0146"
      },
      "execution_count": null,
      "outputs": [
        {
          "output_type": "execute_result",
          "data": {
            "text/plain": [
              "Index(['tweet_content', 'labels_zero_shot', 'respective_scores',\n",
              "       'best_labels_scores', 'best_labels',\n",
              "       'sentiments_one_shot_classifier_score',\n",
              "       'sentiments_one_shot_classifier', 'cleaned_text',\n",
              "       'sentiment_via_VADER'],\n",
              "      dtype='object')"
            ]
          },
          "metadata": {},
          "execution_count": 32
        }
      ]
    },
    {
      "cell_type": "code",
      "source": [
        "df.sentiments_one_shot_classifier.value_counts( normalize=True)"
      ],
      "metadata": {
        "colab": {
          "base_uri": "https://localhost:8080/"
        },
        "id": "aMD_BFo3sRhG",
        "outputId": "aea23b46-c676-41de-c321-aa34d3be8a21"
      },
      "execution_count": 89,
      "outputs": [
        {
          "output_type": "execute_result",
          "data": {
            "text/plain": [
              "negative    0.840293\n",
              "positive    0.159707\n",
              "Name: sentiments_one_shot_classifier, dtype: float64"
            ]
          },
          "metadata": {},
          "execution_count": 89
        }
      ]
    },
    {
      "cell_type": "code",
      "source": [
        "features = df['cleaned_text'].values\n",
        "labels = df['sentiments_one_shot_classifier'].values"
      ],
      "metadata": {
        "id": "F2Kfd_fgtKkd"
      },
      "execution_count": null,
      "outputs": []
    },
    {
      "cell_type": "markdown",
      "source": [
        "## **Let's Try BoW on subset of Data**"
      ],
      "metadata": {
        "id": "TRkMtfH8tPTu"
      }
    },
    {
      "cell_type": "code",
      "source": [
        ""
      ],
      "metadata": {
        "id": "CV2fdZlwBkcX"
      },
      "execution_count": null,
      "outputs": []
    },
    {
      "cell_type": "code",
      "source": [
        "# Create BOW in SKlearn\n",
        "wordVector = CountVectorizer(analyzer=final_preprocessing)\n",
        "\n",
        "#Build the Vocabulary\n",
        "finalWordVectorVocab = wordVector.fit(features[:10])\n",
        "\n",
        "# # To create BOW\n",
        "bagOfWords = finalWordVectorVocab.transform(features[:10])"
      ],
      "metadata": {
        "id": "iNMq8o6TtN8E"
      },
      "execution_count": null,
      "outputs": []
    },
    {
      "cell_type": "code",
      "source": [
        "print(finalWordVectorVocab.get_feature_names_out())"
      ],
      "metadata": {
        "colab": {
          "base_uri": "https://localhost:8080/"
        },
        "id": "v2-PeyLktQgn",
        "outputId": "73e654e0-b7f5-4dcf-d0cd-edc7e6e5e59d"
      },
      "execution_count": null,
      "outputs": [
        {
          "output_type": "stream",
          "name": "stdout",
          "text": [
            "['accid' 'accus' 'action' 'aid' 'aisay' 'amitshah' 'answer' 'anybodi'\n",
            " 'ashish' 'astronomi' 'averag' 'bajaj' 'bash' 'becom' 'bjp4india' 'bjp4up'\n",
            " 'block' 'bother' 'bramhraksha' 'broad' 'built' 'case' 'cash' 'caught'\n",
            " 'caus' 'check' 'cmhfcy9dxm' 'cmotamilnadu' 'colleg' 'complaint' 'control'\n",
            " 'death' 'deepak' 'detay' 'dinakarannew' 'elig' 'engin' 'famili' 'fatal'\n",
            " 'file' 'free' 'gadkari' 'gather' 'get' 'give' 'given' 'go' 'golden'\n",
            " 'good' 'govt' 'hand' 'happen' 'helmet' 'helmetman' 'hijrra' 'hour'\n",
            " 'human' 'incindia' 'indian' 'info' 'innoc' 'iraianbu' 'journalist'\n",
            " 'judgement' 'kill' 'lakh' 'lakhimpur' 'lane' 'leader' 'life' 'live'\n",
            " 'logon' 'lose' 'marwa' 'minist' 'minor' 'mishra' 'mkstalin' 'multi'\n",
            " 'murder' 'myogiadityanath' 'naiv' 'narendramodi' 'nhrc' 'nitin' 'noida'\n",
            " 'observ' 'other' 'part' 'person' 'pleasur' 'pothol' 'priyankagandhi'\n",
            " 'prize' 'problem' 'psycholog' 'rddbumnyuf' 'relat' 'requir' 'rescu'\n",
            " 'respons' 'reward' 'road' 'roadsafeti' 'rongmeinbong' 'rush' 'samaritan'\n",
            " 'seriou' 'session' 'shabazgil' 'share' 'siddarthpaim' 'spoil' 'student'\n",
            " 'system' 'take' 'thought' 'time' 'today' 'tractor' 'traffic' 'true'\n",
            " 'tweet' 'victim' 'violenc' 'wonder' 'yasminkidwai' 'zone']\n"
          ]
        }
      ]
    },
    {
      "cell_type": "markdown",
      "source": [
        "## **Train-Test Split and instantiating TF-IDF Vectorizer:**\n",
        "- Used **stratify = labels** in train_test_split so that imbalanced ratio is mentained in train-test-split.\n",
        "- Used **max_features = 4000** to restrict the vocabulary to 4000.\n",
        "- Used **min_df = 2** which selects only those words which atleast are seen 2 times.\n",
        "- Fit and Transformed X_train and Transformed X_test"
      ],
      "metadata": {
        "id": "ErUdjec_tTD_"
      }
    },
    {
      "cell_type": "code",
      "source": [
        "%%time\n",
        "# Splitting the data into Training and Testing set\n",
        "X_train, X_test, y_train, y_test = train_test_split(features, labels, stratify = labels,   test_size= 0.3,  random_state = 15)\n",
        "\n",
        "#Create TF-IDF using TfidfVectorizer\n",
        "tfidfVectorizer = TfidfVectorizer(analyzer=final_preprocessing) # Instantiating Tfidfvectorizer\n",
        "tfidfObject_train = tfidfVectorizer.fit_transform(X_train)                                        # Fit & transform on Training set\n",
        "tfidfObject_test = tfidfVectorizer.transform(X_test)                                              # Transform the testing set\n",
        "print(tfidfObject_train.shape, tfidfObject_test.shape)                                            # Checking Shape of training and testing set"
      ],
      "metadata": {
        "colab": {
          "base_uri": "https://localhost:8080/"
        },
        "id": "-Q0Y1X6wtRl-",
        "outputId": "461c0257-a482-49e2-a231-381125c802a0"
      },
      "execution_count": null,
      "outputs": [
        {
          "output_type": "stream",
          "name": "stdout",
          "text": [
            "(28480, 37881) (12207, 37881)\n",
            "CPU times: user 11min 29s, sys: 3.08 s, total: 11min 32s\n",
            "Wall time: 11min 31s\n"
          ]
        }
      ]
    },
    {
      "cell_type": "code",
      "source": [
        "from sklearn.linear_model import LogisticRegression\n",
        "from sklearn.svm import SVC\n",
        "from sklearn.naive_bayes import MultinomialNB\n",
        "from sklearn.tree import DecisionTreeClassifier\n",
        "from sklearn.neighbors import KNeighborsClassifier\n",
        "from sklearn.ensemble import RandomForestClassifier\n",
        "from sklearn.ensemble import AdaBoostClassifier\n",
        "from sklearn.ensemble import BaggingClassifier\n",
        "from sklearn.ensemble import ExtraTreesClassifier\n",
        "from sklearn.ensemble import GradientBoostingClassifier\n",
        "from xgboost import XGBClassifier"
      ],
      "metadata": {
        "id": "oVNL6fFJlSti"
      },
      "execution_count": null,
      "outputs": []
    },
    {
      "cell_type": "code",
      "source": [
        "svc = SVC(C=0.001, kernel=\"linear\", class_weight='balanced' )\n",
        "knc = KNeighborsClassifier()\n",
        "mnb = MultinomialNB()\n",
        "dtc = DecisionTreeClassifier()\n",
        "lrc = LogisticRegression(solver='liblinear', penalty='l1')\n",
        "rfc = RandomForestClassifier( random_state=7)\n",
        "abc = AdaBoostClassifier( random_state=7)\n",
        "bc = BaggingClassifier(random_state=7)\n",
        "etc = ExtraTreesClassifier(random_state=7)\n",
        "gbdt = GradientBoostingClassifier(random_state=7)\n",
        "xgb = XGBClassifier(random_state=7)"
      ],
      "metadata": {
        "id": "lw2qBnIwlU3T"
      },
      "execution_count": 60,
      "outputs": []
    },
    {
      "cell_type": "code",
      "source": [
        "clfs = {'SVC':svc,\n",
        "    'KN' : knc, \n",
        "    'NB': mnb, \n",
        "    'DT': dtc, \n",
        "    'LR': lrc, \n",
        "    'RF': rfc, \n",
        "    'AdaBoost': abc, \n",
        "    'BgC': bc, \n",
        "    'ETC': etc,\n",
        "    'GBDT':gbdt,\n",
        "    'xgb':xgb\n",
        "}"
      ],
      "metadata": {
        "id": "J4Bo1wVnlZp8"
      },
      "execution_count": 61,
      "outputs": []
    },
    {
      "cell_type": "code",
      "source": [
        "def train_classifier(clf,X_train,y_train,X_test,y_test):\n",
        "    clf.fit(X_train,y_train)\n",
        "    train_pred = clf.predict(X_train)\n",
        "    test_pred = clf.predict(X_test)\n",
        "    accuracy_train = metrics.accuracy_score(y_train,train_pred)\n",
        "    accuracy_test = metrics.accuracy_score(y_test,test_pred)\n",
        "    precision_train = metrics.precision_score(y_train,train_pred, labels=['negative', 'positive'], pos_label= 'positive')\n",
        "    precision_test = metrics.precision_score(y_test,test_pred, labels=['negative', 'positive'], pos_label= 'positive')\n",
        "    recall_train = metrics.recall_score(y_train,train_pred, labels=['negative', 'positive'], pos_label= 'positive')\n",
        "    recall_test = metrics.recall_score(y_test,test_pred, labels=['negative', 'positive'], pos_label= 'positive')\n",
        "    \n",
        "    return accuracy_train,accuracy_test, precision_train, precision_test, recall_train, recall_test"
      ],
      "metadata": {
        "id": "2XOlUx3tld2M"
      },
      "execution_count": 77,
      "outputs": []
    },
    {
      "cell_type": "code",
      "source": [
        "import warnings\n",
        "warnings.filterwarnings('ignore')"
      ],
      "metadata": {
        "id": "mqUi4XD5oR91"
      },
      "execution_count": 78,
      "outputs": []
    },
    {
      "cell_type": "code",
      "source": [
        "\n",
        "accuracy_scores_tr = []\n",
        "accuracy_scores_ts = []\n",
        "precision_tr_scores = []\n",
        "precision_ts_scores = []\n",
        "recall_tr_scores = []\n",
        "recall_ts_scores = []\n",
        "\n",
        "for name,clf in clfs.items():\n",
        "    \n",
        "    current_accuracy_tr,current_accuracy_ts,precision_tr, precision_ts, recall_tr, recall_ts = train_classifier(clf, tfidfObject_train,\n",
        "                                                                                                      y_train,tfidfObject_test,y_test)\n",
        "    \n",
        "    print(\"For \",name)\n",
        "    print(\"Accuracy Train - \",current_accuracy_tr)\n",
        "    print(\"Accuracy Test - \",current_accuracy_ts)\n",
        "    print(\"Precision Train - \\n\",precision_tr)\n",
        "    print(\"Precision Test - \\n\",precision_ts)\n",
        "    print(\"Recall Train - \\n\",recall_tr)\n",
        "    print(\"Recall Test - \\n\",recall_ts)\n",
        "    \n",
        "    accuracy_scores_tr.append(current_accuracy_tr)\n",
        "    accuracy_scores_ts.append(current_accuracy_ts)\n",
        "    precision_tr_scores.append(precision_tr)\n",
        "    precision_ts_scores.append(precision_ts)\n",
        "    recall_tr_scores.append(recall_tr)\n",
        "    recall_ts_scores.append(recall_ts)\n",
        "    print()\n",
        "    print(\"=\"*100)\n",
        "    print()"
      ],
      "metadata": {
        "colab": {
          "base_uri": "https://localhost:8080/"
        },
        "id": "H_wpkrO3mJVZ",
        "outputId": "9efb0c20-5e9f-4099-cd2c-a05686cd5be7"
      },
      "execution_count": 79,
      "outputs": [
        {
          "output_type": "stream",
          "name": "stdout",
          "text": [
            "For  SVC\n",
            "Accuracy Train -  0.945189606741573\n",
            "Accuracy Test -  0.890718440239207\n",
            "Precision Train - \n",
            " 0.7525790630813461\n",
            "Precision Test - \n",
            " 0.6202185792349727\n",
            "Recall Train - \n",
            " 0.9784520668425681\n",
            "Recall Test - \n",
            " 0.8148717948717948\n",
            "\n",
            "====================================================================================================\n",
            "\n",
            "For  KN\n",
            "Accuracy Train -  0.9059691011235955\n",
            "Accuracy Test -  0.8772835258458261\n",
            "Precision Train - \n",
            " 0.829225352112676\n",
            "Precision Test - \n",
            " 0.7014260249554367\n",
            "Recall Train - \n",
            " 0.5178100263852242\n",
            "Recall Test - \n",
            " 0.4035897435897436\n",
            "\n",
            "====================================================================================================\n",
            "\n",
            "For  NB\n",
            "Accuracy Train -  0.8828651685393258\n",
            "Accuracy Test -  0.8709756696977144\n",
            "Precision Train - \n",
            " 0.8914728682170543\n",
            "Precision Test - \n",
            " 0.858508604206501\n",
            "Recall Train - \n",
            " 0.3034300791556728\n",
            "Recall Test - \n",
            " 0.23025641025641025\n",
            "\n",
            "====================================================================================================\n",
            "\n",
            "For  DT\n",
            "Accuracy Train -  0.9992275280898877\n",
            "Accuracy Test -  0.8863766691242729\n",
            "Precision Train - \n",
            " 0.998677831643896\n",
            "Precision Test - \n",
            " 0.6557830658550083\n",
            "Recall Train - \n",
            " 0.9964819700967458\n",
            "Recall Test - \n",
            " 0.6076923076923076\n",
            "\n",
            "====================================================================================================\n",
            "\n",
            "For  LR\n",
            "Accuracy Train -  0.9135884831460674\n",
            "Accuracy Test -  0.9111984926681412\n",
            "Precision Train - \n",
            " 0.8245723172628305\n",
            "Precision Test - \n",
            " 0.7941576086956522\n",
            "Recall Train - \n",
            " 0.5828935795954265\n",
            "Recall Test - \n",
            " 0.5994871794871794\n",
            "\n",
            "====================================================================================================\n",
            "\n",
            "For  RF\n",
            "Accuracy Train -  0.9992275280898877\n",
            "Accuracy Test -  0.9120996149750144\n",
            "Precision Train - \n",
            " 0.9982386613826508\n",
            "Precision Test - \n",
            " 0.8681780016792612\n",
            "Recall Train - \n",
            " 0.9969217238346526\n",
            "Recall Test - \n",
            " 0.5302564102564102\n",
            "\n",
            "====================================================================================================\n",
            "\n",
            "For  AdaBoost\n",
            "Accuracy Train -  0.8822682584269663\n",
            "Accuracy Test -  0.8817891373801917\n",
            "Precision Train - \n",
            " 0.7095755875131533\n",
            "Precision Test - \n",
            " 0.7179707652622528\n",
            "Recall Train - \n",
            " 0.4448109058927001\n",
            "Recall Test - \n",
            " 0.4282051282051282\n",
            "\n",
            "====================================================================================================\n",
            "\n",
            "For  BgC\n",
            "Accuracy Train -  0.9888342696629213\n",
            "Accuracy Test -  0.9043171950520194\n",
            "Precision Train - \n",
            " 0.9927772600186393\n",
            "Precision Test - \n",
            " 0.7516087516087516\n",
            "Recall Train - \n",
            " 0.9368953386103782\n",
            "Recall Test - \n",
            " 0.598974358974359\n",
            "\n",
            "====================================================================================================\n",
            "\n",
            "For  ETC\n",
            "Accuracy Train -  0.9992275280898877\n",
            "Accuracy Test -  0.9137380191693291\n",
            "Precision Train - \n",
            " 0.998677831643896\n",
            "Precision Test - \n",
            " 0.8556701030927835\n",
            "Recall Train - \n",
            " 0.9964819700967458\n",
            "Recall Test - \n",
            " 0.5533333333333333\n",
            "\n",
            "====================================================================================================\n",
            "\n",
            "For  GBDT\n",
            "Accuracy Train -  0.8933637640449438\n",
            "Accuracy Test -  0.8901449987711969\n",
            "Precision Train - \n",
            " 0.8432530667878237\n",
            "Precision Test - \n",
            " 0.8123076923076923\n",
            "Recall Train - \n",
            " 0.4080914687774846\n",
            "Recall Test - \n",
            " 0.40615384615384614\n",
            "\n",
            "====================================================================================================\n",
            "\n",
            "For  xgb\n",
            "Accuracy Train -  0.8880266853932585\n",
            "Accuracy Test -  0.8865405095437044\n",
            "Precision Train - \n",
            " 0.833578792341679\n",
            "Precision Test - \n",
            " 0.8156424581005587\n",
            "Recall Train - \n",
            " 0.3733509234828496\n",
            "Recall Test - \n",
            " 0.37435897435897436\n",
            "\n",
            "====================================================================================================\n",
            "\n"
          ]
        }
      ]
    },
    {
      "cell_type": "code",
      "source": [
        "performance_df = pd.DataFrame({'Algorithm':clfs.keys(),'Accuracy Train':accuracy_scores_tr,'Accuracy Test':accuracy_scores_ts,\n",
        "                               'Precision Train':precision_tr_scores,'Precision Test':precision_ts_scores,\n",
        "                               'Recall Train':recall_tr_scores,'Recall Test':recall_ts_scores}).style.background_gradient(cmap = 'magma_r', subset = ['Recall Test', 'Precision Test', 'Accuracy Test'\t])\n",
        "performance_df"
      ],
      "metadata": {
        "id": "NS4gjmNLo4m_",
        "colab": {
          "base_uri": "https://localhost:8080/",
          "height": 394
        },
        "outputId": "43430418-d1cd-404b-a700-314c4fb76070"
      },
      "execution_count": 85,
      "outputs": [
        {
          "output_type": "execute_result",
          "data": {
            "text/html": [
              "<style  type=\"text/css\" >\n",
              "#T_30b35d1a_7c17_11ec_b81f_0242ac1c0002row0_col2{\n",
              "            background-color:  #c53c74;\n",
              "            color:  #f1f1f1;\n",
              "        }#T_30b35d1a_7c17_11ec_b81f_0242ac1c0002row0_col4,#T_30b35d1a_7c17_11ec_b81f_0242ac1c0002row2_col2,#T_30b35d1a_7c17_11ec_b81f_0242ac1c0002row2_col6{\n",
              "            background-color:  #fcfdbf;\n",
              "            color:  #000000;\n",
              "        }#T_30b35d1a_7c17_11ec_b81f_0242ac1c0002row0_col6,#T_30b35d1a_7c17_11ec_b81f_0242ac1c0002row5_col4,#T_30b35d1a_7c17_11ec_b81f_0242ac1c0002row8_col2{\n",
              "            background-color:  #000004;\n",
              "            color:  #f1f1f1;\n",
              "        }#T_30b35d1a_7c17_11ec_b81f_0242ac1c0002row1_col2{\n",
              "            background-color:  #feb97f;\n",
              "            color:  #000000;\n",
              "        }#T_30b35d1a_7c17_11ec_b81f_0242ac1c0002row1_col4{\n",
              "            background-color:  #f2645c;\n",
              "            color:  #000000;\n",
              "        }#T_30b35d1a_7c17_11ec_b81f_0242ac1c0002row1_col6{\n",
              "            background-color:  #f7725c;\n",
              "            color:  #000000;\n",
              "        }#T_30b35d1a_7c17_11ec_b81f_0242ac1c0002row2_col4,#T_30b35d1a_7c17_11ec_b81f_0242ac1c0002row5_col2{\n",
              "            background-color:  #040414;\n",
              "            color:  #f1f1f1;\n",
              "        }#T_30b35d1a_7c17_11ec_b81f_0242ac1c0002row3_col2{\n",
              "            background-color:  #ea5661;\n",
              "            color:  #000000;\n",
              "        }#T_30b35d1a_7c17_11ec_b81f_0242ac1c0002row3_col4{\n",
              "            background-color:  #febb81;\n",
              "            color:  #000000;\n",
              "        }#T_30b35d1a_7c17_11ec_b81f_0242ac1c0002row3_col6{\n",
              "            background-color:  #792282;\n",
              "            color:  #f1f1f1;\n",
              "        }#T_30b35d1a_7c17_11ec_b81f_0242ac1c0002row4_col2{\n",
              "            background-color:  #090720;\n",
              "            color:  #f1f1f1;\n",
              "        }#T_30b35d1a_7c17_11ec_b81f_0242ac1c0002row4_col4{\n",
              "            background-color:  #641a80;\n",
              "            color:  #f1f1f1;\n",
              "        }#T_30b35d1a_7c17_11ec_b81f_0242ac1c0002row4_col6,#T_30b35d1a_7c17_11ec_b81f_0242ac1c0002row7_col6{\n",
              "            background-color:  #802582;\n",
              "            color:  #f1f1f1;\n",
              "        }#T_30b35d1a_7c17_11ec_b81f_0242ac1c0002row5_col6{\n",
              "            background-color:  #b0357b;\n",
              "            color:  #f1f1f1;\n",
              "        }#T_30b35d1a_7c17_11ec_b81f_0242ac1c0002row6_col2{\n",
              "            background-color:  #fb8761;\n",
              "            color:  #000000;\n",
              "        }#T_30b35d1a_7c17_11ec_b81f_0242ac1c0002row6_col4{\n",
              "            background-color:  #e04c67;\n",
              "            color:  #000000;\n",
              "        }#T_30b35d1a_7c17_11ec_b81f_0242ac1c0002row6_col6{\n",
              "            background-color:  #f05f5e;\n",
              "            color:  #000000;\n",
              "        }#T_30b35d1a_7c17_11ec_b81f_0242ac1c0002row7_col2{\n",
              "            background-color:  #440f76;\n",
              "            color:  #f1f1f1;\n",
              "        }#T_30b35d1a_7c17_11ec_b81f_0242ac1c0002row7_col4{\n",
              "            background-color:  #aa337d;\n",
              "            color:  #f1f1f1;\n",
              "        }#T_30b35d1a_7c17_11ec_b81f_0242ac1c0002row8_col4{\n",
              "            background-color:  #06051a;\n",
              "            color:  #f1f1f1;\n",
              "        }#T_30b35d1a_7c17_11ec_b81f_0242ac1c0002row8_col6{\n",
              "            background-color:  #a02f7f;\n",
              "            color:  #f1f1f1;\n",
              "        }#T_30b35d1a_7c17_11ec_b81f_0242ac1c0002row9_col2{\n",
              "            background-color:  #cc3f71;\n",
              "            color:  #f1f1f1;\n",
              "        }#T_30b35d1a_7c17_11ec_b81f_0242ac1c0002row9_col4{\n",
              "            background-color:  #451077;\n",
              "            color:  #f1f1f1;\n",
              "        }#T_30b35d1a_7c17_11ec_b81f_0242ac1c0002row9_col6{\n",
              "            background-color:  #f66e5c;\n",
              "            color:  #000000;\n",
              "        }#T_30b35d1a_7c17_11ec_b81f_0242ac1c0002row10_col2{\n",
              "            background-color:  #e95462;\n",
              "            color:  #000000;\n",
              "        }#T_30b35d1a_7c17_11ec_b81f_0242ac1c0002row10_col4{\n",
              "            background-color:  #400f74;\n",
              "            color:  #f1f1f1;\n",
              "        }#T_30b35d1a_7c17_11ec_b81f_0242ac1c0002row10_col6{\n",
              "            background-color:  #fc8961;\n",
              "            color:  #000000;\n",
              "        }</style><table id=\"T_30b35d1a_7c17_11ec_b81f_0242ac1c0002\" class=\"dataframe\"><thead>    <tr>        <th class=\"blank level0\" ></th>        <th class=\"col_heading level0 col0\" >Algorithm</th>        <th class=\"col_heading level0 col1\" >Accuracy Train</th>        <th class=\"col_heading level0 col2\" >Accuracy Test</th>        <th class=\"col_heading level0 col3\" >Precision Train</th>        <th class=\"col_heading level0 col4\" >Precision Test</th>        <th class=\"col_heading level0 col5\" >Recall Train</th>        <th class=\"col_heading level0 col6\" >Recall Test</th>    </tr></thead><tbody>\n",
              "                <tr>\n",
              "                        <th id=\"T_30b35d1a_7c17_11ec_b81f_0242ac1c0002level0_row0\" class=\"row_heading level0 row0\" >0</th>\n",
              "                        <td id=\"T_30b35d1a_7c17_11ec_b81f_0242ac1c0002row0_col0\" class=\"data row0 col0\" >SVC</td>\n",
              "                        <td id=\"T_30b35d1a_7c17_11ec_b81f_0242ac1c0002row0_col1\" class=\"data row0 col1\" >0.945190</td>\n",
              "                        <td id=\"T_30b35d1a_7c17_11ec_b81f_0242ac1c0002row0_col2\" class=\"data row0 col2\" >0.890718</td>\n",
              "                        <td id=\"T_30b35d1a_7c17_11ec_b81f_0242ac1c0002row0_col3\" class=\"data row0 col3\" >0.752579</td>\n",
              "                        <td id=\"T_30b35d1a_7c17_11ec_b81f_0242ac1c0002row0_col4\" class=\"data row0 col4\" >0.620219</td>\n",
              "                        <td id=\"T_30b35d1a_7c17_11ec_b81f_0242ac1c0002row0_col5\" class=\"data row0 col5\" >0.978452</td>\n",
              "                        <td id=\"T_30b35d1a_7c17_11ec_b81f_0242ac1c0002row0_col6\" class=\"data row0 col6\" >0.814872</td>\n",
              "            </tr>\n",
              "            <tr>\n",
              "                        <th id=\"T_30b35d1a_7c17_11ec_b81f_0242ac1c0002level0_row1\" class=\"row_heading level0 row1\" >1</th>\n",
              "                        <td id=\"T_30b35d1a_7c17_11ec_b81f_0242ac1c0002row1_col0\" class=\"data row1 col0\" >KN</td>\n",
              "                        <td id=\"T_30b35d1a_7c17_11ec_b81f_0242ac1c0002row1_col1\" class=\"data row1 col1\" >0.905969</td>\n",
              "                        <td id=\"T_30b35d1a_7c17_11ec_b81f_0242ac1c0002row1_col2\" class=\"data row1 col2\" >0.877284</td>\n",
              "                        <td id=\"T_30b35d1a_7c17_11ec_b81f_0242ac1c0002row1_col3\" class=\"data row1 col3\" >0.829225</td>\n",
              "                        <td id=\"T_30b35d1a_7c17_11ec_b81f_0242ac1c0002row1_col4\" class=\"data row1 col4\" >0.701426</td>\n",
              "                        <td id=\"T_30b35d1a_7c17_11ec_b81f_0242ac1c0002row1_col5\" class=\"data row1 col5\" >0.517810</td>\n",
              "                        <td id=\"T_30b35d1a_7c17_11ec_b81f_0242ac1c0002row1_col6\" class=\"data row1 col6\" >0.403590</td>\n",
              "            </tr>\n",
              "            <tr>\n",
              "                        <th id=\"T_30b35d1a_7c17_11ec_b81f_0242ac1c0002level0_row2\" class=\"row_heading level0 row2\" >2</th>\n",
              "                        <td id=\"T_30b35d1a_7c17_11ec_b81f_0242ac1c0002row2_col0\" class=\"data row2 col0\" >NB</td>\n",
              "                        <td id=\"T_30b35d1a_7c17_11ec_b81f_0242ac1c0002row2_col1\" class=\"data row2 col1\" >0.882865</td>\n",
              "                        <td id=\"T_30b35d1a_7c17_11ec_b81f_0242ac1c0002row2_col2\" class=\"data row2 col2\" >0.870976</td>\n",
              "                        <td id=\"T_30b35d1a_7c17_11ec_b81f_0242ac1c0002row2_col3\" class=\"data row2 col3\" >0.891473</td>\n",
              "                        <td id=\"T_30b35d1a_7c17_11ec_b81f_0242ac1c0002row2_col4\" class=\"data row2 col4\" >0.858509</td>\n",
              "                        <td id=\"T_30b35d1a_7c17_11ec_b81f_0242ac1c0002row2_col5\" class=\"data row2 col5\" >0.303430</td>\n",
              "                        <td id=\"T_30b35d1a_7c17_11ec_b81f_0242ac1c0002row2_col6\" class=\"data row2 col6\" >0.230256</td>\n",
              "            </tr>\n",
              "            <tr>\n",
              "                        <th id=\"T_30b35d1a_7c17_11ec_b81f_0242ac1c0002level0_row3\" class=\"row_heading level0 row3\" >3</th>\n",
              "                        <td id=\"T_30b35d1a_7c17_11ec_b81f_0242ac1c0002row3_col0\" class=\"data row3 col0\" >DT</td>\n",
              "                        <td id=\"T_30b35d1a_7c17_11ec_b81f_0242ac1c0002row3_col1\" class=\"data row3 col1\" >0.999228</td>\n",
              "                        <td id=\"T_30b35d1a_7c17_11ec_b81f_0242ac1c0002row3_col2\" class=\"data row3 col2\" >0.886377</td>\n",
              "                        <td id=\"T_30b35d1a_7c17_11ec_b81f_0242ac1c0002row3_col3\" class=\"data row3 col3\" >0.998678</td>\n",
              "                        <td id=\"T_30b35d1a_7c17_11ec_b81f_0242ac1c0002row3_col4\" class=\"data row3 col4\" >0.655783</td>\n",
              "                        <td id=\"T_30b35d1a_7c17_11ec_b81f_0242ac1c0002row3_col5\" class=\"data row3 col5\" >0.996482</td>\n",
              "                        <td id=\"T_30b35d1a_7c17_11ec_b81f_0242ac1c0002row3_col6\" class=\"data row3 col6\" >0.607692</td>\n",
              "            </tr>\n",
              "            <tr>\n",
              "                        <th id=\"T_30b35d1a_7c17_11ec_b81f_0242ac1c0002level0_row4\" class=\"row_heading level0 row4\" >4</th>\n",
              "                        <td id=\"T_30b35d1a_7c17_11ec_b81f_0242ac1c0002row4_col0\" class=\"data row4 col0\" >LR</td>\n",
              "                        <td id=\"T_30b35d1a_7c17_11ec_b81f_0242ac1c0002row4_col1\" class=\"data row4 col1\" >0.913588</td>\n",
              "                        <td id=\"T_30b35d1a_7c17_11ec_b81f_0242ac1c0002row4_col2\" class=\"data row4 col2\" >0.911198</td>\n",
              "                        <td id=\"T_30b35d1a_7c17_11ec_b81f_0242ac1c0002row4_col3\" class=\"data row4 col3\" >0.824572</td>\n",
              "                        <td id=\"T_30b35d1a_7c17_11ec_b81f_0242ac1c0002row4_col4\" class=\"data row4 col4\" >0.794158</td>\n",
              "                        <td id=\"T_30b35d1a_7c17_11ec_b81f_0242ac1c0002row4_col5\" class=\"data row4 col5\" >0.582894</td>\n",
              "                        <td id=\"T_30b35d1a_7c17_11ec_b81f_0242ac1c0002row4_col6\" class=\"data row4 col6\" >0.599487</td>\n",
              "            </tr>\n",
              "            <tr>\n",
              "                        <th id=\"T_30b35d1a_7c17_11ec_b81f_0242ac1c0002level0_row5\" class=\"row_heading level0 row5\" >5</th>\n",
              "                        <td id=\"T_30b35d1a_7c17_11ec_b81f_0242ac1c0002row5_col0\" class=\"data row5 col0\" >RF</td>\n",
              "                        <td id=\"T_30b35d1a_7c17_11ec_b81f_0242ac1c0002row5_col1\" class=\"data row5 col1\" >0.999228</td>\n",
              "                        <td id=\"T_30b35d1a_7c17_11ec_b81f_0242ac1c0002row5_col2\" class=\"data row5 col2\" >0.912100</td>\n",
              "                        <td id=\"T_30b35d1a_7c17_11ec_b81f_0242ac1c0002row5_col3\" class=\"data row5 col3\" >0.998239</td>\n",
              "                        <td id=\"T_30b35d1a_7c17_11ec_b81f_0242ac1c0002row5_col4\" class=\"data row5 col4\" >0.868178</td>\n",
              "                        <td id=\"T_30b35d1a_7c17_11ec_b81f_0242ac1c0002row5_col5\" class=\"data row5 col5\" >0.996922</td>\n",
              "                        <td id=\"T_30b35d1a_7c17_11ec_b81f_0242ac1c0002row5_col6\" class=\"data row5 col6\" >0.530256</td>\n",
              "            </tr>\n",
              "            <tr>\n",
              "                        <th id=\"T_30b35d1a_7c17_11ec_b81f_0242ac1c0002level0_row6\" class=\"row_heading level0 row6\" >6</th>\n",
              "                        <td id=\"T_30b35d1a_7c17_11ec_b81f_0242ac1c0002row6_col0\" class=\"data row6 col0\" >AdaBoost</td>\n",
              "                        <td id=\"T_30b35d1a_7c17_11ec_b81f_0242ac1c0002row6_col1\" class=\"data row6 col1\" >0.882268</td>\n",
              "                        <td id=\"T_30b35d1a_7c17_11ec_b81f_0242ac1c0002row6_col2\" class=\"data row6 col2\" >0.881789</td>\n",
              "                        <td id=\"T_30b35d1a_7c17_11ec_b81f_0242ac1c0002row6_col3\" class=\"data row6 col3\" >0.709576</td>\n",
              "                        <td id=\"T_30b35d1a_7c17_11ec_b81f_0242ac1c0002row6_col4\" class=\"data row6 col4\" >0.717971</td>\n",
              "                        <td id=\"T_30b35d1a_7c17_11ec_b81f_0242ac1c0002row6_col5\" class=\"data row6 col5\" >0.444811</td>\n",
              "                        <td id=\"T_30b35d1a_7c17_11ec_b81f_0242ac1c0002row6_col6\" class=\"data row6 col6\" >0.428205</td>\n",
              "            </tr>\n",
              "            <tr>\n",
              "                        <th id=\"T_30b35d1a_7c17_11ec_b81f_0242ac1c0002level0_row7\" class=\"row_heading level0 row7\" >7</th>\n",
              "                        <td id=\"T_30b35d1a_7c17_11ec_b81f_0242ac1c0002row7_col0\" class=\"data row7 col0\" >BgC</td>\n",
              "                        <td id=\"T_30b35d1a_7c17_11ec_b81f_0242ac1c0002row7_col1\" class=\"data row7 col1\" >0.988834</td>\n",
              "                        <td id=\"T_30b35d1a_7c17_11ec_b81f_0242ac1c0002row7_col2\" class=\"data row7 col2\" >0.904317</td>\n",
              "                        <td id=\"T_30b35d1a_7c17_11ec_b81f_0242ac1c0002row7_col3\" class=\"data row7 col3\" >0.992777</td>\n",
              "                        <td id=\"T_30b35d1a_7c17_11ec_b81f_0242ac1c0002row7_col4\" class=\"data row7 col4\" >0.751609</td>\n",
              "                        <td id=\"T_30b35d1a_7c17_11ec_b81f_0242ac1c0002row7_col5\" class=\"data row7 col5\" >0.936895</td>\n",
              "                        <td id=\"T_30b35d1a_7c17_11ec_b81f_0242ac1c0002row7_col6\" class=\"data row7 col6\" >0.598974</td>\n",
              "            </tr>\n",
              "            <tr>\n",
              "                        <th id=\"T_30b35d1a_7c17_11ec_b81f_0242ac1c0002level0_row8\" class=\"row_heading level0 row8\" >8</th>\n",
              "                        <td id=\"T_30b35d1a_7c17_11ec_b81f_0242ac1c0002row8_col0\" class=\"data row8 col0\" >ETC</td>\n",
              "                        <td id=\"T_30b35d1a_7c17_11ec_b81f_0242ac1c0002row8_col1\" class=\"data row8 col1\" >0.999228</td>\n",
              "                        <td id=\"T_30b35d1a_7c17_11ec_b81f_0242ac1c0002row8_col2\" class=\"data row8 col2\" >0.913738</td>\n",
              "                        <td id=\"T_30b35d1a_7c17_11ec_b81f_0242ac1c0002row8_col3\" class=\"data row8 col3\" >0.998678</td>\n",
              "                        <td id=\"T_30b35d1a_7c17_11ec_b81f_0242ac1c0002row8_col4\" class=\"data row8 col4\" >0.855670</td>\n",
              "                        <td id=\"T_30b35d1a_7c17_11ec_b81f_0242ac1c0002row8_col5\" class=\"data row8 col5\" >0.996482</td>\n",
              "                        <td id=\"T_30b35d1a_7c17_11ec_b81f_0242ac1c0002row8_col6\" class=\"data row8 col6\" >0.553333</td>\n",
              "            </tr>\n",
              "            <tr>\n",
              "                        <th id=\"T_30b35d1a_7c17_11ec_b81f_0242ac1c0002level0_row9\" class=\"row_heading level0 row9\" >9</th>\n",
              "                        <td id=\"T_30b35d1a_7c17_11ec_b81f_0242ac1c0002row9_col0\" class=\"data row9 col0\" >GBDT</td>\n",
              "                        <td id=\"T_30b35d1a_7c17_11ec_b81f_0242ac1c0002row9_col1\" class=\"data row9 col1\" >0.893364</td>\n",
              "                        <td id=\"T_30b35d1a_7c17_11ec_b81f_0242ac1c0002row9_col2\" class=\"data row9 col2\" >0.890145</td>\n",
              "                        <td id=\"T_30b35d1a_7c17_11ec_b81f_0242ac1c0002row9_col3\" class=\"data row9 col3\" >0.843253</td>\n",
              "                        <td id=\"T_30b35d1a_7c17_11ec_b81f_0242ac1c0002row9_col4\" class=\"data row9 col4\" >0.812308</td>\n",
              "                        <td id=\"T_30b35d1a_7c17_11ec_b81f_0242ac1c0002row9_col5\" class=\"data row9 col5\" >0.408091</td>\n",
              "                        <td id=\"T_30b35d1a_7c17_11ec_b81f_0242ac1c0002row9_col6\" class=\"data row9 col6\" >0.406154</td>\n",
              "            </tr>\n",
              "            <tr>\n",
              "                        <th id=\"T_30b35d1a_7c17_11ec_b81f_0242ac1c0002level0_row10\" class=\"row_heading level0 row10\" >10</th>\n",
              "                        <td id=\"T_30b35d1a_7c17_11ec_b81f_0242ac1c0002row10_col0\" class=\"data row10 col0\" >xgb</td>\n",
              "                        <td id=\"T_30b35d1a_7c17_11ec_b81f_0242ac1c0002row10_col1\" class=\"data row10 col1\" >0.888027</td>\n",
              "                        <td id=\"T_30b35d1a_7c17_11ec_b81f_0242ac1c0002row10_col2\" class=\"data row10 col2\" >0.886541</td>\n",
              "                        <td id=\"T_30b35d1a_7c17_11ec_b81f_0242ac1c0002row10_col3\" class=\"data row10 col3\" >0.833579</td>\n",
              "                        <td id=\"T_30b35d1a_7c17_11ec_b81f_0242ac1c0002row10_col4\" class=\"data row10 col4\" >0.815642</td>\n",
              "                        <td id=\"T_30b35d1a_7c17_11ec_b81f_0242ac1c0002row10_col5\" class=\"data row10 col5\" >0.373351</td>\n",
              "                        <td id=\"T_30b35d1a_7c17_11ec_b81f_0242ac1c0002row10_col6\" class=\"data row10 col6\" >0.374359</td>\n",
              "            </tr>\n",
              "    </tbody></table>"
            ],
            "text/plain": [
              "<pandas.io.formats.style.Styler at 0x7f7deda79f10>"
            ]
          },
          "metadata": {},
          "execution_count": 85
        }
      ]
    },
    {
      "cell_type": "code",
      "source": [
        "%%time\n",
        "# from sklearn.ensemble import RandomForestClassifier\n",
        "# model = RandomForestClassifier()\n",
        "lrc.fit(tfidfObject_train,y_train)\n",
        "\n",
        "preds_train = etc.predict(tfidfObject_train)                                            # Prediction on training set\n",
        "preds_test = etc.predict(tfidfObject_test)                                              # Prediction on training set\n",
        "\n",
        "training_metrics = metrics.classification_report(y_train, preds_train)                    # Getting Classification report of Training set predictions\n",
        "testing_metrics = metrics.classification_report(y_test, preds_test)                       # Getting Classification report of Test set predictions\n",
        "\n",
        "print(f\"Training Confusion Matrix: \\n{metrics.confusion_matrix(y_train, preds_train)}\\n\") # Printing Confusion Matrix (training)\n",
        "print(f\"Training Classification Report: \\n{training_metrics}\")                            # Printing Classification report (testing)\n",
        "print(\"=\"*100)\n",
        "print(f\"Testing Confusion Matrix: \\n{metrics.confusion_matrix(y_test, preds_test)}\\n\")    # Printing Confusion Matrix (training)\n",
        "print(f\"Testing Classification Report: \\n{testing_metrics}\")                              # Printing Classification report (testing)"
      ],
      "metadata": {
        "colab": {
          "base_uri": "https://localhost:8080/"
        },
        "id": "znqwQb2RtVBZ",
        "outputId": "b0a38086-de2e-4fe3-e93c-c7cde9700b15"
      },
      "execution_count": 86,
      "outputs": [
        {
          "output_type": "stream",
          "name": "stdout",
          "text": [
            "Training Confusion Matrix: \n",
            "[[23926     6]\n",
            " [   16  4532]]\n",
            "\n",
            "Training Classification Report: \n",
            "              precision    recall  f1-score   support\n",
            "\n",
            "    negative       1.00      1.00      1.00     23932\n",
            "    positive       1.00      1.00      1.00      4548\n",
            "\n",
            "    accuracy                           1.00     28480\n",
            "   macro avg       1.00      1.00      1.00     28480\n",
            "weighted avg       1.00      1.00      1.00     28480\n",
            "\n",
            "====================================================================================================\n",
            "Testing Confusion Matrix: \n",
            "[[10075   182]\n",
            " [  871  1079]]\n",
            "\n",
            "Testing Classification Report: \n",
            "              precision    recall  f1-score   support\n",
            "\n",
            "    negative       0.92      0.98      0.95     10257\n",
            "    positive       0.86      0.55      0.67      1950\n",
            "\n",
            "    accuracy                           0.91     12207\n",
            "   macro avg       0.89      0.77      0.81     12207\n",
            "weighted avg       0.91      0.91      0.91     12207\n",
            "\n",
            "CPU times: user 10.3 s, sys: 23.9 ms, total: 10.3 s\n",
            "Wall time: 10.3 s\n"
          ]
        }
      ]
    },
    {
      "cell_type": "markdown",
      "source": [
        "## **Hyper-parameter tuning**\n",
        "\n"
      ],
      "metadata": {
        "id": "w8tYlHV7w2Eq"
      }
    },
    {
      "cell_type": "code",
      "source": [
        "\"\"\"Params\"\"\"\n",
        "params = {'C': [0.01,0.01,0.05,0.5],                                   # Setting up parameter for SVC to be tried out in GridSearch CV\n",
        "              # 'degree': [1,4,8]\n",
        "          }                            \n",
        "clf = SVC( kernel=\"linear\", class_weight='balanced')                   # initializing SVC\n",
        "model = GridSearchCV(clf, param_grid = params , cv=StratifiedKFold(5), # GridSearchCV with StratifedKfold and scoring = recall and f1, final decision = recall\n",
        "                     scoring=['recall', 'f1'], refit='recall')\n",
        "model.fit(tfidfObject_train,y_train)                                   # Fitting the GridSearchModel on training set"
      ],
      "metadata": {
        "colab": {
          "base_uri": "https://localhost:8080/"
        },
        "id": "iWWpWy9rwz3G",
        "outputId": "44773b32-05ec-4327-bf1d-71c8d874eed7"
      },
      "execution_count": null,
      "outputs": [
        {
          "output_type": "execute_result",
          "data": {
            "text/plain": [
              "GridSearchCV(cv=StratifiedKFold(n_splits=5, random_state=None, shuffle=False),\n",
              "             estimator=SVC(class_weight='balanced', kernel='linear'),\n",
              "             param_grid={'C': [0.01, 0.01, 0.05, 0.5]}, refit='recall',\n",
              "             scoring=['recall', 'f1'])"
            ]
          },
          "metadata": {},
          "execution_count": 20
        }
      ]
    },
    {
      "cell_type": "code",
      "source": [
        "model.best_estimator_  # Best Estimator after applying GridsearchCV"
      ],
      "metadata": {
        "colab": {
          "base_uri": "https://localhost:8080/"
        },
        "id": "ZnVAY_h_xUYy",
        "outputId": "0e730b2a-e931-4261-a877-13231779a25b"
      },
      "execution_count": null,
      "outputs": [
        {
          "output_type": "execute_result",
          "data": {
            "text/plain": [
              "SVC(C=0.01, class_weight='balanced', kernel='linear')"
            ]
          },
          "metadata": {},
          "execution_count": 21
        }
      ]
    },
    {
      "cell_type": "code",
      "source": [
        "model.best_score_ # Best Score after appying GridSearchCV"
      ],
      "metadata": {
        "colab": {
          "base_uri": "https://localhost:8080/"
        },
        "id": "ZMp0Sf5xxXgZ",
        "outputId": "6f2d09f7-3796-4392-d84f-c131daa04640"
      },
      "execution_count": null,
      "outputs": [
        {
          "output_type": "execute_result",
          "data": {
            "text/plain": [
              "0.8"
            ]
          },
          "metadata": {},
          "execution_count": 22
        }
      ]
    },
    {
      "cell_type": "markdown",
      "source": [
        "### **Prediction using SVC (optimized)**"
      ],
      "metadata": {
        "id": "ld8B4Aq_xZux"
      }
    },
    {
      "cell_type": "code",
      "source": [
        "model = SVC(C=0.01, class_weight='balanced', kernel='linear')\n",
        "model.fit(tfidfObject_train, y_train)\n",
        "preds_train = model.predict(tfidfObject_train)                                            # Prediction on training set\n",
        "preds_test = model.predict(tfidfObject_test)                                              # Prediction on training set\n",
        "\n",
        "training_metrics = metrics.classification_report(y_train, preds_train)                    # Getting Classification report of Training set predictions\n",
        "testing_metrics = metrics.classification_report(y_test, preds_test)                       # Getting Classification report of Test set predictions\n",
        "\n",
        "print(f\"Training Confusion Matrix: \\n{metrics.confusion_matrix(y_train, preds_train)}\\n\") # Printing Confusion Matrix (training)\n",
        "print(f\"Training Classification Report: \\n{training_metrics}\")                            # Printing Classification report (testing)\n",
        "print(\"=\"*100)\n",
        "print(f\"Testing Confusion Matrix: \\n{metrics.confusion_matrix(y_test, preds_test)}\\n\")    # Printing Confusion Matrix (training)\n",
        "print(f\"Testing Classification Report: \\n{testing_metrics}\")                              # Printing Classification report (testing)"
      ],
      "metadata": {
        "colab": {
          "base_uri": "https://localhost:8080/"
        },
        "id": "VN8zOBSQxYQ_",
        "outputId": "74a8e349-771e-401a-d1b9-abe33a683400"
      },
      "execution_count": 128,
      "outputs": [
        {
          "output_type": "stream",
          "name": "stdout",
          "text": [
            "Training Confusion Matrix: \n",
            "[[21495  2437]\n",
            " [ 1309  3239]]\n",
            "\n",
            "Training Classification Report: \n",
            "              precision    recall  f1-score   support\n",
            "\n",
            "    negative       0.94      0.90      0.92     23932\n",
            "    positive       0.57      0.71      0.63      4548\n",
            "\n",
            "    accuracy                           0.87     28480\n",
            "   macro avg       0.76      0.81      0.78     28480\n",
            "weighted avg       0.88      0.87      0.87     28480\n",
            "\n",
            "====================================================================================================\n",
            "Testing Confusion Matrix: \n",
            "[[9220 1037]\n",
            " [ 551 1399]]\n",
            "\n",
            "Testing Classification Report: \n",
            "              precision    recall  f1-score   support\n",
            "\n",
            "    negative       0.94      0.90      0.92     10257\n",
            "    positive       0.57      0.72      0.64      1950\n",
            "\n",
            "    accuracy                           0.87     12207\n",
            "   macro avg       0.76      0.81      0.78     12207\n",
            "weighted avg       0.88      0.87      0.88     12207\n",
            "\n"
          ]
        }
      ]
    },
    {
      "cell_type": "markdown",
      "source": [
        "## **Saving the model**"
      ],
      "metadata": {
        "id": "iWxMkyO3HjFE"
      }
    },
    {
      "cell_type": "code",
      "source": [
        "suff_  = round(metrics.f1_score(y_test, preds_test,average = 'macro' ), 3)\n",
        "suff_"
      ],
      "metadata": {
        "colab": {
          "base_uri": "https://localhost:8080/"
        },
        "id": "n89PActFIGqj",
        "outputId": "688029aa-b217-4fac-f85f-0ffffa44bf33"
      },
      "execution_count": 143,
      "outputs": [
        {
          "output_type": "execute_result",
          "data": {
            "text/plain": [
              "0.779"
            ]
          },
          "metadata": {},
          "execution_count": 143
        }
      ]
    },
    {
      "cell_type": "code",
      "source": [
        "import pickle\n",
        "\"\"\"Save the Bagging CLF model\"\"\"\n",
        "output_file = f'model_svc_{suff_}.bin'\n",
        "\n",
        "with open(output_file, 'wb') as f_out:\n",
        "    pickle.dump(model, f_out)"
      ],
      "metadata": {
        "id": "2ew3gdBEHl08"
      },
      "execution_count": 145,
      "outputs": []
    },
    {
      "cell_type": "code",
      "source": [
        ""
      ],
      "metadata": {
        "id": "kqUzTzeAHsU7"
      },
      "execution_count": null,
      "outputs": []
    }
  ],
  "metadata": {
    "interpreter": {
      "hash": "152bf6e7dc8ee53edb5af21dc1a8faeab7f134840808a94079ed98d91ece7e0c"
    },
    "kernelspec": {
      "display_name": "Python 3",
      "language": "python",
      "name": "python3"
    },
    "language_info": {
      "codemirror_mode": {
        "name": "ipython",
        "version": 3
      },
      "file_extension": ".py",
      "mimetype": "text/x-python",
      "name": "python",
      "nbconvert_exporter": "python",
      "pygments_lexer": "ipython3",
      "version": "3.7.9"
    },
    "colab": {
      "name": "Multi-Class Classification on Twitter data.ipynb",
      "provenance": []
    }
  },
  "nbformat": 4,
  "nbformat_minor": 0
}