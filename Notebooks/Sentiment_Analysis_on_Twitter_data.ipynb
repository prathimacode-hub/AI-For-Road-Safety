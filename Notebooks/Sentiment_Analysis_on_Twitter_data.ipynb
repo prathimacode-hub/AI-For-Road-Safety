{
  "cells": [
    {
      "cell_type": "markdown",
      "metadata": {
        "id": "rKCEks2Mq9ZT"
      },
      "source": [
        "## **Loading required Libraries**"
      ]
    },
    {
      "cell_type": "code",
      "execution_count": 21,
      "metadata": {
        "colab": {
          "base_uri": "https://localhost:8080/"
        },
        "id": "WbO-uNGc0gMv",
        "outputId": "65fc9d06-abc2-40d3-f284-4cfd128de8e6"
      },
      "outputs": [
        {
          "output_type": "stream",
          "name": "stdout",
          "text": [
            "Drive already mounted at /content/drive; to attempt to forcibly remount, call drive.mount(\"/content/drive\", force_remount=True).\n"
          ]
        }
      ],
      "source": [
        "from google.colab import drive\n",
        "drive.mount('/content/drive')"
      ]
    },
    {
      "cell_type": "code",
      "execution_count": 22,
      "metadata": {
        "colab": {
          "base_uri": "https://localhost:8080/"
        },
        "id": "Gyrhs-BP3W_i",
        "outputId": "2b39efd7-3816-4bee-971f-949b6c723c51"
      },
      "outputs": [
        {
          "output_type": "stream",
          "name": "stdout",
          "text": [
            "--2022-02-08 11:35:55--  https://github.com/snikhil17/Road_Safety/raw/main/Data/Tweets%2041k.zip\n",
            "Resolving github.com (github.com)... 140.82.112.3\n",
            "Connecting to github.com (github.com)|140.82.112.3|:443... connected.\n",
            "HTTP request sent, awaiting response... 302 Found\n",
            "Location: https://raw.githubusercontent.com/snikhil17/Road_Safety/main/Data/Tweets%2041k.zip [following]\n",
            "--2022-02-08 11:35:55--  https://raw.githubusercontent.com/snikhil17/Road_Safety/main/Data/Tweets%2041k.zip\n",
            "Resolving raw.githubusercontent.com (raw.githubusercontent.com)... 185.199.109.133, 185.199.108.133, 185.199.110.133, ...\n",
            "Connecting to raw.githubusercontent.com (raw.githubusercontent.com)|185.199.109.133|:443... connected.\n",
            "HTTP request sent, awaiting response... 200 OK\n",
            "Length: 6923891 (6.6M) [application/zip]\n",
            "Saving to: ‘Tweets 41k.zip.1’\n",
            "\n",
            "Tweets 41k.zip.1    100%[===================>]   6.60M  --.-KB/s    in 0.08s   \n",
            "\n",
            "2022-02-08 11:35:55 (82.7 MB/s) - ‘Tweets 41k.zip.1’ saved [6923891/6923891]\n",
            "\n"
          ]
        }
      ],
      "source": [
        "!wget https://github.com/snikhil17/Road_Safety/raw/main/Data/Tweets%2041k.zip"
      ]
    },
    {
      "cell_type": "code",
      "execution_count": 23,
      "metadata": {
        "colab": {
          "base_uri": "https://localhost:8080/"
        },
        "id": "av1mjgi222_J",
        "outputId": "2fb013ca-4b3a-42e2-f910-2fd49e981af3"
      },
      "outputs": [
        {
          "output_type": "stream",
          "name": "stdout",
          "text": [
            "Archive:  Tweets 41k.zip\n",
            "replace Tweets 41k/road_accidents_india_40k_0_200.csv? [y]es, [n]o, [A]ll, [N]one, [r]ename: "
          ]
        }
      ],
      "source": [
        "!unzip \"Tweets 41k.zip\""
      ]
    },
    {
      "cell_type": "code",
      "execution_count": 24,
      "metadata": {
        "colab": {
          "base_uri": "https://localhost:8080/"
        },
        "id": "PcUayBD8rBO7",
        "outputId": "1afbd8c9-30c7-43b3-f488-f3f24e0295f1"
      },
      "outputs": [
        {
          "output_type": "stream",
          "name": "stdout",
          "text": [
            "[nltk_data] Downloading package punkt to /root/nltk_data...\n",
            "[nltk_data]   Package punkt is already up-to-date!\n",
            "[nltk_data] Downloading package wordnet to /root/nltk_data...\n",
            "[nltk_data]   Package wordnet is already up-to-date!\n",
            "[nltk_data] Downloading package averaged_perceptron_tagger to\n",
            "[nltk_data]     /root/nltk_data...\n",
            "[nltk_data]   Package averaged_perceptron_tagger is already up-to-\n",
            "[nltk_data]       date!\n",
            "[nltk_data] Downloading package words to /root/nltk_data...\n",
            "[nltk_data]   Package words is already up-to-date!\n",
            "[nltk_data] Downloading package stopwords to /root/nltk_data...\n",
            "[nltk_data]   Package stopwords is already up-to-date!\n"
          ]
        }
      ],
      "source": [
        "import pandas as pd\n",
        "import numpy as np\n",
        "import nltk\n",
        "import matplotlib.pyplot as plt\n",
        "import re\n",
        "nltk.download('punkt')\n",
        "nltk.download('wordnet')\n",
        "nltk.download('averaged_perceptron_tagger')\n",
        "\n",
        "from nltk.corpus import wordnet\n",
        "import string\n",
        "from nltk.stem import WordNetLemmatizer, PorterStemmer\n",
        "\n",
        "\n",
        "nltk.download('words')\n",
        "\n",
        "from nltk.corpus import stopwords\n",
        "nltk.download('stopwords')\n",
        "\n",
        "from sklearn.feature_extraction.text import CountVectorizer, TfidfVectorizer\n",
        "import spacy\n",
        "nlp = spacy.load('en_core_web_sm')\n",
        "\n",
        "\n",
        "from sklearn.model_selection import train_test_split\n",
        "from sklearn.svm import SVC\n",
        "from sklearn import metrics\n",
        "from sklearn.model_selection import GridSearchCV, StratifiedKFold\n",
        "\n",
        "import gensim\n",
        "from nltk import sent_tokenize\n",
        "from gensim.utils import simple_preprocess"
      ]
    },
    {
      "cell_type": "code",
      "execution_count": 63,
      "metadata": {
        "colab": {
          "base_uri": "https://localhost:8080/",
          "height": 530
        },
        "id": "5vdhYLFt4iJG",
        "outputId": "f5b1827e-bba1-4d94-bd2d-eb1400ba2dd4"
      },
      "outputs": [
        {
          "output_type": "execute_result",
          "data": {
            "text/html": [
              "\n",
              "  <div id=\"df-d7ba17d9-8f1e-4387-b517-c5946e76dc9c\">\n",
              "    <div class=\"colab-df-container\">\n",
              "      <div>\n",
              "<style scoped>\n",
              "    .dataframe tbody tr th:only-of-type {\n",
              "        vertical-align: middle;\n",
              "    }\n",
              "\n",
              "    .dataframe tbody tr th {\n",
              "        vertical-align: top;\n",
              "    }\n",
              "\n",
              "    .dataframe thead th {\n",
              "        text-align: right;\n",
              "    }\n",
              "</style>\n",
              "<table border=\"1\" class=\"dataframe\">\n",
              "  <thead>\n",
              "    <tr style=\"text-align: right;\">\n",
              "      <th></th>\n",
              "      <th>tweet_content</th>\n",
              "      <th>labels_zero_shot</th>\n",
              "      <th>respective_scores</th>\n",
              "      <th>best_labels_scores</th>\n",
              "      <th>best_labels</th>\n",
              "      <th>sentiments_one_shot_classifier_score</th>\n",
              "      <th>sentiments_one_shot_classifier</th>\n",
              "      <th>cleaned_text</th>\n",
              "      <th>sentiment_via_VADER</th>\n",
              "    </tr>\n",
              "  </thead>\n",
              "  <tbody>\n",
              "    <tr>\n",
              "      <th>0</th>\n",
              "      <td>The Dera followers across India have taken the...</td>\n",
              "      <td>['positive information', 'negative information...</td>\n",
              "      <td>[0.6932814717292786, 0.13189217448234558, 0.09...</td>\n",
              "      <td>{'positive information': 0.6932814717292786, '...</td>\n",
              "      <td>['positive information', 'negative information']</td>\n",
              "      <td>{'positive': 0.8888261914253235}</td>\n",
              "      <td>positive</td>\n",
              "      <td>follower take initiative prevent road accident...</td>\n",
              "      <td>negative</td>\n",
              "    </tr>\n",
              "    <tr>\n",
              "      <th>1</th>\n",
              "      <td>Saint Dr. @Gurmeetramrahim ji🌸\\n#RoadSafetyIni...</td>\n",
              "      <td>['positive information', 'negative information...</td>\n",
              "      <td>[0.6274787783622742, 0.15558470785617828, 0.14...</td>\n",
              "      <td>{'positive information': 0.6274787783622742, '...</td>\n",
              "      <td>['positive information', 'negative information']</td>\n",
              "      <td>{'positive': 0.6677867770195007}</td>\n",
              "      <td>positive</td>\n",
              "      <td>follower take initiative prevent road accident...</td>\n",
              "      <td>negative</td>\n",
              "    </tr>\n",
              "    <tr>\n",
              "      <th>2</th>\n",
              "      <td>The Dera followers across India have taken the...</td>\n",
              "      <td>['positive information', 'negative information...</td>\n",
              "      <td>[0.6528342366218567, 0.16880010068416595, 0.11...</td>\n",
              "      <td>{'positive information': 0.6528342366218567, '...</td>\n",
              "      <td>['positive information', 'negative information']</td>\n",
              "      <td>{'positive': 0.844313383102417}</td>\n",
              "      <td>positive</td>\n",
              "      <td>follower take initiative prevent road accident...</td>\n",
              "      <td>negative</td>\n",
              "    </tr>\n",
              "    <tr>\n",
              "      <th>3</th>\n",
              "      <td>#RoadSafetyInitiativeByDSS\\nThe Dera followers...</td>\n",
              "      <td>['positive information', 'appreciation', 'nega...</td>\n",
              "      <td>[0.7812352180480957, 0.07765661180019379, 0.07...</td>\n",
              "      <td>{'positive information': 0.7812352180480957, '...</td>\n",
              "      <td>['positive information', 'appreciation']</td>\n",
              "      <td>{'positive': 0.8634591698646545}</td>\n",
              "      <td>positive</td>\n",
              "      <td>dera follower take initiative prevent road acc...</td>\n",
              "      <td>negative</td>\n",
              "    </tr>\n",
              "    <tr>\n",
              "      <th>4</th>\n",
              "      <td>The Dera followers across India have taken the...</td>\n",
              "      <td>['positive information', 'appreciation', 'nega...</td>\n",
              "      <td>[0.6620956063270569, 0.14676465094089508, 0.11...</td>\n",
              "      <td>{'positive information': 0.6620956063270569, '...</td>\n",
              "      <td>['positive information', 'appreciation']</td>\n",
              "      <td>{'positive': 0.8870344161987305}</td>\n",
              "      <td>positive</td>\n",
              "      <td>follower take initiative prevent road accident...</td>\n",
              "      <td>negative</td>\n",
              "    </tr>\n",
              "  </tbody>\n",
              "</table>\n",
              "</div>\n",
              "      <button class=\"colab-df-convert\" onclick=\"convertToInteractive('df-d7ba17d9-8f1e-4387-b517-c5946e76dc9c')\"\n",
              "              title=\"Convert this dataframe to an interactive table.\"\n",
              "              style=\"display:none;\">\n",
              "        \n",
              "  <svg xmlns=\"http://www.w3.org/2000/svg\" height=\"24px\"viewBox=\"0 0 24 24\"\n",
              "       width=\"24px\">\n",
              "    <path d=\"M0 0h24v24H0V0z\" fill=\"none\"/>\n",
              "    <path d=\"M18.56 5.44l.94 2.06.94-2.06 2.06-.94-2.06-.94-.94-2.06-.94 2.06-2.06.94zm-11 1L8.5 8.5l.94-2.06 2.06-.94-2.06-.94L8.5 2.5l-.94 2.06-2.06.94zm10 10l.94 2.06.94-2.06 2.06-.94-2.06-.94-.94-2.06-.94 2.06-2.06.94z\"/><path d=\"M17.41 7.96l-1.37-1.37c-.4-.4-.92-.59-1.43-.59-.52 0-1.04.2-1.43.59L10.3 9.45l-7.72 7.72c-.78.78-.78 2.05 0 2.83L4 21.41c.39.39.9.59 1.41.59.51 0 1.02-.2 1.41-.59l7.78-7.78 2.81-2.81c.8-.78.8-2.07 0-2.86zM5.41 20L4 18.59l7.72-7.72 1.47 1.35L5.41 20z\"/>\n",
              "  </svg>\n",
              "      </button>\n",
              "      \n",
              "  <style>\n",
              "    .colab-df-container {\n",
              "      display:flex;\n",
              "      flex-wrap:wrap;\n",
              "      gap: 12px;\n",
              "    }\n",
              "\n",
              "    .colab-df-convert {\n",
              "      background-color: #E8F0FE;\n",
              "      border: none;\n",
              "      border-radius: 50%;\n",
              "      cursor: pointer;\n",
              "      display: none;\n",
              "      fill: #1967D2;\n",
              "      height: 32px;\n",
              "      padding: 0 0 0 0;\n",
              "      width: 32px;\n",
              "    }\n",
              "\n",
              "    .colab-df-convert:hover {\n",
              "      background-color: #E2EBFA;\n",
              "      box-shadow: 0px 1px 2px rgba(60, 64, 67, 0.3), 0px 1px 3px 1px rgba(60, 64, 67, 0.15);\n",
              "      fill: #174EA6;\n",
              "    }\n",
              "\n",
              "    [theme=dark] .colab-df-convert {\n",
              "      background-color: #3B4455;\n",
              "      fill: #D2E3FC;\n",
              "    }\n",
              "\n",
              "    [theme=dark] .colab-df-convert:hover {\n",
              "      background-color: #434B5C;\n",
              "      box-shadow: 0px 1px 3px 1px rgba(0, 0, 0, 0.15);\n",
              "      filter: drop-shadow(0px 1px 2px rgba(0, 0, 0, 0.3));\n",
              "      fill: #FFFFFF;\n",
              "    }\n",
              "  </style>\n",
              "\n",
              "      <script>\n",
              "        const buttonEl =\n",
              "          document.querySelector('#df-d7ba17d9-8f1e-4387-b517-c5946e76dc9c button.colab-df-convert');\n",
              "        buttonEl.style.display =\n",
              "          google.colab.kernel.accessAllowed ? 'block' : 'none';\n",
              "\n",
              "        async function convertToInteractive(key) {\n",
              "          const element = document.querySelector('#df-d7ba17d9-8f1e-4387-b517-c5946e76dc9c');\n",
              "          const dataTable =\n",
              "            await google.colab.kernel.invokeFunction('convertToInteractive',\n",
              "                                                     [key], {});\n",
              "          if (!dataTable) return;\n",
              "\n",
              "          const docLinkHtml = 'Like what you see? Visit the ' +\n",
              "            '<a target=\"_blank\" href=https://colab.research.google.com/notebooks/data_table.ipynb>data table notebook</a>'\n",
              "            + ' to learn more about interactive tables.';\n",
              "          element.innerHTML = '';\n",
              "          dataTable['output_type'] = 'display_data';\n",
              "          await google.colab.output.renderOutput(dataTable, element);\n",
              "          const docLink = document.createElement('div');\n",
              "          docLink.innerHTML = docLinkHtml;\n",
              "          element.appendChild(docLink);\n",
              "        }\n",
              "      </script>\n",
              "    </div>\n",
              "  </div>\n",
              "  "
            ],
            "text/plain": [
              "                                       tweet_content  ... sentiment_via_VADER\n",
              "0  The Dera followers across India have taken the...  ...            negative\n",
              "1  Saint Dr. @Gurmeetramrahim ji🌸\\n#RoadSafetyIni...  ...            negative\n",
              "2  The Dera followers across India have taken the...  ...            negative\n",
              "3  #RoadSafetyInitiativeByDSS\\nThe Dera followers...  ...            negative\n",
              "4  The Dera followers across India have taken the...  ...            negative\n",
              "\n",
              "[5 rows x 9 columns]"
            ]
          },
          "metadata": {},
          "execution_count": 63
        }
      ],
      "source": [
        "import glob\n",
        "import os\n",
        "import pandas as pd\n",
        "df = pd.concat(map(pd.read_csv, glob.glob(os.path.join('/content/Tweets 41k/', \"road_accidents_india_40k_*.csv\"))), ignore_index= True).drop('Unnamed: 0', axis = 1)\n",
        "df.head()"
      ]
    },
    {
      "cell_type": "code",
      "source": [
        "import ast\n",
        "final_score_list = []\n",
        "for i in range(df.shape[0]):\n",
        "  final_score_list.append(list(ast.literal_eval(df.sentiments_one_shot_classifier_score.iloc[i]).values())[0])\n",
        "\n",
        "df['sentiment_score'] = final_score_list"
      ],
      "metadata": {
        "id": "1GDArnYGWq3R"
      },
      "execution_count": 114,
      "outputs": []
    },
    {
      "cell_type": "code",
      "source": [
        "df.sentiments_one_shot_classifier.value_counts()"
      ],
      "metadata": {
        "colab": {
          "base_uri": "https://localhost:8080/"
        },
        "id": "Vb3gjsFEaCZu",
        "outputId": "d1ec609f-e35f-4048-e058-9595ea8759fb"
      },
      "execution_count": 118,
      "outputs": [
        {
          "output_type": "execute_result",
          "data": {
            "text/plain": [
              "negative    34071\n",
              "positive     6465\n",
              "Name: sentiments_one_shot_classifier, dtype: int64"
            ]
          },
          "metadata": {},
          "execution_count": 118
        }
      ]
    },
    {
      "cell_type": "code",
      "source": [
        "\n",
        "df_negative = df[(df['sentiments_one_shot_classifier'] == 'negative') & (df.sentiment_score > 0.978)]\n",
        "df_positive = df[(df['sentiments_one_shot_classifier'] == 'positive')]\n",
        "df_negative.shape, df_positive.shape"
      ],
      "metadata": {
        "colab": {
          "base_uri": "https://localhost:8080/"
        },
        "id": "7d2naVW2Zmmf",
        "outputId": "c28b7e48-42b8-45d6-d940-430742816577"
      },
      "execution_count": 131,
      "outputs": [
        {
          "output_type": "execute_result",
          "data": {
            "text/plain": [
              "((9612, 11), (6465, 11))"
            ]
          },
          "metadata": {},
          "execution_count": 131
        }
      ]
    },
    {
      "cell_type": "code",
      "source": [
        "df  = pd.concat([df_negative, df_positive], ignore_index=True, sort=False)\n",
        "# final_df = final_df[final_df.tweet_content.map(lambda x: x.isascii())] #removing non-english rows\n",
        "df.sentiments_one_shot_classifier.value_counts(normalize = True)"
      ],
      "metadata": {
        "colab": {
          "base_uri": "https://localhost:8080/"
        },
        "id": "SnMzLPC3aYEn",
        "outputId": "afe4b3a9-e5c5-40a4-864d-f655185debf1"
      },
      "execution_count": 133,
      "outputs": [
        {
          "output_type": "execute_result",
          "data": {
            "text/plain": [
              "negative    0.597873\n",
              "positive    0.402127\n",
              "Name: sentiments_one_shot_classifier, dtype: float64"
            ]
          },
          "metadata": {},
          "execution_count": 133
        }
      ]
    },
    {
      "cell_type": "markdown",
      "metadata": {
        "id": "jZwLmH9grFv9"
      },
      "source": [
        "## **Cleaning Helper Functions** \n",
        "- **Function for decontracted and removing IP adresses and other expressions using Regex**\n",
        "  - words like don't , won't etc will be converted to do not, will not etc.\n",
        "  - Emojis, additional lines, email-addresses, website names etc are removed here.\n",
        "- **Removed words like ``no, not, nor`` from english stopwords**\n",
        "- **Removing Non-English Words**\n",
        "  - whatever words nltk corpus has, if given word is in that corpus we will consider the word, else replace with blank.\n",
        "- **Removing Contextual Stopwords**\n",
        "  - Using POS-tagging feature of Spacy, removed words which were Pronoun, punctuation, number, adverb  etc.\n",
        "  - Lemmatizing th words and checking if the given word exist in the list of words needs to be removed (contextual words: obtained after checking the word counts)\n",
        "- **Remaining Preprocessing of text**\n",
        "  - Combining all the above functions to use as analyzer in TF-IDF vectorizer. "
      ]
    },
    {
      "cell_type": "code",
      "execution_count": 64,
      "metadata": {
        "id": "i7QQQ7T7rEIn"
      },
      "outputs": [],
      "source": [
        "import re\n",
        "import unicodedata\n",
        "\n",
        "stop_words=stopwords.words('english') + ['&amp','&amp;']\n",
        "\n",
        "\n",
        "\n",
        "\"\"\"Functions to clean text using Regex\"\"\"\n",
        "ip_addr_regex = re.compile(r'\\b(?:[0-9]{1,3}\\.){3}[0-9]{1,3}\\b')\n",
        "emoji_pattern = re.compile(\"[\"\n",
        "        u\"\\U0001F600-\\U0001F64F\"  # emoticons\n",
        "        u\"\\U0001F300-\\U0001F5FF\"  # symbols & pictographs\n",
        "        u\"\\U0001F680-\\U0001F6FF\"  # transport & map symbols\n",
        "        u\"\\U0001F1E0-\\U0001F1FF\"  # flags (iOS)\n",
        "                           \"]+\", flags=re.UNICODE)\n",
        "def regex_cleaning(phrase):\n",
        "    # specific\n",
        "    phrase = re.sub(r\"won\\'t\", \"will not\", phrase)\n",
        "    phrase = re.sub(r\"can\\'t\", \"can not\", phrase)\n",
        "\n",
        "    # general\n",
        "    phrase = re.sub(r\"n\\'t\", \" not\", phrase)\n",
        "    phrase = re.sub(r\"\\'re\", \" are\", phrase)\n",
        "    phrase = re.sub(r\"\\'s\", \" is\", phrase)\n",
        "    phrase = re.sub(r\"\\'d\", \" would\", phrase)\n",
        "    phrase = re.sub(r\"\\'ll\", \" will\", phrase)\n",
        "    phrase = re.sub(r\"\\'t\", \" not\", phrase)\n",
        "    phrase = re.sub(r\"\\'ve\", \" have\", phrase)\n",
        "    phrase = re.sub(r\"\\'m\", \" am\", phrase)\n",
        "    phrase = re.sub(r\"[^a-zA-Z0-9]+\", \" \", phrase)\n",
        "    phrase = re.sub('[\\(\\[].*?[\\)\\]]', ' ', phrase)\n",
        "    phrase = unicodedata.normalize('NFKD', phrase).encode('ascii', 'ignore').decode('utf-8', 'ignore')\n",
        "    phrase = re.sub(r\"\\r\\n\", \"\", phrase)            # Removing additional line\n",
        "    phrase = re.sub(r\"\\n\", \"\", phrase)              # Removing additional line \n",
        "    phrase = re.sub(r\"\\S*@\\S*\\s?\", \"\", phrase)      # Removing email-addresses \n",
        "    phrase = re.sub(r'http\\S+', '', phrase)         # Removing website links\n",
        "    phrase = re.sub(ip_addr_regex, \"\", phrase)      # Removing IP address link.\n",
        "    phrase = emoji_pattern.sub(r'', phrase)         # Removing Emojis\n",
        "    \n",
        "    # phrase_final = \" \".join([word.lower() for word in phrase.split() if word not in stop_words and len(word) > 3])\n",
        "    phrase_final = [word.lower() for word in phrase.split() if word not in stop_words and len(word) > 3]\n",
        "    return \"\" if len(phrase_final) < 3 else \" \".join(phrase_final)  \n"
      ]
    },
    {
      "cell_type": "code",
      "source": [
        "df.columns"
      ],
      "metadata": {
        "colab": {
          "base_uri": "https://localhost:8080/"
        },
        "id": "Me9xMd8N153U",
        "outputId": "beed39f2-37ea-45c3-fe9a-dc83a47bbd77"
      },
      "execution_count": 134,
      "outputs": [
        {
          "output_type": "execute_result",
          "data": {
            "text/plain": [
              "Index(['tweet_content', 'labels_zero_shot', 'respective_scores',\n",
              "       'best_labels_scores', 'best_labels',\n",
              "       'sentiments_one_shot_classifier_score',\n",
              "       'sentiments_one_shot_classifier', 'cleaned_text', 'sentiment_via_VADER',\n",
              "       'clean_corpus', 'sentiment_score'],\n",
              "      dtype='object')"
            ]
          },
          "metadata": {},
          "execution_count": 134
        }
      ]
    },
    {
      "cell_type": "code",
      "source": [
        "df.sentiments_one_shot_classifier.value_counts(normalize =True)"
      ],
      "metadata": {
        "id": "XWvsXETa5ka0",
        "outputId": "aceaf04c-858f-4e14-979e-9b864b50c876",
        "colab": {
          "base_uri": "https://localhost:8080/"
        }
      },
      "execution_count": 135,
      "outputs": [
        {
          "output_type": "execute_result",
          "data": {
            "text/plain": [
              "negative    0.597873\n",
              "positive    0.402127\n",
              "Name: sentiments_one_shot_classifier, dtype: float64"
            ]
          },
          "metadata": {},
          "execution_count": 135
        }
      ]
    },
    {
      "cell_type": "code",
      "source": [
        "df.sentiment_via_VADER.value_counts(normalize =True)"
      ],
      "metadata": {
        "colab": {
          "base_uri": "https://localhost:8080/"
        },
        "id": "43-fHpZm1vL5",
        "outputId": "8b6d8941-75d0-4b72-a00b-a81d0ca6ff63"
      },
      "execution_count": 136,
      "outputs": [
        {
          "output_type": "execute_result",
          "data": {
            "text/plain": [
              "negative    0.939791\n",
              "positive    0.060209\n",
              "Name: sentiment_via_VADER, dtype: float64"
            ]
          },
          "metadata": {},
          "execution_count": 136
        }
      ]
    },
    {
      "cell_type": "code",
      "source": [
        "df.tweet_content.iloc[55]"
      ],
      "metadata": {
        "colab": {
          "base_uri": "https://localhost:8080/",
          "height": 35
        },
        "id": "jezFZQEM2lWq",
        "outputId": "eeb31755-8934-420a-fb28-1082b2515565"
      },
      "execution_count": 137,
      "outputs": [
        {
          "output_type": "execute_result",
          "data": {
            "application/vnd.google.colaboratory.intrinsic+json": {
              "type": "string"
            },
            "text/plain": [
              "'In 2018, India had fewer road accidents but more fatal ones https://t.co/wrO8mnGnNH via @timesofindia'"
            ]
          },
          "metadata": {},
          "execution_count": 137
        }
      ]
    },
    {
      "cell_type": "code",
      "source": [
        "df[(df.sentiment_via_VADER == 'positive') & (df.sentiments_one_shot_classifier == 'negative')][['tweet_content']]"
      ],
      "metadata": {
        "colab": {
          "base_uri": "https://localhost:8080/",
          "height": 1000
        },
        "id": "HXyYeTBN2Stx",
        "outputId": "f6a12c68-8881-468c-d7cf-53a04ba61d14"
      },
      "execution_count": 138,
      "outputs": [
        {
          "output_type": "execute_result",
          "data": {
            "text/html": [
              "\n",
              "  <div id=\"df-5e8ace45-628c-49dc-98e3-1880c44ea4c2\">\n",
              "    <div class=\"colab-df-container\">\n",
              "      <div>\n",
              "<style scoped>\n",
              "    .dataframe tbody tr th:only-of-type {\n",
              "        vertical-align: middle;\n",
              "    }\n",
              "\n",
              "    .dataframe tbody tr th {\n",
              "        vertical-align: top;\n",
              "    }\n",
              "\n",
              "    .dataframe thead th {\n",
              "        text-align: right;\n",
              "    }\n",
              "</style>\n",
              "<table border=\"1\" class=\"dataframe\">\n",
              "  <thead>\n",
              "    <tr style=\"text-align: right;\">\n",
              "      <th></th>\n",
              "      <th>tweet_content</th>\n",
              "    </tr>\n",
              "  </thead>\n",
              "  <tbody>\n",
              "    <tr>\n",
              "      <th>34</th>\n",
              "      <td>India: Union Transport Minister said his plans...</td>\n",
              "    </tr>\n",
              "    <tr>\n",
              "      <th>107</th>\n",
              "      <td>@ShraddhaKapoor We respect women but \\n\\nNo ge...</td>\n",
              "    </tr>\n",
              "    <tr>\n",
              "      <th>209</th>\n",
              "      <td>#JacobMartin played 10 ODIs for India from 199...</td>\n",
              "    </tr>\n",
              "    <tr>\n",
              "      <th>361</th>\n",
              "      <td>@ippatel Police is doing their duty , he follo...</td>\n",
              "    </tr>\n",
              "    <tr>\n",
              "      <th>392</th>\n",
              "      <td>Are people roaming around without wearing mask...</td>\n",
              "    </tr>\n",
              "    <tr>\n",
              "      <th>1206</th>\n",
              "      <td>@ArleneFosterUK All of us here at the UKs only...</td>\n",
              "    </tr>\n",
              "    <tr>\n",
              "      <th>1212</th>\n",
              "      <td>Namaste @PMOIndia @narendramodi ji, We shouldn...</td>\n",
              "    </tr>\n",
              "    <tr>\n",
              "      <th>1390</th>\n",
              "      <td>#wineshops after all the peaceful times, there...</td>\n",
              "    </tr>\n",
              "    <tr>\n",
              "      <th>1543</th>\n",
              "      <td>Joke is on the people who learned nothing from...</td>\n",
              "    </tr>\n",
              "    <tr>\n",
              "      <th>1649</th>\n",
              "      <td>@DikshitSmita Partly agree but this act gives ...</td>\n",
              "    </tr>\n",
              "    <tr>\n",
              "      <th>1652</th>\n",
              "      <td>@nitin_gadkari @gurgaonpolice  What's going on...</td>\n",
              "    </tr>\n",
              "    <tr>\n",
              "      <th>1723</th>\n",
              "      <td>@HTMumbai @htTweets @sajananambiar Government ...</td>\n",
              "    </tr>\n",
              "    <tr>\n",
              "      <th>2112</th>\n",
              "      <td>@NITIAayog @makeinindia @nsitharaman @PIB_Indi...</td>\n",
              "    </tr>\n",
              "    <tr>\n",
              "      <th>2122</th>\n",
              "      <td>@rashtrapatibhvn Honourable President sir it i...</td>\n",
              "    </tr>\n",
              "    <tr>\n",
              "      <th>2217</th>\n",
              "      <td>Honestly, getting a driver's licence in India ...</td>\n",
              "    </tr>\n",
              "    <tr>\n",
              "      <th>2447</th>\n",
              "      <td>India is the most vulnerable country in road a...</td>\n",
              "    </tr>\n",
              "    <tr>\n",
              "      <th>2651</th>\n",
              "      <td>There is no Such thing as \"Work Life Balance\" ...</td>\n",
              "    </tr>\n",
              "    <tr>\n",
              "      <th>2740</th>\n",
              "      <td>@MotorBeam @nitin_gadkari @PMOIndia Respected ...</td>\n",
              "    </tr>\n",
              "    <tr>\n",
              "      <th>2769</th>\n",
              "      <td>@arunbothra In india road safety is never prio...</td>\n",
              "    </tr>\n",
              "    <tr>\n",
              "      <th>2784</th>\n",
              "      <td>Government of #India has announced a scheme to...</td>\n",
              "    </tr>\n",
              "    <tr>\n",
              "      <th>4136</th>\n",
              "      <td>What an Irony...1.We want Covid free India but...</td>\n",
              "    </tr>\n",
              "    <tr>\n",
              "      <th>4247</th>\n",
              "      <td>@RNTata2000 sir one road accident and then cor...</td>\n",
              "    </tr>\n",
              "    <tr>\n",
              "      <th>5034</th>\n",
              "      <td>follow up letter issued by treating doctor on ...</td>\n",
              "    </tr>\n",
              "    <tr>\n",
              "      <th>5045</th>\n",
              "      <td>Road Accident- Court Shouldn’t Award Flea-Bite...</td>\n",
              "    </tr>\n",
              "    <tr>\n",
              "      <th>5165</th>\n",
              "      <td>First Kuldip Sengar, then Chinmayanand, now Go...</td>\n",
              "    </tr>\n",
              "    <tr>\n",
              "      <th>5173</th>\n",
              "      <td>@honda2wheelerin @akshaykumar @JagranNews @Dai...</td>\n",
              "    </tr>\n",
              "    <tr>\n",
              "      <th>5216</th>\n",
              "      <td>Respected Shri R.C.Bhargav  Chairman,Maruti Su...</td>\n",
              "    </tr>\n",
              "    <tr>\n",
              "      <th>5263</th>\n",
              "      <td>States supported high fines in new Motor Vehic...</td>\n",
              "    </tr>\n",
              "    <tr>\n",
              "      <th>5283</th>\n",
              "      <td>@hcikl @PMOIndia \\nDear Sir,\\nOne of my friend...</td>\n",
              "    </tr>\n",
              "    <tr>\n",
              "      <th>5290</th>\n",
              "      <td>@rashtrapatibhvn \\nNew rules traffic super sir...</td>\n",
              "    </tr>\n",
              "    <tr>\n",
              "      <th>5312</th>\n",
              "      <td>CMs of BJP ruled states are reducing fines to ...</td>\n",
              "    </tr>\n",
              "    <tr>\n",
              "      <th>5433</th>\n",
              "      <td>@nagpal_srishti @ipustudentunion @GGSIPUIndia ...</td>\n",
              "    </tr>\n",
              "    <tr>\n",
              "      <th>5530</th>\n",
              "      <td>@zimben8  welcome to first country in most roa...</td>\n",
              "    </tr>\n",
              "    <tr>\n",
              "      <th>5855</th>\n",
              "      <td>In India DRLs are leading to increased road ac...</td>\n",
              "    </tr>\n",
              "    <tr>\n",
              "      <th>6136</th>\n",
              "      <td>In India people are wearing mask while riding ...</td>\n",
              "    </tr>\n",
              "    <tr>\n",
              "      <th>6211</th>\n",
              "      <td>@nitin_gadkari sir, a humble request to demoli...</td>\n",
              "    </tr>\n",
              "    <tr>\n",
              "      <th>6273</th>\n",
              "      <td>@itsmegughan @abhinav1985s @SSurfer83 @kunalbh...</td>\n",
              "    </tr>\n",
              "    <tr>\n",
              "      <th>6285</th>\n",
              "      <td>@INCMinority @RahulGandhi 1  If he is driving ...</td>\n",
              "    </tr>\n",
              "    <tr>\n",
              "      <th>6413</th>\n",
              "      <td>Road accident is became now a major problem in...</td>\n",
              "    </tr>\n",
              "    <tr>\n",
              "      <th>6414</th>\n",
              "      <td>Road accident is became now a major problem in...</td>\n",
              "    </tr>\n",
              "    <tr>\n",
              "      <th>6443</th>\n",
              "      <td>India:As per Information about 400 People Dies...</td>\n",
              "    </tr>\n",
              "    <tr>\n",
              "      <th>6551</th>\n",
              "      <td>I've never in died in a road accident, so we h...</td>\n",
              "    </tr>\n",
              "    <tr>\n",
              "      <th>6695</th>\n",
              "      <td>I don’t think that’s true picture of Karnataka...</td>\n",
              "    </tr>\n",
              "    <tr>\n",
              "      <th>7005</th>\n",
              "      <td>@midc_india  @PiyushGoyal even after bringing ...</td>\n",
              "    </tr>\n",
              "    <tr>\n",
              "      <th>7249</th>\n",
              "      <td>#Auraiya\\n#Accident\\nBJP government politician...</td>\n",
              "    </tr>\n",
              "    <tr>\n",
              "      <th>7340</th>\n",
              "      <td>@fayedsouza How is secularism benefiting India...</td>\n",
              "    </tr>\n",
              "    <tr>\n",
              "      <th>7407</th>\n",
              "      <td>Today i met with an accident during my uber ri...</td>\n",
              "    </tr>\n",
              "    <tr>\n",
              "      <th>7580</th>\n",
              "      <td>India is probably the worst country to meet wi...</td>\n",
              "    </tr>\n",
              "    <tr>\n",
              "      <th>8718</th>\n",
              "      <td>In coming days road accidents may increase in ...</td>\n",
              "    </tr>\n",
              "    <tr>\n",
              "      <th>9372</th>\n",
              "      <td>Truck driver, cleaner burnt alive in road acci...</td>\n",
              "    </tr>\n",
              "    <tr>\n",
              "      <th>9505</th>\n",
              "      <td>Nepal have a law for road accident to burn the...</td>\n",
              "    </tr>\n",
              "  </tbody>\n",
              "</table>\n",
              "</div>\n",
              "      <button class=\"colab-df-convert\" onclick=\"convertToInteractive('df-5e8ace45-628c-49dc-98e3-1880c44ea4c2')\"\n",
              "              title=\"Convert this dataframe to an interactive table.\"\n",
              "              style=\"display:none;\">\n",
              "        \n",
              "  <svg xmlns=\"http://www.w3.org/2000/svg\" height=\"24px\"viewBox=\"0 0 24 24\"\n",
              "       width=\"24px\">\n",
              "    <path d=\"M0 0h24v24H0V0z\" fill=\"none\"/>\n",
              "    <path d=\"M18.56 5.44l.94 2.06.94-2.06 2.06-.94-2.06-.94-.94-2.06-.94 2.06-2.06.94zm-11 1L8.5 8.5l.94-2.06 2.06-.94-2.06-.94L8.5 2.5l-.94 2.06-2.06.94zm10 10l.94 2.06.94-2.06 2.06-.94-2.06-.94-.94-2.06-.94 2.06-2.06.94z\"/><path d=\"M17.41 7.96l-1.37-1.37c-.4-.4-.92-.59-1.43-.59-.52 0-1.04.2-1.43.59L10.3 9.45l-7.72 7.72c-.78.78-.78 2.05 0 2.83L4 21.41c.39.39.9.59 1.41.59.51 0 1.02-.2 1.41-.59l7.78-7.78 2.81-2.81c.8-.78.8-2.07 0-2.86zM5.41 20L4 18.59l7.72-7.72 1.47 1.35L5.41 20z\"/>\n",
              "  </svg>\n",
              "      </button>\n",
              "      \n",
              "  <style>\n",
              "    .colab-df-container {\n",
              "      display:flex;\n",
              "      flex-wrap:wrap;\n",
              "      gap: 12px;\n",
              "    }\n",
              "\n",
              "    .colab-df-convert {\n",
              "      background-color: #E8F0FE;\n",
              "      border: none;\n",
              "      border-radius: 50%;\n",
              "      cursor: pointer;\n",
              "      display: none;\n",
              "      fill: #1967D2;\n",
              "      height: 32px;\n",
              "      padding: 0 0 0 0;\n",
              "      width: 32px;\n",
              "    }\n",
              "\n",
              "    .colab-df-convert:hover {\n",
              "      background-color: #E2EBFA;\n",
              "      box-shadow: 0px 1px 2px rgba(60, 64, 67, 0.3), 0px 1px 3px 1px rgba(60, 64, 67, 0.15);\n",
              "      fill: #174EA6;\n",
              "    }\n",
              "\n",
              "    [theme=dark] .colab-df-convert {\n",
              "      background-color: #3B4455;\n",
              "      fill: #D2E3FC;\n",
              "    }\n",
              "\n",
              "    [theme=dark] .colab-df-convert:hover {\n",
              "      background-color: #434B5C;\n",
              "      box-shadow: 0px 1px 3px 1px rgba(0, 0, 0, 0.15);\n",
              "      filter: drop-shadow(0px 1px 2px rgba(0, 0, 0, 0.3));\n",
              "      fill: #FFFFFF;\n",
              "    }\n",
              "  </style>\n",
              "\n",
              "      <script>\n",
              "        const buttonEl =\n",
              "          document.querySelector('#df-5e8ace45-628c-49dc-98e3-1880c44ea4c2 button.colab-df-convert');\n",
              "        buttonEl.style.display =\n",
              "          google.colab.kernel.accessAllowed ? 'block' : 'none';\n",
              "\n",
              "        async function convertToInteractive(key) {\n",
              "          const element = document.querySelector('#df-5e8ace45-628c-49dc-98e3-1880c44ea4c2');\n",
              "          const dataTable =\n",
              "            await google.colab.kernel.invokeFunction('convertToInteractive',\n",
              "                                                     [key], {});\n",
              "          if (!dataTable) return;\n",
              "\n",
              "          const docLinkHtml = 'Like what you see? Visit the ' +\n",
              "            '<a target=\"_blank\" href=https://colab.research.google.com/notebooks/data_table.ipynb>data table notebook</a>'\n",
              "            + ' to learn more about interactive tables.';\n",
              "          element.innerHTML = '';\n",
              "          dataTable['output_type'] = 'display_data';\n",
              "          await google.colab.output.renderOutput(dataTable, element);\n",
              "          const docLink = document.createElement('div');\n",
              "          docLink.innerHTML = docLinkHtml;\n",
              "          element.appendChild(docLink);\n",
              "        }\n",
              "      </script>\n",
              "    </div>\n",
              "  </div>\n",
              "  "
            ],
            "text/plain": [
              "                                          tweet_content\n",
              "34    India: Union Transport Minister said his plans...\n",
              "107   @ShraddhaKapoor We respect women but \\n\\nNo ge...\n",
              "209   #JacobMartin played 10 ODIs for India from 199...\n",
              "361   @ippatel Police is doing their duty , he follo...\n",
              "392   Are people roaming around without wearing mask...\n",
              "1206  @ArleneFosterUK All of us here at the UKs only...\n",
              "1212  Namaste @PMOIndia @narendramodi ji, We shouldn...\n",
              "1390  #wineshops after all the peaceful times, there...\n",
              "1543  Joke is on the people who learned nothing from...\n",
              "1649  @DikshitSmita Partly agree but this act gives ...\n",
              "1652  @nitin_gadkari @gurgaonpolice  What's going on...\n",
              "1723  @HTMumbai @htTweets @sajananambiar Government ...\n",
              "2112  @NITIAayog @makeinindia @nsitharaman @PIB_Indi...\n",
              "2122  @rashtrapatibhvn Honourable President sir it i...\n",
              "2217  Honestly, getting a driver's licence in India ...\n",
              "2447  India is the most vulnerable country in road a...\n",
              "2651  There is no Such thing as \"Work Life Balance\" ...\n",
              "2740  @MotorBeam @nitin_gadkari @PMOIndia Respected ...\n",
              "2769  @arunbothra In india road safety is never prio...\n",
              "2784  Government of #India has announced a scheme to...\n",
              "4136  What an Irony...1.We want Covid free India but...\n",
              "4247  @RNTata2000 sir one road accident and then cor...\n",
              "5034  follow up letter issued by treating doctor on ...\n",
              "5045  Road Accident- Court Shouldn’t Award Flea-Bite...\n",
              "5165  First Kuldip Sengar, then Chinmayanand, now Go...\n",
              "5173  @honda2wheelerin @akshaykumar @JagranNews @Dai...\n",
              "5216  Respected Shri R.C.Bhargav  Chairman,Maruti Su...\n",
              "5263  States supported high fines in new Motor Vehic...\n",
              "5283  @hcikl @PMOIndia \\nDear Sir,\\nOne of my friend...\n",
              "5290  @rashtrapatibhvn \\nNew rules traffic super sir...\n",
              "5312  CMs of BJP ruled states are reducing fines to ...\n",
              "5433  @nagpal_srishti @ipustudentunion @GGSIPUIndia ...\n",
              "5530  @zimben8  welcome to first country in most roa...\n",
              "5855  In India DRLs are leading to increased road ac...\n",
              "6136  In India people are wearing mask while riding ...\n",
              "6211  @nitin_gadkari sir, a humble request to demoli...\n",
              "6273  @itsmegughan @abhinav1985s @SSurfer83 @kunalbh...\n",
              "6285  @INCMinority @RahulGandhi 1  If he is driving ...\n",
              "6413  Road accident is became now a major problem in...\n",
              "6414  Road accident is became now a major problem in...\n",
              "6443  India:As per Information about 400 People Dies...\n",
              "6551  I've never in died in a road accident, so we h...\n",
              "6695  I don’t think that’s true picture of Karnataka...\n",
              "7005  @midc_india  @PiyushGoyal even after bringing ...\n",
              "7249  #Auraiya\\n#Accident\\nBJP government politician...\n",
              "7340  @fayedsouza How is secularism benefiting India...\n",
              "7407  Today i met with an accident during my uber ri...\n",
              "7580  India is probably the worst country to meet wi...\n",
              "8718  In coming days road accidents may increase in ...\n",
              "9372  Truck driver, cleaner burnt alive in road acci...\n",
              "9505  Nepal have a law for road accident to burn the..."
            ]
          },
          "metadata": {},
          "execution_count": 138
        }
      ]
    },
    {
      "cell_type": "code",
      "source": [
        "df.sentiments_one_shot_classifier.value_counts()"
      ],
      "metadata": {
        "colab": {
          "base_uri": "https://localhost:8080/"
        },
        "id": "epyYVB6I1gSy",
        "outputId": "a6b5f3a6-a7cd-4fb9-9901-34d45430c8c1"
      },
      "execution_count": 139,
      "outputs": [
        {
          "output_type": "execute_result",
          "data": {
            "text/plain": [
              "negative    9612\n",
              "positive    6465\n",
              "Name: sentiments_one_shot_classifier, dtype: int64"
            ]
          },
          "metadata": {},
          "execution_count": 139
        }
      ]
    },
    {
      "cell_type": "markdown",
      "metadata": {
        "id": "2cs9iBa_rq6W"
      },
      "source": [
        "## **Using Helper functions to clean the data**"
      ]
    },
    {
      "cell_type": "code",
      "source": [
        "\"\"\"Functions to clean text using Regex\"\"\"\n",
        "ip_addr_regex = re.compile(r'\\b(?:[0-9]{1,3}\\.){3}[0-9]{1,3}\\b')\n",
        "emoji_pattern = re.compile(\"[\"\n",
        "        u\"\\U0001F600-\\U0001F64F\"  # emoticons\n",
        "        u\"\\U0001F300-\\U0001F5FF\"  # symbols & pictographs\n",
        "        u\"\\U0001F680-\\U0001F6FF\"  # transport & map symbols\n",
        "        u\"\\U0001F1E0-\\U0001F1FF\"  # flags (iOS)\n",
        "                           \"]+\", flags=re.UNICODE)\n",
        "def regex_cleaning(phrase):\n",
        "    # specific\n",
        "    phrase = re.sub(r\"won\\'t\", \"will not\", phrase)\n",
        "    phrase = re.sub(r\"can\\'t\", \"can not\", phrase)\n",
        "\n",
        "    # general\n",
        "    phrase = re.sub(r\"n\\'t\", \" not\", phrase)\n",
        "    phrase = re.sub(r\"\\'re\", \" are\", phrase)\n",
        "    phrase = re.sub(r\"\\'s\", \" is\", phrase)\n",
        "    phrase = re.sub(r\"\\'d\", \" would\", phrase)\n",
        "    phrase = re.sub(r\"\\'ll\", \" will\", phrase)\n",
        "    phrase = re.sub(r\"\\'t\", \" not\", phrase)\n",
        "    phrase = re.sub(r\"\\'ve\", \" have\", phrase)\n",
        "    phrase = re.sub(r\"\\'m\", \" am\", phrase)\n",
        "    phrase = re.sub(r\"[^a-zA-Z0-9]+\", \" \", phrase)\n",
        "    phrase = re.sub('[\\(\\[].*?[\\)\\]]', ' ', phrase)\n",
        "    phrase = unicodedata.normalize('NFKD', phrase).encode('ascii', 'ignore').decode('utf-8', 'ignore')\n",
        "    phrase = re.sub(r\"\\r\\n\", \"\", phrase)            # Removing additional line\n",
        "    phrase = re.sub(r\"\\n\", \"\", phrase)              # Removing additional line \n",
        "    phrase = re.sub(r\"\\S*@\\S*\\s?\", \"\", phrase)      # Removing email-addresses \n",
        "    phrase = re.sub(r'http\\S+', '', phrase)         # Removing website links\n",
        "    phrase = re.sub(ip_addr_regex, \"\", phrase)      # Removing IP address link.\n",
        "    phrase = emoji_pattern.sub(r'', phrase)         # Removing Emojis\n",
        "    \n",
        "    # phrase_final = \" \".join([word.lower() for word in phrase.split() if word not in stop_words and len(word) > 3])\n",
        "    phrase_final = [word.lower() for word in phrase.split() if word not in stop_words and len(word) > 3]\n",
        "    return \"\" if len(phrase_final) < 3 else \" \".join(phrase_final)  \n",
        "\n",
        "def word_2_vec_train(df_corpus):\n",
        "  story = []\n",
        "  clean_corpus = df_corpus.apply(regex_cleaning)\n",
        "  for doc in clean_corpus:\n",
        "      raw_sent = sent_tokenize(doc)\n",
        "      for sent in raw_sent:\n",
        "          story.append(simple_preprocess(sent))\n",
        "  model_gensim = gensim.models.Word2Vec( \n",
        "      window=10,\n",
        "      min_count=2\n",
        "  )\n",
        "  model_gensim.build_vocab(story)\n",
        "  model_gensim.train(story, total_examples=model_gensim.corpus_count, epochs=model_gensim.epochs)\n",
        "\n",
        "  # remove out-of-vocabulary words\n",
        "  doc = [word for word in doc.split() if word in model_gensim.wv.index2word]\n",
        "  return model_gensim, np.mean(model_gensim.wv[doc], axis=0)\n",
        "\n",
        "def word_2_vec_transform(doc, model_gensim):\n",
        "  clean_doc = regex_cleaning(doc)\n",
        "  doc = [word for word in doc.split() if word in model_gensim.wv.index2word]\n",
        "  return np.mean(model_gensim.wv[doc], axis=0)"
      ],
      "metadata": {
        "id": "R8F2McW5IHHk"
      },
      "execution_count": 140,
      "outputs": []
    },
    {
      "cell_type": "code",
      "source": [
        "# df = df[df.tweet_content.map(lambda x: x.isascii())]\n",
        "df['clean_corpus'] = df['tweet_content'].apply(regex_cleaning)\n",
        "df = df[~(df['clean_corpus'] == '')] # Selecting rows which doesnt have empty values"
      ],
      "metadata": {
        "id": "xCDIdykaJ6U5"
      },
      "execution_count": 141,
      "outputs": []
    },
    {
      "cell_type": "code",
      "source": [
        ""
      ],
      "metadata": {
        "id": "VCPs1MLfPuEL"
      },
      "execution_count": 141,
      "outputs": []
    },
    {
      "cell_type": "code",
      "source": [
        "# model_gensim, vec = word_2_vec_train(df.tweet_content)\n",
        "# remove out-of-vocabulary word\n",
        "story = []\n",
        "for doc in df['tweet_content']:\n",
        "    raw_sent = sent_tokenize(doc)\n",
        "    for sent in raw_sent:\n",
        "        story.append(simple_preprocess(sent))\n",
        "\n",
        "# Word2Vec model\n",
        "model_gensim = gensim.models.Word2Vec( \n",
        "    window=10,\n",
        "    min_count=2\n",
        ")\n",
        "\n",
        "model_gensim.build_vocab(story) #building vocabulary\n",
        "\n",
        "model_gensim.train(story, total_examples=model_gensim.corpus_count, epochs=model_gensim.epochs) # training the model\n",
        "def document_vector(doc):\n",
        "    doc = [word for word in doc.split() if word in model_gensim.wv.index2word]\n",
        "    return np.mean(model_gensim.wv[doc], axis=0)"
      ],
      "metadata": {
        "id": "SmMIXtBdIvVB"
      },
      "execution_count": 142,
      "outputs": []
    },
    {
      "cell_type": "code",
      "source": [
        "\"\"\"In case some rows still have non-english words: e.g. words left from hashtags\"\"\"\n",
        "# remove_rows = [5244, 30227, 30753]\n",
        "# for rows in remove_rows:\n",
        "df.drop(df.iloc[30753].name, inplace = True)"
      ],
      "metadata": {
        "colab": {
          "base_uri": "https://localhost:8080/",
          "height": 346
        },
        "id": "1hUrUUB5QO_u",
        "outputId": "0eac4bf3-aef0-496c-c7fc-e3f597ec6a1c"
      },
      "execution_count": 143,
      "outputs": [
        {
          "output_type": "error",
          "ename": "IndexError",
          "evalue": "ignored",
          "traceback": [
            "\u001b[0;31m---------------------------------------------------------------------------\u001b[0m",
            "\u001b[0;31mIndexError\u001b[0m                                Traceback (most recent call last)",
            "\u001b[0;32m<ipython-input-143-fa20e65e3e8d>\u001b[0m in \u001b[0;36m<module>\u001b[0;34m()\u001b[0m\n\u001b[1;32m      2\u001b[0m \u001b[0;31m# remove_rows = [5244, 30227, 30753]\u001b[0m\u001b[0;34m\u001b[0m\u001b[0;34m\u001b[0m\u001b[0;34m\u001b[0m\u001b[0m\n\u001b[1;32m      3\u001b[0m \u001b[0;31m# for rows in remove_rows:\u001b[0m\u001b[0;34m\u001b[0m\u001b[0;34m\u001b[0m\u001b[0;34m\u001b[0m\u001b[0m\n\u001b[0;32m----> 4\u001b[0;31m \u001b[0mdf\u001b[0m\u001b[0;34m.\u001b[0m\u001b[0mdrop\u001b[0m\u001b[0;34m(\u001b[0m\u001b[0mdf\u001b[0m\u001b[0;34m.\u001b[0m\u001b[0miloc\u001b[0m\u001b[0;34m[\u001b[0m\u001b[0;36m30753\u001b[0m\u001b[0;34m]\u001b[0m\u001b[0;34m.\u001b[0m\u001b[0mname\u001b[0m\u001b[0;34m,\u001b[0m \u001b[0minplace\u001b[0m \u001b[0;34m=\u001b[0m \u001b[0;32mTrue\u001b[0m\u001b[0;34m)\u001b[0m\u001b[0;34m\u001b[0m\u001b[0;34m\u001b[0m\u001b[0m\n\u001b[0m",
            "\u001b[0;32m/usr/local/lib/python3.7/dist-packages/pandas/core/indexing.py\u001b[0m in \u001b[0;36m__getitem__\u001b[0;34m(self, key)\u001b[0m\n\u001b[1;32m    929\u001b[0m \u001b[0;34m\u001b[0m\u001b[0m\n\u001b[1;32m    930\u001b[0m             \u001b[0mmaybe_callable\u001b[0m \u001b[0;34m=\u001b[0m \u001b[0mcom\u001b[0m\u001b[0;34m.\u001b[0m\u001b[0mapply_if_callable\u001b[0m\u001b[0;34m(\u001b[0m\u001b[0mkey\u001b[0m\u001b[0;34m,\u001b[0m \u001b[0mself\u001b[0m\u001b[0;34m.\u001b[0m\u001b[0mobj\u001b[0m\u001b[0;34m)\u001b[0m\u001b[0;34m\u001b[0m\u001b[0;34m\u001b[0m\u001b[0m\n\u001b[0;32m--> 931\u001b[0;31m             \u001b[0;32mreturn\u001b[0m \u001b[0mself\u001b[0m\u001b[0;34m.\u001b[0m\u001b[0m_getitem_axis\u001b[0m\u001b[0;34m(\u001b[0m\u001b[0mmaybe_callable\u001b[0m\u001b[0;34m,\u001b[0m \u001b[0maxis\u001b[0m\u001b[0;34m=\u001b[0m\u001b[0maxis\u001b[0m\u001b[0;34m)\u001b[0m\u001b[0;34m\u001b[0m\u001b[0;34m\u001b[0m\u001b[0m\n\u001b[0m\u001b[1;32m    932\u001b[0m \u001b[0;34m\u001b[0m\u001b[0m\n\u001b[1;32m    933\u001b[0m     \u001b[0;32mdef\u001b[0m \u001b[0m_is_scalar_access\u001b[0m\u001b[0;34m(\u001b[0m\u001b[0mself\u001b[0m\u001b[0;34m,\u001b[0m \u001b[0mkey\u001b[0m\u001b[0;34m:\u001b[0m \u001b[0mtuple\u001b[0m\u001b[0;34m)\u001b[0m\u001b[0;34m:\u001b[0m\u001b[0;34m\u001b[0m\u001b[0;34m\u001b[0m\u001b[0m\n",
            "\u001b[0;32m/usr/local/lib/python3.7/dist-packages/pandas/core/indexing.py\u001b[0m in \u001b[0;36m_getitem_axis\u001b[0;34m(self, key, axis)\u001b[0m\n\u001b[1;32m   1564\u001b[0m \u001b[0;34m\u001b[0m\u001b[0m\n\u001b[1;32m   1565\u001b[0m             \u001b[0;31m# validate the location\u001b[0m\u001b[0;34m\u001b[0m\u001b[0;34m\u001b[0m\u001b[0;34m\u001b[0m\u001b[0m\n\u001b[0;32m-> 1566\u001b[0;31m             \u001b[0mself\u001b[0m\u001b[0;34m.\u001b[0m\u001b[0m_validate_integer\u001b[0m\u001b[0;34m(\u001b[0m\u001b[0mkey\u001b[0m\u001b[0;34m,\u001b[0m \u001b[0maxis\u001b[0m\u001b[0;34m)\u001b[0m\u001b[0;34m\u001b[0m\u001b[0;34m\u001b[0m\u001b[0m\n\u001b[0m\u001b[1;32m   1567\u001b[0m \u001b[0;34m\u001b[0m\u001b[0m\n\u001b[1;32m   1568\u001b[0m             \u001b[0;32mreturn\u001b[0m \u001b[0mself\u001b[0m\u001b[0;34m.\u001b[0m\u001b[0mobj\u001b[0m\u001b[0;34m.\u001b[0m\u001b[0m_ixs\u001b[0m\u001b[0;34m(\u001b[0m\u001b[0mkey\u001b[0m\u001b[0;34m,\u001b[0m \u001b[0maxis\u001b[0m\u001b[0;34m=\u001b[0m\u001b[0maxis\u001b[0m\u001b[0;34m)\u001b[0m\u001b[0;34m\u001b[0m\u001b[0;34m\u001b[0m\u001b[0m\n",
            "\u001b[0;32m/usr/local/lib/python3.7/dist-packages/pandas/core/indexing.py\u001b[0m in \u001b[0;36m_validate_integer\u001b[0;34m(self, key, axis)\u001b[0m\n\u001b[1;32m   1498\u001b[0m         \u001b[0mlen_axis\u001b[0m \u001b[0;34m=\u001b[0m \u001b[0mlen\u001b[0m\u001b[0;34m(\u001b[0m\u001b[0mself\u001b[0m\u001b[0;34m.\u001b[0m\u001b[0mobj\u001b[0m\u001b[0;34m.\u001b[0m\u001b[0m_get_axis\u001b[0m\u001b[0;34m(\u001b[0m\u001b[0maxis\u001b[0m\u001b[0;34m)\u001b[0m\u001b[0;34m)\u001b[0m\u001b[0;34m\u001b[0m\u001b[0;34m\u001b[0m\u001b[0m\n\u001b[1;32m   1499\u001b[0m         \u001b[0;32mif\u001b[0m \u001b[0mkey\u001b[0m \u001b[0;34m>=\u001b[0m \u001b[0mlen_axis\u001b[0m \u001b[0;32mor\u001b[0m \u001b[0mkey\u001b[0m \u001b[0;34m<\u001b[0m \u001b[0;34m-\u001b[0m\u001b[0mlen_axis\u001b[0m\u001b[0;34m:\u001b[0m\u001b[0;34m\u001b[0m\u001b[0;34m\u001b[0m\u001b[0m\n\u001b[0;32m-> 1500\u001b[0;31m             \u001b[0;32mraise\u001b[0m \u001b[0mIndexError\u001b[0m\u001b[0;34m(\u001b[0m\u001b[0;34m\"single positional indexer is out-of-bounds\"\u001b[0m\u001b[0;34m)\u001b[0m\u001b[0;34m\u001b[0m\u001b[0;34m\u001b[0m\u001b[0m\n\u001b[0m\u001b[1;32m   1501\u001b[0m \u001b[0;34m\u001b[0m\u001b[0m\n\u001b[1;32m   1502\u001b[0m     \u001b[0;31m# -------------------------------------------------------------------\u001b[0m\u001b[0;34m\u001b[0m\u001b[0;34m\u001b[0m\u001b[0;34m\u001b[0m\u001b[0m\n",
            "\u001b[0;31mIndexError\u001b[0m: single positional indexer is out-of-bounds"
          ]
        }
      ]
    },
    {
      "cell_type": "code",
      "source": [
        "\"\"\"Applying Word2Vec on whole data\"\"\"\n",
        "from tqdm import tqdm\n",
        "X = []\n",
        "for doc in tqdm(df['tweet_content'].values):\n",
        "  clean_doc = regex_cleaning(doc)\n",
        "  X.append(document_vector(clean_doc))"
      ],
      "metadata": {
        "colab": {
          "base_uri": "https://localhost:8080/"
        },
        "id": "kl2EB8PAKWWu",
        "outputId": "f1805723-72e4-46a0-c66f-bd0cd1f14419"
      },
      "execution_count": 147,
      "outputs": [
        {
          "output_type": "stream",
          "name": "stderr",
          "text": [
            "100%|██████████| 16077/16077 [00:25<00:00, 642.24it/s]\n"
          ]
        }
      ]
    },
    {
      "cell_type": "code",
      "source": [
        "\"\"\"Converting the list to array\"\"\"\n",
        "X = np.array(X)\n",
        "X[0]"
      ],
      "metadata": {
        "colab": {
          "base_uri": "https://localhost:8080/"
        },
        "id": "wHfGbR0QKUBa",
        "outputId": "a0e2786c-2a68-42e8-f981-a964912ee129"
      },
      "execution_count": 148,
      "outputs": [
        {
          "output_type": "execute_result",
          "data": {
            "text/plain": [
              "array([ 1.2392414 , -0.5461317 ,  0.22603843,  0.58619994, -0.2821199 ,\n",
              "        0.35476762, -0.18892801, -0.8905152 , -0.05485167,  0.15159881,\n",
              "        0.43575487, -0.18481593, -0.7841195 , -0.14616133, -0.35766578,\n",
              "       -0.6715085 ,  0.7725897 ,  0.11418958, -0.04181656, -1.2434547 ,\n",
              "       -0.01374784, -0.51570374, -0.4465645 , -0.57193935, -0.7199698 ,\n",
              "       -0.84556496, -0.45986718,  0.66710263, -0.3420115 ,  0.4001822 ,\n",
              "        0.69861287,  0.46147758,  0.11368301, -0.45561638, -0.13727236,\n",
              "       -0.5136942 , -0.6760129 , -0.12404883, -0.06626768, -0.18655436,\n",
              "        1.0986191 , -0.36025527, -0.03840779, -0.03658637,  0.03756427,\n",
              "        1.0091736 , -0.19789185,  0.16139212,  0.27346435, -0.84654456,\n",
              "        0.12732565,  0.291108  ,  0.7331064 , -0.179261  , -0.01003943,\n",
              "        0.36774424,  0.65924627,  0.57795376,  0.14303502, -0.17117925,\n",
              "       -0.41966805, -0.4407126 ,  0.17024048, -0.33329216, -0.5948881 ,\n",
              "        0.0081243 , -0.03777701,  1.3520876 , -0.25472227,  0.17145166,\n",
              "       -1.1750547 ,  0.60000813, -0.32353815, -0.66467077, -0.87704706,\n",
              "        0.5043467 ,  0.83740187, -0.8658384 , -0.22870481,  0.08534478,\n",
              "        1.2363772 ,  0.04769346, -0.43584085,  0.00236455,  0.28838536,\n",
              "        1.1717155 , -0.38980287,  0.06419118,  0.37091905,  0.8690263 ,\n",
              "        0.0883878 , -0.26086846, -0.14500625, -0.21156907, -0.12120529,\n",
              "        0.60881716,  0.6793864 ,  0.04756377,  0.50412196,  0.64454156],\n",
              "      dtype=float32)"
            ]
          },
          "metadata": {},
          "execution_count": 148
        }
      ]
    },
    {
      "cell_type": "code",
      "source": [
        "\"\"\"Decalring Features and Label\"\"\"\n",
        "features = X.copy()\n",
        "labels = df['sentiments_one_shot_classifier'].values"
      ],
      "metadata": {
        "id": "afYruCYcI6M8"
      },
      "execution_count": 149,
      "outputs": []
    },
    {
      "cell_type": "code",
      "source": [
        "# # Splitting the data into Training and Testing set\n",
        "X_train, X_test, y_train, y_test = train_test_split(features, labels, stratify = labels,   test_size= 0.3,  random_state = 42)"
      ],
      "metadata": {
        "id": "yvrm9XpjKBsH"
      },
      "execution_count": 150,
      "outputs": []
    },
    {
      "cell_type": "code",
      "source": [
        "from sklearn.linear_model import LogisticRegression\n",
        "from sklearn.svm import SVC\n",
        "from sklearn.naive_bayes import MultinomialNB\n",
        "from sklearn.tree import DecisionTreeClassifier\n",
        "from sklearn.neighbors import KNeighborsClassifier\n",
        "from sklearn.ensemble import RandomForestClassifier\n",
        "from sklearn.ensemble import AdaBoostClassifier\n",
        "from sklearn.ensemble import BaggingClassifier\n",
        "from sklearn.ensemble import ExtraTreesClassifier\n",
        "from sklearn.ensemble import GradientBoostingClassifier\n",
        "from xgboost import XGBClassifier"
      ],
      "metadata": {
        "id": "kF1MH-x1KD9k"
      },
      "execution_count": 151,
      "outputs": []
    },
    {
      "cell_type": "code",
      "source": [
        "svc = SVC( kernel=\"linear\", class_weight='balanced' )\n",
        "knc = KNeighborsClassifier()\n",
        "# mnb = MultinomialNB()\n",
        "dtc = DecisionTreeClassifier()\n",
        "lrc = LogisticRegression(solver='liblinear', penalty='l1')\n",
        "rfc = RandomForestClassifier( random_state=7)\n",
        "abc = AdaBoostClassifier( random_state=7)\n",
        "bc = BaggingClassifier(random_state=7)\n",
        "etc = ExtraTreesClassifier(random_state=7)\n",
        "gbdt = GradientBoostingClassifier(random_state=7)\n",
        "xgb = XGBClassifier(random_state=7)"
      ],
      "metadata": {
        "id": "JQiksszvKFv9"
      },
      "execution_count": 152,
      "outputs": []
    },
    {
      "cell_type": "code",
      "source": [
        "clfs = {'SVC':svc,\n",
        "    'KN' : knc, \n",
        "    # 'NB': mnb, \n",
        "    'DT': dtc, \n",
        "    'LR': lrc, \n",
        "    'RF': rfc, \n",
        "    'AdaBoost': abc, \n",
        "    'BgC': bc, \n",
        "    'ETC': etc,\n",
        "    'GBDT':gbdt,\n",
        "    'xgb':xgb\n",
        "}"
      ],
      "metadata": {
        "id": "GQeO7vCxKHIZ"
      },
      "execution_count": 153,
      "outputs": []
    },
    {
      "cell_type": "code",
      "source": [
        "def train_classifier(clf,X_train,y_train,X_test,y_test):\n",
        "    clf.fit(X_train,y_train)\n",
        "    train_pred = clf.predict(X_train)\n",
        "    test_pred = clf.predict(X_test)\n",
        "    accuracy_train = metrics.accuracy_score(y_train,train_pred )\n",
        "    accuracy_test = metrics.accuracy_score(y_test,test_pred)\n",
        "    precision_train = metrics.precision_score(y_train,train_pred, average=\"macro\")\n",
        "    precision_test = metrics.precision_score(y_test,test_pred, average=\"macro\")\n",
        "    recall_train = metrics.recall_score(y_train,train_pred, average=\"macro\")\n",
        "    recall_test = metrics.recall_score(y_test,test_pred, average=\"macro\")\n",
        "    \n",
        "    return accuracy_train,accuracy_test, precision_train, precision_test, recall_train, recall_test"
      ],
      "metadata": {
        "id": "6IeHgAVZKIeg"
      },
      "execution_count": 154,
      "outputs": []
    },
    {
      "cell_type": "code",
      "source": [
        "import warnings\n",
        "warnings.filterwarnings('ignore')\n",
        "\n",
        "\n",
        "accuracy_scores_tr = []\n",
        "accuracy_scores_ts = []\n",
        "precision_tr_scores = []\n",
        "precision_ts_scores = []\n",
        "recall_tr_scores = []\n",
        "recall_ts_scores = []\n",
        "\n",
        "for name,clf in clfs.items():\n",
        "    \n",
        "    current_accuracy_tr,current_accuracy_ts,precision_tr, precision_ts, recall_tr, recall_ts = train_classifier(clf, X_train,\n",
        "                                                                                                      y_train,X_test,y_test)\n",
        "    \n",
        "    print(\"For \",name)\n",
        "    print(\"Accuracy Train - \",current_accuracy_tr)\n",
        "    print(\"Accuracy Test - \",current_accuracy_ts)\n",
        "    print(\"Precision Train - \\n\",precision_tr)\n",
        "    print(\"Precision Test - \\n\",precision_ts)\n",
        "    print(\"Recall Train - \\n\",recall_tr)\n",
        "    print(\"Recall Test - \\n\",recall_ts)\n",
        "    \n",
        "    accuracy_scores_tr.append(current_accuracy_tr)\n",
        "    accuracy_scores_ts.append(current_accuracy_ts)\n",
        "    precision_tr_scores.append(precision_tr)\n",
        "    precision_ts_scores.append(precision_ts)\n",
        "    recall_tr_scores.append(recall_tr)\n",
        "    recall_ts_scores.append(recall_ts)\n",
        "    print()\n",
        "    print(\"=\"*100)\n",
        "    print()"
      ],
      "metadata": {
        "colab": {
          "base_uri": "https://localhost:8080/"
        },
        "id": "aUiZVgmiTM5S",
        "outputId": "df15f9ee-0de2-4294-980b-eebc957df099"
      },
      "execution_count": 155,
      "outputs": [
        {
          "output_type": "stream",
          "name": "stdout",
          "text": [
            "For  SVC\n",
            "Accuracy Train -  0.7912556651559585\n",
            "Accuracy Test -  0.789179104477612\n",
            "Precision Train - \n",
            " 0.7841156303568646\n",
            "Precision Test - \n",
            " 0.7822901796190215\n",
            "Recall Train - \n",
            " 0.7784681647078918\n",
            "Recall Test - \n",
            " 0.7754275276320117\n",
            "\n",
            "====================================================================================================\n",
            "\n",
            "For  KN\n",
            "Accuracy Train -  0.8630587398915844\n",
            "Accuracy Test -  0.796849087893864\n",
            "Precision Train - \n",
            " 0.8635860720520092\n",
            "Precision Test - \n",
            " 0.7944052063210949\n",
            "Recall Train - \n",
            " 0.8495870970496844\n",
            "Recall Test - \n",
            " 0.777624147446988\n",
            "\n",
            "====================================================================================================\n",
            "\n",
            "For  DT\n",
            "Accuracy Train -  0.9995556740424776\n",
            "Accuracy Test -  0.7719734660033167\n",
            "Precision Train - \n",
            " 0.9995560409376574\n",
            "Precision Test - \n",
            " 0.7628858024691358\n",
            "Recall Train - \n",
            " 0.9995198757070312\n",
            "Recall Test - \n",
            " 0.7630624705091725\n",
            "\n",
            "====================================================================================================\n",
            "\n",
            "For  LR\n",
            "Accuracy Train -  0.7932995645605616\n",
            "Accuracy Test -  0.7906301824212272\n",
            "Precision Train - \n",
            " 0.7936106982861312\n",
            "Precision Test - \n",
            " 0.7912832871317668\n",
            "Recall Train - \n",
            " 0.7707342120995132\n",
            "Recall Test - \n",
            " 0.7673613394912564\n",
            "\n",
            "====================================================================================================\n",
            "\n",
            "For  RF\n",
            "Accuracy Train -  0.9995556740424776\n",
            "Accuracy Test -  0.8376865671641791\n",
            "Precision Train - \n",
            " 0.9995560409376574\n",
            "Precision Test - \n",
            " 0.8417315578509137\n",
            "Recall Train - \n",
            " 0.9995198757070312\n",
            "Recall Test - \n",
            " 0.8182739465518967\n",
            "\n",
            "====================================================================================================\n",
            "\n",
            "For  AdaBoost\n",
            "Accuracy Train -  0.7873455967297609\n",
            "Accuracy Test -  0.7804726368159204\n",
            "Precision Train - \n",
            " 0.7831430881777401\n",
            "Precision Test - \n",
            " 0.7757543618504597\n",
            "Recall Train - \n",
            " 0.7687218583506875\n",
            "Recall Test - \n",
            " 0.7613970430530335\n",
            "\n",
            "====================================================================================================\n",
            "\n",
            "For  BgC\n",
            "Accuracy Train -  0.9885363902959211\n",
            "Accuracy Test -  0.8113598673300166\n",
            "Precision Train - \n",
            " 0.9899977478771658\n",
            "Precision Test - \n",
            " 0.8127778633004926\n",
            "Recall Train - \n",
            " 0.9862523896177269\n",
            "Recall Test - \n",
            " 0.7905193245349387\n",
            "\n",
            "====================================================================================================\n",
            "\n",
            "For  ETC\n",
            "Accuracy Train -  0.9995556740424776\n",
            "Accuracy Test -  0.8333333333333334\n",
            "Precision Train - \n",
            " 0.9995560409376574\n",
            "Precision Test - \n",
            " 0.8394079415642759\n",
            "Recall Train - \n",
            " 0.9995198757070312\n",
            "Recall Test - \n",
            " 0.8119335973804995\n",
            "\n",
            "====================================================================================================\n",
            "\n",
            "For  GBDT\n",
            "Accuracy Train -  0.837998755887319\n",
            "Accuracy Test -  0.804726368159204\n",
            "Precision Train - \n",
            " 0.8465310556465934\n",
            "Precision Test - \n",
            " 0.8093747337933384\n",
            "Recall Train - \n",
            " 0.8156047621550246\n",
            "Recall Test - \n",
            " 0.7804159457797732\n",
            "\n",
            "====================================================================================================\n",
            "\n",
            "For  xgb\n",
            "Accuracy Train -  0.8317781924820048\n",
            "Accuracy Test -  0.8076285240464345\n",
            "Precision Train - \n",
            " 0.8413934776948525\n",
            "Precision Test - \n",
            " 0.8139375667158033\n",
            "Recall Train - \n",
            " 0.8079423174200668\n",
            "Recall Test - \n",
            " 0.7825900453265082\n",
            "\n",
            "====================================================================================================\n",
            "\n"
          ]
        }
      ]
    },
    {
      "cell_type": "code",
      "source": [
        "performance_df = pd.DataFrame({'Algorithm':clfs.keys(),'Accuracy Train':accuracy_scores_tr,'Accuracy Test':accuracy_scores_ts,\n",
        "                               'Precision Train':precision_tr_scores,'Precision Test':precision_ts_scores,\n",
        "                               'Recall Train':recall_tr_scores,'Recall Test':recall_ts_scores}).style.background_gradient(cmap = 'magma_r', subset = ['Recall Test', 'Precision Test', 'Accuracy Test'\t])\n",
        "performance_df"
      ],
      "metadata": {
        "colab": {
          "base_uri": "https://localhost:8080/",
          "height": 363
        },
        "id": "vyg9ZPhRTTDC",
        "outputId": "1dddc79d-379b-47f7-a59a-44426f9c5fe1"
      },
      "execution_count": 157,
      "outputs": [
        {
          "output_type": "execute_result",
          "data": {
            "text/html": [
              "<style type=\"text/css\">\n",
              "#T_0e799_row0_col2 {\n",
              "  background-color: #fa815f;\n",
              "  color: #f1f1f1;\n",
              "}\n",
              "#T_0e799_row0_col4, #T_0e799_row0_col6 {\n",
              "  background-color: #fc8961;\n",
              "  color: #f1f1f1;\n",
              "}\n",
              "#T_0e799_row1_col2 {\n",
              "  background-color: #e55064;\n",
              "  color: #f1f1f1;\n",
              "}\n",
              "#T_0e799_row1_col4 {\n",
              "  background-color: #de4968;\n",
              "  color: #f1f1f1;\n",
              "}\n",
              "#T_0e799_row1_col6 {\n",
              "  background-color: #f8765c;\n",
              "  color: #f1f1f1;\n",
              "}\n",
              "#T_0e799_row2_col2, #T_0e799_row2_col4, #T_0e799_row5_col6 {\n",
              "  background-color: #fcfdbf;\n",
              "  color: #000000;\n",
              "}\n",
              "#T_0e799_row2_col6 {\n",
              "  background-color: #fcf0b2;\n",
              "  color: #000000;\n",
              "}\n",
              "#T_0e799_row3_col2 {\n",
              "  background-color: #f9785d;\n",
              "  color: #f1f1f1;\n",
              "}\n",
              "#T_0e799_row3_col4 {\n",
              "  background-color: #ea5661;\n",
              "  color: #f1f1f1;\n",
              "}\n",
              "#T_0e799_row3_col6 {\n",
              "  background-color: #fecd90;\n",
              "  color: #000000;\n",
              "}\n",
              "#T_0e799_row4_col2, #T_0e799_row4_col4, #T_0e799_row4_col6 {\n",
              "  background-color: #000004;\n",
              "  color: #f1f1f1;\n",
              "}\n",
              "#T_0e799_row5_col2 {\n",
              "  background-color: #fec185;\n",
              "  color: #000000;\n",
              "}\n",
              "#T_0e799_row5_col4 {\n",
              "  background-color: #feb27a;\n",
              "  color: #000000;\n",
              "}\n",
              "#T_0e799_row6_col2 {\n",
              "  background-color: #8c2981;\n",
              "  color: #f1f1f1;\n",
              "}\n",
              "#T_0e799_row6_col4 {\n",
              "  background-color: #802582;\n",
              "  color: #f1f1f1;\n",
              "}\n",
              "#T_0e799_row6_col6 {\n",
              "  background-color: #b0357b;\n",
              "  color: #f1f1f1;\n",
              "}\n",
              "#T_0e799_row7_col2 {\n",
              "  background-color: #0a0822;\n",
              "  color: #f1f1f1;\n",
              "}\n",
              "#T_0e799_row7_col4 {\n",
              "  background-color: #03030f;\n",
              "  color: #f1f1f1;\n",
              "}\n",
              "#T_0e799_row7_col6 {\n",
              "  background-color: #180f3d;\n",
              "  color: #f1f1f1;\n",
              "}\n",
              "#T_0e799_row8_col2 {\n",
              "  background-color: #b73779;\n",
              "  color: #f1f1f1;\n",
              "}\n",
              "#T_0e799_row8_col4 {\n",
              "  background-color: #912b81;\n",
              "  color: #f1f1f1;\n",
              "}\n",
              "#T_0e799_row8_col6 {\n",
              "  background-color: #f1605d;\n",
              "  color: #f1f1f1;\n",
              "}\n",
              "#T_0e799_row9_col2 {\n",
              "  background-color: #a5317e;\n",
              "  color: #f1f1f1;\n",
              "}\n",
              "#T_0e799_row9_col4 {\n",
              "  background-color: #792282;\n",
              "  color: #f1f1f1;\n",
              "}\n",
              "#T_0e799_row9_col6 {\n",
              "  background-color: #e75263;\n",
              "  color: #f1f1f1;\n",
              "}\n",
              "</style>\n",
              "<table id=\"T_0e799_\" class=\"dataframe\">\n",
              "  <thead>\n",
              "    <tr>\n",
              "      <th class=\"blank level0\" >&nbsp;</th>\n",
              "      <th class=\"col_heading level0 col0\" >Algorithm</th>\n",
              "      <th class=\"col_heading level0 col1\" >Accuracy Train</th>\n",
              "      <th class=\"col_heading level0 col2\" >Accuracy Test</th>\n",
              "      <th class=\"col_heading level0 col3\" >Precision Train</th>\n",
              "      <th class=\"col_heading level0 col4\" >Precision Test</th>\n",
              "      <th class=\"col_heading level0 col5\" >Recall Train</th>\n",
              "      <th class=\"col_heading level0 col6\" >Recall Test</th>\n",
              "    </tr>\n",
              "  </thead>\n",
              "  <tbody>\n",
              "    <tr>\n",
              "      <th id=\"T_0e799_level0_row0\" class=\"row_heading level0 row0\" >0</th>\n",
              "      <td id=\"T_0e799_row0_col0\" class=\"data row0 col0\" >SVC</td>\n",
              "      <td id=\"T_0e799_row0_col1\" class=\"data row0 col1\" >0.791256</td>\n",
              "      <td id=\"T_0e799_row0_col2\" class=\"data row0 col2\" >0.789179</td>\n",
              "      <td id=\"T_0e799_row0_col3\" class=\"data row0 col3\" >0.784116</td>\n",
              "      <td id=\"T_0e799_row0_col4\" class=\"data row0 col4\" >0.782290</td>\n",
              "      <td id=\"T_0e799_row0_col5\" class=\"data row0 col5\" >0.778468</td>\n",
              "      <td id=\"T_0e799_row0_col6\" class=\"data row0 col6\" >0.775428</td>\n",
              "    </tr>\n",
              "    <tr>\n",
              "      <th id=\"T_0e799_level0_row1\" class=\"row_heading level0 row1\" >1</th>\n",
              "      <td id=\"T_0e799_row1_col0\" class=\"data row1 col0\" >KN</td>\n",
              "      <td id=\"T_0e799_row1_col1\" class=\"data row1 col1\" >0.863059</td>\n",
              "      <td id=\"T_0e799_row1_col2\" class=\"data row1 col2\" >0.796849</td>\n",
              "      <td id=\"T_0e799_row1_col3\" class=\"data row1 col3\" >0.863586</td>\n",
              "      <td id=\"T_0e799_row1_col4\" class=\"data row1 col4\" >0.794405</td>\n",
              "      <td id=\"T_0e799_row1_col5\" class=\"data row1 col5\" >0.849587</td>\n",
              "      <td id=\"T_0e799_row1_col6\" class=\"data row1 col6\" >0.777624</td>\n",
              "    </tr>\n",
              "    <tr>\n",
              "      <th id=\"T_0e799_level0_row2\" class=\"row_heading level0 row2\" >2</th>\n",
              "      <td id=\"T_0e799_row2_col0\" class=\"data row2 col0\" >DT</td>\n",
              "      <td id=\"T_0e799_row2_col1\" class=\"data row2 col1\" >0.999556</td>\n",
              "      <td id=\"T_0e799_row2_col2\" class=\"data row2 col2\" >0.771973</td>\n",
              "      <td id=\"T_0e799_row2_col3\" class=\"data row2 col3\" >0.999556</td>\n",
              "      <td id=\"T_0e799_row2_col4\" class=\"data row2 col4\" >0.762886</td>\n",
              "      <td id=\"T_0e799_row2_col5\" class=\"data row2 col5\" >0.999520</td>\n",
              "      <td id=\"T_0e799_row2_col6\" class=\"data row2 col6\" >0.763062</td>\n",
              "    </tr>\n",
              "    <tr>\n",
              "      <th id=\"T_0e799_level0_row3\" class=\"row_heading level0 row3\" >3</th>\n",
              "      <td id=\"T_0e799_row3_col0\" class=\"data row3 col0\" >LR</td>\n",
              "      <td id=\"T_0e799_row3_col1\" class=\"data row3 col1\" >0.793300</td>\n",
              "      <td id=\"T_0e799_row3_col2\" class=\"data row3 col2\" >0.790630</td>\n",
              "      <td id=\"T_0e799_row3_col3\" class=\"data row3 col3\" >0.793611</td>\n",
              "      <td id=\"T_0e799_row3_col4\" class=\"data row3 col4\" >0.791283</td>\n",
              "      <td id=\"T_0e799_row3_col5\" class=\"data row3 col5\" >0.770734</td>\n",
              "      <td id=\"T_0e799_row3_col6\" class=\"data row3 col6\" >0.767361</td>\n",
              "    </tr>\n",
              "    <tr>\n",
              "      <th id=\"T_0e799_level0_row4\" class=\"row_heading level0 row4\" >4</th>\n",
              "      <td id=\"T_0e799_row4_col0\" class=\"data row4 col0\" >RF</td>\n",
              "      <td id=\"T_0e799_row4_col1\" class=\"data row4 col1\" >0.999556</td>\n",
              "      <td id=\"T_0e799_row4_col2\" class=\"data row4 col2\" >0.837687</td>\n",
              "      <td id=\"T_0e799_row4_col3\" class=\"data row4 col3\" >0.999556</td>\n",
              "      <td id=\"T_0e799_row4_col4\" class=\"data row4 col4\" >0.841732</td>\n",
              "      <td id=\"T_0e799_row4_col5\" class=\"data row4 col5\" >0.999520</td>\n",
              "      <td id=\"T_0e799_row4_col6\" class=\"data row4 col6\" >0.818274</td>\n",
              "    </tr>\n",
              "    <tr>\n",
              "      <th id=\"T_0e799_level0_row5\" class=\"row_heading level0 row5\" >5</th>\n",
              "      <td id=\"T_0e799_row5_col0\" class=\"data row5 col0\" >AdaBoost</td>\n",
              "      <td id=\"T_0e799_row5_col1\" class=\"data row5 col1\" >0.787346</td>\n",
              "      <td id=\"T_0e799_row5_col2\" class=\"data row5 col2\" >0.780473</td>\n",
              "      <td id=\"T_0e799_row5_col3\" class=\"data row5 col3\" >0.783143</td>\n",
              "      <td id=\"T_0e799_row5_col4\" class=\"data row5 col4\" >0.775754</td>\n",
              "      <td id=\"T_0e799_row5_col5\" class=\"data row5 col5\" >0.768722</td>\n",
              "      <td id=\"T_0e799_row5_col6\" class=\"data row5 col6\" >0.761397</td>\n",
              "    </tr>\n",
              "    <tr>\n",
              "      <th id=\"T_0e799_level0_row6\" class=\"row_heading level0 row6\" >6</th>\n",
              "      <td id=\"T_0e799_row6_col0\" class=\"data row6 col0\" >BgC</td>\n",
              "      <td id=\"T_0e799_row6_col1\" class=\"data row6 col1\" >0.988536</td>\n",
              "      <td id=\"T_0e799_row6_col2\" class=\"data row6 col2\" >0.811360</td>\n",
              "      <td id=\"T_0e799_row6_col3\" class=\"data row6 col3\" >0.989998</td>\n",
              "      <td id=\"T_0e799_row6_col4\" class=\"data row6 col4\" >0.812778</td>\n",
              "      <td id=\"T_0e799_row6_col5\" class=\"data row6 col5\" >0.986252</td>\n",
              "      <td id=\"T_0e799_row6_col6\" class=\"data row6 col6\" >0.790519</td>\n",
              "    </tr>\n",
              "    <tr>\n",
              "      <th id=\"T_0e799_level0_row7\" class=\"row_heading level0 row7\" >7</th>\n",
              "      <td id=\"T_0e799_row7_col0\" class=\"data row7 col0\" >ETC</td>\n",
              "      <td id=\"T_0e799_row7_col1\" class=\"data row7 col1\" >0.999556</td>\n",
              "      <td id=\"T_0e799_row7_col2\" class=\"data row7 col2\" >0.833333</td>\n",
              "      <td id=\"T_0e799_row7_col3\" class=\"data row7 col3\" >0.999556</td>\n",
              "      <td id=\"T_0e799_row7_col4\" class=\"data row7 col4\" >0.839408</td>\n",
              "      <td id=\"T_0e799_row7_col5\" class=\"data row7 col5\" >0.999520</td>\n",
              "      <td id=\"T_0e799_row7_col6\" class=\"data row7 col6\" >0.811934</td>\n",
              "    </tr>\n",
              "    <tr>\n",
              "      <th id=\"T_0e799_level0_row8\" class=\"row_heading level0 row8\" >8</th>\n",
              "      <td id=\"T_0e799_row8_col0\" class=\"data row8 col0\" >GBDT</td>\n",
              "      <td id=\"T_0e799_row8_col1\" class=\"data row8 col1\" >0.837999</td>\n",
              "      <td id=\"T_0e799_row8_col2\" class=\"data row8 col2\" >0.804726</td>\n",
              "      <td id=\"T_0e799_row8_col3\" class=\"data row8 col3\" >0.846531</td>\n",
              "      <td id=\"T_0e799_row8_col4\" class=\"data row8 col4\" >0.809375</td>\n",
              "      <td id=\"T_0e799_row8_col5\" class=\"data row8 col5\" >0.815605</td>\n",
              "      <td id=\"T_0e799_row8_col6\" class=\"data row8 col6\" >0.780416</td>\n",
              "    </tr>\n",
              "    <tr>\n",
              "      <th id=\"T_0e799_level0_row9\" class=\"row_heading level0 row9\" >9</th>\n",
              "      <td id=\"T_0e799_row9_col0\" class=\"data row9 col0\" >xgb</td>\n",
              "      <td id=\"T_0e799_row9_col1\" class=\"data row9 col1\" >0.831778</td>\n",
              "      <td id=\"T_0e799_row9_col2\" class=\"data row9 col2\" >0.807629</td>\n",
              "      <td id=\"T_0e799_row9_col3\" class=\"data row9 col3\" >0.841393</td>\n",
              "      <td id=\"T_0e799_row9_col4\" class=\"data row9 col4\" >0.813938</td>\n",
              "      <td id=\"T_0e799_row9_col5\" class=\"data row9 col5\" >0.807942</td>\n",
              "      <td id=\"T_0e799_row9_col6\" class=\"data row9 col6\" >0.782590</td>\n",
              "    </tr>\n",
              "  </tbody>\n",
              "</table>\n"
            ],
            "text/plain": [
              "<pandas.io.formats.style.Styler at 0x7f377f667b10>"
            ]
          },
          "metadata": {},
          "execution_count": 157
        }
      ]
    },
    {
      "cell_type": "code",
      "source": [
        "%%time\n",
        "# from sklearn.ensemble import RandomForestClassifier\n",
        "lr = SVC(C = 0.001 , kernel=\"linear\", class_weight='balanced')\n",
        "lr.fit(X_train,y_train)\n",
        "\n",
        "preds_train = lr.predict(X_train)                                            # Prediction on training set\n",
        "preds_test = lr.predict(X_test)                                              # Prediction on training set\n",
        "\n",
        "training_metrics = metrics.classification_report(y_train, preds_train)                    # Getting Classification report of Training set predictions\n",
        "testing_metrics = metrics.classification_report(y_test, preds_test)                       # Getting Classification report of Test set predictions\n",
        "\n",
        "print(f\"Training Confusion Matrix: \\n{metrics.confusion_matrix(y_train, preds_train)}\\n\") # Printing Confusion Matrix (training)\n",
        "print(f\"Training Classification Report: \\n{training_metrics}\")                            # Printing Classification report (testing)\n",
        "print(\"=\"*100)\n",
        "print(f\"Testing Confusion Matrix: \\n{metrics.confusion_matrix(y_test, preds_test)}\\n\")    # Printing Confusion Matrix (training)\n",
        "print(f\"Testing Classification Report: \\n{testing_metrics}\")                              # Printing Classification report (testing)"
      ],
      "metadata": {
        "colab": {
          "base_uri": "https://localhost:8080/"
        },
        "id": "CvKgIySRTVJz",
        "outputId": "edafb068-fa84-462a-bbde-25f294bdb599"
      },
      "execution_count": 161,
      "outputs": [
        {
          "output_type": "stream",
          "name": "stdout",
          "text": [
            "Training Confusion Matrix: \n",
            "[[4373 2355]\n",
            " [1137 3388]]\n",
            "\n",
            "Training Classification Report: \n",
            "              precision    recall  f1-score   support\n",
            "\n",
            "    negative       0.79      0.65      0.71      6728\n",
            "    positive       0.59      0.75      0.66      4525\n",
            "\n",
            "    accuracy                           0.69     11253\n",
            "   macro avg       0.69      0.70      0.69     11253\n",
            "weighted avg       0.71      0.69      0.69     11253\n",
            "\n",
            "====================================================================================================\n",
            "Testing Confusion Matrix: \n",
            "[[1893  991]\n",
            " [ 503 1437]]\n",
            "\n",
            "Testing Classification Report: \n",
            "              precision    recall  f1-score   support\n",
            "\n",
            "    negative       0.79      0.66      0.72      2884\n",
            "    positive       0.59      0.74      0.66      1940\n",
            "\n",
            "    accuracy                           0.69      4824\n",
            "   macro avg       0.69      0.70      0.69      4824\n",
            "weighted avg       0.71      0.69      0.69      4824\n",
            "\n",
            "CPU times: user 18.3 s, sys: 58 ms, total: 18.4 s\n",
            "Wall time: 19.1 s\n"
          ]
        }
      ]
    },
    {
      "cell_type": "code",
      "source": [
        "plt.figure(figsize = (15,15))\n",
        "metrics.plot_confusion_matrix(lr,X_train,y_train, )  \n",
        "plt.xticks(rotation = 90)\n",
        "plt.show()\n"
      ],
      "metadata": {
        "colab": {
          "base_uri": "https://localhost:8080/",
          "height": 330
        },
        "id": "fcDemr7YTYqW",
        "outputId": "a1f9331b-d224-4dff-bf44-dfca3f13ef3f"
      },
      "execution_count": 162,
      "outputs": [
        {
          "output_type": "display_data",
          "data": {
            "text/plain": [
              "<Figure size 1080x1080 with 0 Axes>"
            ]
          },
          "metadata": {}
        },
        {
          "output_type": "display_data",
          "data": {
            "image/png": "[encoded data removed]",
            "text/plain": [
              "<Figure size 432x288 with 2 Axes>"
            ]
          },
          "metadata": {
            "needs_background": "light"
          }
        }
      ]
    },
    {
      "cell_type": "code",
      "source": [
        "suff_  = round(metrics.f1_score(y_test, preds_test,average = 'weighted' ), 3)\n",
        "import pickle\n",
        "\"\"\"Save the Bagging CLF model\"\"\"\n",
        "output_file = f'model_sentiment_analysis_SVC_{suff_}.pkl'\n",
        "\n",
        "with open(output_file, 'wb') as f_out:\n",
        "    pickle.dump(lr, f_out)"
      ],
      "metadata": {
        "id": "fyPQ-lizTY-N"
      },
      "execution_count": 164,
      "outputs": []
    },
    {
      "cell_type": "code",
      "source": [
        "output_file = f'model_gensim_sentiment.pkl'\n",
        "\n",
        "with open(output_file, 'wb') as f_out:\n",
        "    pickle.dump(model_gensim, f_out)"
      ],
      "metadata": {
        "id": "N8IdGpsYc6uB"
      },
      "execution_count": 165,
      "outputs": []
    },
    {
      "cell_type": "code",
      "source": [
        ""
      ],
      "metadata": {
        "id": "lHzLvm6ldV9C"
      },
      "execution_count": null,
      "outputs": []
    }
  ],
  "metadata": {
    "colab": {
      "name": "Sentiment_Analysis_on_Twitter_data.ipynb",
      "provenance": [],
      "collapsed_sections": []
    },
    "interpreter": {
      "hash": "152bf6e7dc8ee53edb5af21dc1a8faeab7f134840808a94079ed98d91ece7e0c"
    },
    "kernelspec": {
      "display_name": "Python 3",
      "language": "python",
      "name": "python3"
    },
    "language_info": {
      "codemirror_mode": {
        "name": "ipython",
        "version": 3
      },
      "file_extension": ".py",
      "mimetype": "text/x-python",
      "name": "python",
      "nbconvert_exporter": "python",
      "pygments_lexer": "ipython3",
      "version": "3.7.9"
    }
  },
  "nbformat": 4,
  "nbformat_minor": 0
}