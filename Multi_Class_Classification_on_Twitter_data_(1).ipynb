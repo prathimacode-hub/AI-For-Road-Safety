{
  "cells": [
    {
      "cell_type": "markdown",
      "source": [
        "## **Loading required Libraries**"
      ],
      "metadata": {
        "id": "rKCEks2Mq9ZT"
      }
    },
    {
      "cell_type": "code",
      "source": [
        "!pip install optuna"
      ],
      "metadata": {
        "id": "al6vLbUQW9yS",
        "colab": {
          "base_uri": "https://localhost:8080/"
        },
        "outputId": "afccef9d-b347-4df5-f0a1-4b1768f9f1d1"
      },
      "execution_count": 50,
      "outputs": [
        {
          "output_type": "stream",
          "name": "stdout",
          "text": [
            "Collecting optuna\n",
            "  Downloading optuna-2.10.0-py3-none-any.whl (308 kB)\n",
            "\u001b[K     |████████████████████████████████| 308 kB 8.9 MB/s \n",
            "\u001b[?25hCollecting cliff\n",
            "  Downloading cliff-3.10.0-py3-none-any.whl (80 kB)\n",
            "\u001b[K     |████████████████████████████████| 80 kB 8.8 MB/s \n",
            "\u001b[?25hRequirement already satisfied: scipy!=1.4.0 in /usr/local/lib/python3.7/dist-packages (from optuna) (1.4.1)\n",
            "Requirement already satisfied: tqdm in /usr/local/lib/python3.7/dist-packages (from optuna) (4.62.3)\n",
            "Requirement already satisfied: packaging>=20.0 in /usr/local/lib/python3.7/dist-packages (from optuna) (21.3)\n",
            "Collecting cmaes>=0.8.2\n",
            "  Downloading cmaes-0.8.2-py3-none-any.whl (15 kB)\n",
            "Requirement already satisfied: PyYAML in /usr/local/lib/python3.7/dist-packages (from optuna) (3.13)\n",
            "Requirement already satisfied: sqlalchemy>=1.1.0 in /usr/local/lib/python3.7/dist-packages (from optuna) (1.4.31)\n",
            "Requirement already satisfied: numpy in /usr/local/lib/python3.7/dist-packages (from optuna) (1.19.5)\n",
            "Collecting alembic\n",
            "  Downloading alembic-1.7.6-py3-none-any.whl (210 kB)\n",
            "\u001b[K     |████████████████████████████████| 210 kB 53.4 MB/s \n",
            "\u001b[?25hCollecting colorlog\n",
            "  Downloading colorlog-6.6.0-py2.py3-none-any.whl (11 kB)\n",
            "Requirement already satisfied: pyparsing!=3.0.5,>=2.0.2 in /usr/local/lib/python3.7/dist-packages (from packaging>=20.0->optuna) (3.0.7)\n",
            "Requirement already satisfied: importlib-metadata in /usr/local/lib/python3.7/dist-packages (from sqlalchemy>=1.1.0->optuna) (4.10.1)\n",
            "Requirement already satisfied: greenlet!=0.4.17 in /usr/local/lib/python3.7/dist-packages (from sqlalchemy>=1.1.0->optuna) (1.1.2)\n",
            "Requirement already satisfied: importlib-resources in /usr/local/lib/python3.7/dist-packages (from alembic->optuna) (5.4.0)\n",
            "Collecting Mako\n",
            "  Downloading Mako-1.1.6-py2.py3-none-any.whl (75 kB)\n",
            "\u001b[K     |████████████████████████████████| 75 kB 4.6 MB/s \n",
            "\u001b[?25hRequirement already satisfied: PrettyTable>=0.7.2 in /usr/local/lib/python3.7/dist-packages (from cliff->optuna) (3.0.0)\n",
            "Collecting autopage>=0.4.0\n",
            "  Downloading autopage-0.5.0-py3-none-any.whl (29 kB)\n",
            "Collecting pbr!=2.1.0,>=2.0.0\n",
            "  Downloading pbr-5.8.1-py2.py3-none-any.whl (113 kB)\n",
            "\u001b[K     |████████████████████████████████| 113 kB 50.7 MB/s \n",
            "\u001b[?25hCollecting cmd2>=1.0.0\n",
            "  Downloading cmd2-2.3.3-py3-none-any.whl (149 kB)\n",
            "\u001b[K     |████████████████████████████████| 149 kB 48.0 MB/s \n",
            "\u001b[?25hCollecting stevedore>=2.0.1\n",
            "  Downloading stevedore-3.5.0-py3-none-any.whl (49 kB)\n",
            "\u001b[K     |████████████████████████████████| 49 kB 6.2 MB/s \n",
            "\u001b[?25hRequirement already satisfied: attrs>=16.3.0 in /usr/local/lib/python3.7/dist-packages (from cmd2>=1.0.0->cliff->optuna) (21.4.0)\n",
            "Requirement already satisfied: typing-extensions in /usr/local/lib/python3.7/dist-packages (from cmd2>=1.0.0->cliff->optuna) (3.10.0.2)\n",
            "Collecting pyperclip>=1.6\n",
            "  Downloading pyperclip-1.8.2.tar.gz (20 kB)\n",
            "Requirement already satisfied: wcwidth>=0.1.7 in /usr/local/lib/python3.7/dist-packages (from cmd2>=1.0.0->cliff->optuna) (0.2.5)\n",
            "Requirement already satisfied: zipp>=0.5 in /usr/local/lib/python3.7/dist-packages (from importlib-metadata->sqlalchemy>=1.1.0->optuna) (3.7.0)\n",
            "Requirement already satisfied: MarkupSafe>=0.9.2 in /usr/local/lib/python3.7/dist-packages (from Mako->alembic->optuna) (2.0.1)\n",
            "Building wheels for collected packages: pyperclip\n",
            "  Building wheel for pyperclip (setup.py) ... \u001b[?25l\u001b[?25hdone\n",
            "  Created wheel for pyperclip: filename=pyperclip-1.8.2-py3-none-any.whl size=11137 sha256=d04e6838e07b1837318d2e1baf7fd6d45e6349f6e781d9ae2cb0fe892babdeeb\n",
            "  Stored in directory: /root/.cache/pip/wheels/9f/18/84/8f69f8b08169c7bae2dde6bd7daf0c19fca8c8e500ee620a28\n",
            "Successfully built pyperclip\n",
            "Installing collected packages: pyperclip, pbr, stevedore, Mako, cmd2, autopage, colorlog, cmaes, cliff, alembic, optuna\n",
            "Successfully installed Mako-1.1.6 alembic-1.7.6 autopage-0.5.0 cliff-3.10.0 cmaes-0.8.2 cmd2-2.3.3 colorlog-6.6.0 optuna-2.10.0 pbr-5.8.1 pyperclip-1.8.2 stevedore-3.5.0\n"
          ]
        }
      ]
    },
    {
      "cell_type": "code",
      "source": [
        "!wget https://github.com/snikhil17/Road_Safety/raw/main/Data/Tweets%2041k.zip"
      ],
      "metadata": {
        "colab": {
          "base_uri": "https://localhost:8080/"
        },
        "id": "Gyrhs-BP3W_i",
        "outputId": "1b78da75-c5af-4c68-fc58-aaf2cdcbe517"
      },
      "execution_count": 3,
      "outputs": [
        {
          "output_type": "stream",
          "name": "stdout",
          "text": [
            "--2022-02-08 11:58:16--  https://github.com/snikhil17/Road_Safety/raw/main/Data/Tweets%2041k.zip\n",
            "Resolving github.com (github.com)... 192.30.255.112\n",
            "Connecting to github.com (github.com)|192.30.255.112|:443... connected.\n",
            "HTTP request sent, awaiting response... 302 Found\n",
            "Location: https://raw.githubusercontent.com/snikhil17/Road_Safety/main/Data/Tweets%2041k.zip [following]\n",
            "--2022-02-08 11:58:16--  https://raw.githubusercontent.com/snikhil17/Road_Safety/main/Data/Tweets%2041k.zip\n",
            "Resolving raw.githubusercontent.com (raw.githubusercontent.com)... 185.199.108.133, 185.199.109.133, 185.199.110.133, ...\n",
            "Connecting to raw.githubusercontent.com (raw.githubusercontent.com)|185.199.108.133|:443... connected.\n",
            "HTTP request sent, awaiting response... 200 OK\n",
            "Length: 6923891 (6.6M) [application/zip]\n",
            "Saving to: ‘Tweets 41k.zip’\n",
            "\n",
            "Tweets 41k.zip      100%[===================>]   6.60M  --.-KB/s    in 0.05s   \n",
            "\n",
            "2022-02-08 11:58:17 (121 MB/s) - ‘Tweets 41k.zip’ saved [6923891/6923891]\n",
            "\n"
          ]
        }
      ]
    },
    {
      "cell_type": "code",
      "source": [
        "!unzip \"Tweets 41k.zip\"\n"
      ],
      "metadata": {
        "colab": {
          "base_uri": "https://localhost:8080/"
        },
        "id": "av1mjgi222_J",
        "outputId": "398ce252-cb16-49d2-ea07-c51ff3d8bab6"
      },
      "execution_count": 4,
      "outputs": [
        {
          "output_type": "stream",
          "name": "stdout",
          "text": [
            "Archive:  Tweets 41k.zip\n",
            "  inflating: Tweets 41k/road_accidents_india_40k_0_200.csv  \n",
            "  inflating: Tweets 41k/road_accidents_india_40k_1000_to_1200.csv  \n",
            "  inflating: Tweets 41k/road_accidents_india_40k_10000_to_11000.csv  \n",
            "  inflating: Tweets 41k/road_accidents_india_40k_11000_to_12000.csv  \n",
            "  inflating: Tweets 41k/road_accidents_india_40k_1200_to_1600.csv  \n",
            "  inflating: Tweets 41k/road_accidents_india_40k_12000_to_13000.csv  \n",
            "  inflating: Tweets 41k/road_accidents_india_40k_13000_to_14000.csv  \n",
            "  inflating: Tweets 41k/road_accidents_india_40k_14000_to_15000.csv  \n",
            "  inflating: Tweets 41k/road_accidents_india_40k_15000_to_16000.csv  \n",
            "  inflating: Tweets 41k/road_accidents_india_40k_1600_to_1800.csv  \n",
            "  inflating: Tweets 41k/road_accidents_india_40k_16000_to_16400.csv  \n",
            "  inflating: Tweets 41k/road_accidents_india_40k_16400_to_18000.csv  \n",
            "  inflating: Tweets 41k/road_accidents_india_40k_1800_to_2000.csv  \n",
            "  inflating: Tweets 41k/road_accidents_india_40k_18000_to_21000.csv  \n",
            "  inflating: Tweets 41k/road_accidents_india_40k_2000_to_2200.csv  \n",
            "  inflating: Tweets 41k/road_accidents_india_40k_21000_to_22000.csv  \n",
            "  inflating: Tweets 41k/road_accidents_india_40k_2200_to_2400.csv  \n",
            "  inflating: Tweets 41k/road_accidents_india_40k_22000_to_22400.csv  \n",
            "  inflating: Tweets 41k/road_accidents_india_40k_22400_to_24000.csv  \n",
            "  inflating: Tweets 41k/road_accidents_india_40k_2400_to_2600.csv  \n",
            "  inflating: Tweets 41k/road_accidents_india_40k_24000_to_27000.csv  \n",
            "  inflating: Tweets 41k/road_accidents_india_40k_2600_to_2800.csv  \n",
            "  inflating: Tweets 41k/road_accidents_india_40k_27000_to_33000.csv  \n",
            "  inflating: Tweets 41k/road_accidents_india_40k_2800_to_3000.csv  \n",
            "  inflating: Tweets 41k/road_accidents_india_40k_3000_to_3200.csv  \n",
            "  inflating: Tweets 41k/road_accidents_india_40k_3200_to_3400.csv  \n",
            "  inflating: Tweets 41k/road_accidents_india_40k_33000_to_33400.csv  \n",
            "  inflating: Tweets 41k/road_accidents_india_40k_33400_to_41100.csv  \n",
            "  inflating: Tweets 41k/road_accidents_india_40k_3400_to_3600.csv  \n",
            "  inflating: Tweets 41k/road_accidents_india_40k_3600_to_4000.csv  \n",
            "  inflating: Tweets 41k/road_accidents_india_40k_400_to_600.csv  \n",
            "  inflating: Tweets 41k/road_accidents_india_40k_4000_to_4400.csv  \n",
            "  inflating: Tweets 41k/road_accidents_india_40k_4400_to_4600.csv  \n",
            "  inflating: Tweets 41k/road_accidents_india_40k_4600_to_5000.csv  \n",
            "  inflating: Tweets 41k/road_accidents_india_40k_5000_to_5400.csv  \n",
            "  inflating: Tweets 41k/road_accidents_india_40k_5400_to_5800.csv  \n",
            "  inflating: Tweets 41k/road_accidents_india_40k_5800_to_6200.csv  \n",
            "  inflating: Tweets 41k/road_accidents_india_40k_600_to_800.csv  \n",
            "  inflating: Tweets 41k/road_accidents_india_40k_6200_to_6400.csv  \n",
            "  inflating: Tweets 41k/road_accidents_india_40k_6400--6600.csv  \n",
            "  inflating: Tweets 41k/road_accidents_india_40k_6800_to_7800.csv  \n",
            "  inflating: Tweets 41k/road_accidents_india_40k_7800_to_9000.csv  \n",
            "  inflating: Tweets 41k/road_accidents_india_40k_800_to_1000.csv  \n",
            "  inflating: Tweets 41k/road_accidents_india_40k_9000_to_10000.csv  \n"
          ]
        }
      ]
    },
    {
      "cell_type": "code",
      "source": [
        "import pandas as pd\n",
        "import numpy as np\n",
        "import nltk\n",
        "import matplotlib.pyplot as plt\n",
        "import re\n",
        "\n",
        "from nltk.corpus import wordnet\n",
        "import string\n",
        "from nltk.stem import WordNetLemmatizer, PorterStemmer\n",
        "\n",
        "\n",
        "\n",
        "from nltk.corpus import stopwords\n",
        "\n",
        "from sklearn.feature_extraction.text import CountVectorizer, TfidfVectorizer\n",
        "import spacy\n",
        "\n",
        "\n",
        "\n",
        "from sklearn.model_selection import train_test_split\n",
        "from sklearn.svm import SVC\n",
        "from sklearn import metrics\n",
        "from sklearn.model_selection import GridSearchCV, StratifiedKFold\n",
        "\n",
        "\n",
        "nltk.download('punkt')\n",
        "nltk.download('wordnet')\n",
        "nltk.download('averaged_perceptron_tagger')\n",
        "nltk.download('words')\n",
        "nltk.download('stopwords')\n",
        "nlp = spacy.load('en_core_web_sm')"
      ],
      "metadata": {
        "id": "PcUayBD8rBO7",
        "colab": {
          "base_uri": "https://localhost:8080/"
        },
        "outputId": "4d59555b-2f22-40a0-fb8a-dab75fcf18bf"
      },
      "execution_count": 5,
      "outputs": [
        {
          "output_type": "stream",
          "name": "stdout",
          "text": [
            "[nltk_data] Downloading package punkt to /root/nltk_data...\n",
            "[nltk_data]   Package punkt is already up-to-date!\n",
            "[nltk_data] Downloading package wordnet to /root/nltk_data...\n",
            "[nltk_data]   Package wordnet is already up-to-date!\n",
            "[nltk_data] Downloading package averaged_perceptron_tagger to\n",
            "[nltk_data]     /root/nltk_data...\n",
            "[nltk_data]   Package averaged_perceptron_tagger is already up-to-\n",
            "[nltk_data]       date!\n",
            "[nltk_data] Downloading package words to /root/nltk_data...\n",
            "[nltk_data]   Package words is already up-to-date!\n",
            "[nltk_data] Downloading package stopwords to /root/nltk_data...\n",
            "[nltk_data]   Package stopwords is already up-to-date!\n"
          ]
        }
      ]
    },
    {
      "cell_type": "code",
      "source": [
        "import glob\n",
        "import os\n",
        "import pandas as pd\n",
        "df = pd.concat(map(pd.read_csv, glob.glob(os.path.join('/content/Tweets 41k/', \"road_accidents_india_40k_*.csv\"))), ignore_index= True).drop('Unnamed: 0', axis = 1)\n",
        "df.head()"
      ],
      "metadata": {
        "colab": {
          "base_uri": "https://localhost:8080/",
          "height": 530
        },
        "id": "5vdhYLFt4iJG",
        "outputId": "0cae7107-a645-4251-e851-1eb42d4eb386"
      },
      "execution_count": 6,
      "outputs": [
        {
          "output_type": "execute_result",
          "data": {
            "text/html": [
              "\n",
              "  <div id=\"df-1d1301f3-1531-44a6-b8d2-20e47cf35f88\">\n",
              "    <div class=\"colab-df-container\">\n",
              "      <div>\n",
              "<style scoped>\n",
              "    .dataframe tbody tr th:only-of-type {\n",
              "        vertical-align: middle;\n",
              "    }\n",
              "\n",
              "    .dataframe tbody tr th {\n",
              "        vertical-align: top;\n",
              "    }\n",
              "\n",
              "    .dataframe thead th {\n",
              "        text-align: right;\n",
              "    }\n",
              "</style>\n",
              "<table border=\"1\" class=\"dataframe\">\n",
              "  <thead>\n",
              "    <tr style=\"text-align: right;\">\n",
              "      <th></th>\n",
              "      <th>tweet_content</th>\n",
              "      <th>labels_zero_shot</th>\n",
              "      <th>respective_scores</th>\n",
              "      <th>best_labels_scores</th>\n",
              "      <th>best_labels</th>\n",
              "      <th>sentiments_one_shot_classifier_score</th>\n",
              "      <th>sentiments_one_shot_classifier</th>\n",
              "      <th>cleaned_text</th>\n",
              "      <th>sentiment_via_VADER</th>\n",
              "    </tr>\n",
              "  </thead>\n",
              "  <tbody>\n",
              "    <tr>\n",
              "      <th>0</th>\n",
              "      <td>The Dera followers across India have taken the...</td>\n",
              "      <td>['positive information', 'negative information...</td>\n",
              "      <td>[0.6932814717292786, 0.13189217448234558, 0.09...</td>\n",
              "      <td>{'positive information': 0.6932814717292786, '...</td>\n",
              "      <td>['positive information', 'negative information']</td>\n",
              "      <td>{'positive': 0.8888261914253235}</td>\n",
              "      <td>positive</td>\n",
              "      <td>follower take initiative prevent road accident...</td>\n",
              "      <td>negative</td>\n",
              "    </tr>\n",
              "    <tr>\n",
              "      <th>1</th>\n",
              "      <td>Saint Dr. @Gurmeetramrahim ji🌸\\n#RoadSafetyIni...</td>\n",
              "      <td>['positive information', 'negative information...</td>\n",
              "      <td>[0.6274787783622742, 0.15558470785617828, 0.14...</td>\n",
              "      <td>{'positive information': 0.6274787783622742, '...</td>\n",
              "      <td>['positive information', 'negative information']</td>\n",
              "      <td>{'positive': 0.6677867770195007}</td>\n",
              "      <td>positive</td>\n",
              "      <td>follower take initiative prevent road accident...</td>\n",
              "      <td>negative</td>\n",
              "    </tr>\n",
              "    <tr>\n",
              "      <th>2</th>\n",
              "      <td>The Dera followers across India have taken the...</td>\n",
              "      <td>['positive information', 'negative information...</td>\n",
              "      <td>[0.6528342366218567, 0.16880010068416595, 0.11...</td>\n",
              "      <td>{'positive information': 0.6528342366218567, '...</td>\n",
              "      <td>['positive information', 'negative information']</td>\n",
              "      <td>{'positive': 0.844313383102417}</td>\n",
              "      <td>positive</td>\n",
              "      <td>follower take initiative prevent road accident...</td>\n",
              "      <td>negative</td>\n",
              "    </tr>\n",
              "    <tr>\n",
              "      <th>3</th>\n",
              "      <td>#RoadSafetyInitiativeByDSS\\nThe Dera followers...</td>\n",
              "      <td>['positive information', 'appreciation', 'nega...</td>\n",
              "      <td>[0.7812352180480957, 0.07765661180019379, 0.07...</td>\n",
              "      <td>{'positive information': 0.7812352180480957, '...</td>\n",
              "      <td>['positive information', 'appreciation']</td>\n",
              "      <td>{'positive': 0.8634591698646545}</td>\n",
              "      <td>positive</td>\n",
              "      <td>dera follower take initiative prevent road acc...</td>\n",
              "      <td>negative</td>\n",
              "    </tr>\n",
              "    <tr>\n",
              "      <th>4</th>\n",
              "      <td>The Dera followers across India have taken the...</td>\n",
              "      <td>['positive information', 'appreciation', 'nega...</td>\n",
              "      <td>[0.6620956063270569, 0.14676465094089508, 0.11...</td>\n",
              "      <td>{'positive information': 0.6620956063270569, '...</td>\n",
              "      <td>['positive information', 'appreciation']</td>\n",
              "      <td>{'positive': 0.8870344161987305}</td>\n",
              "      <td>positive</td>\n",
              "      <td>follower take initiative prevent road accident...</td>\n",
              "      <td>negative</td>\n",
              "    </tr>\n",
              "  </tbody>\n",
              "</table>\n",
              "</div>\n",
              "      <button class=\"colab-df-convert\" onclick=\"convertToInteractive('df-1d1301f3-1531-44a6-b8d2-20e47cf35f88')\"\n",
              "              title=\"Convert this dataframe to an interactive table.\"\n",
              "              style=\"display:none;\">\n",
              "        \n",
              "  <svg xmlns=\"http://www.w3.org/2000/svg\" height=\"24px\"viewBox=\"0 0 24 24\"\n",
              "       width=\"24px\">\n",
              "    <path d=\"M0 0h24v24H0V0z\" fill=\"none\"/>\n",
              "    <path d=\"M18.56 5.44l.94 2.06.94-2.06 2.06-.94-2.06-.94-.94-2.06-.94 2.06-2.06.94zm-11 1L8.5 8.5l.94-2.06 2.06-.94-2.06-.94L8.5 2.5l-.94 2.06-2.06.94zm10 10l.94 2.06.94-2.06 2.06-.94-2.06-.94-.94-2.06-.94 2.06-2.06.94z\"/><path d=\"M17.41 7.96l-1.37-1.37c-.4-.4-.92-.59-1.43-.59-.52 0-1.04.2-1.43.59L10.3 9.45l-7.72 7.72c-.78.78-.78 2.05 0 2.83L4 21.41c.39.39.9.59 1.41.59.51 0 1.02-.2 1.41-.59l7.78-7.78 2.81-2.81c.8-.78.8-2.07 0-2.86zM5.41 20L4 18.59l7.72-7.72 1.47 1.35L5.41 20z\"/>\n",
              "  </svg>\n",
              "      </button>\n",
              "      \n",
              "  <style>\n",
              "    .colab-df-container {\n",
              "      display:flex;\n",
              "      flex-wrap:wrap;\n",
              "      gap: 12px;\n",
              "    }\n",
              "\n",
              "    .colab-df-convert {\n",
              "      background-color: #E8F0FE;\n",
              "      border: none;\n",
              "      border-radius: 50%;\n",
              "      cursor: pointer;\n",
              "      display: none;\n",
              "      fill: #1967D2;\n",
              "      height: 32px;\n",
              "      padding: 0 0 0 0;\n",
              "      width: 32px;\n",
              "    }\n",
              "\n",
              "    .colab-df-convert:hover {\n",
              "      background-color: #E2EBFA;\n",
              "      box-shadow: 0px 1px 2px rgba(60, 64, 67, 0.3), 0px 1px 3px 1px rgba(60, 64, 67, 0.15);\n",
              "      fill: #174EA6;\n",
              "    }\n",
              "\n",
              "    [theme=dark] .colab-df-convert {\n",
              "      background-color: #3B4455;\n",
              "      fill: #D2E3FC;\n",
              "    }\n",
              "\n",
              "    [theme=dark] .colab-df-convert:hover {\n",
              "      background-color: #434B5C;\n",
              "      box-shadow: 0px 1px 3px 1px rgba(0, 0, 0, 0.15);\n",
              "      filter: drop-shadow(0px 1px 2px rgba(0, 0, 0, 0.3));\n",
              "      fill: #FFFFFF;\n",
              "    }\n",
              "  </style>\n",
              "\n",
              "      <script>\n",
              "        const buttonEl =\n",
              "          document.querySelector('#df-1d1301f3-1531-44a6-b8d2-20e47cf35f88 button.colab-df-convert');\n",
              "        buttonEl.style.display =\n",
              "          google.colab.kernel.accessAllowed ? 'block' : 'none';\n",
              "\n",
              "        async function convertToInteractive(key) {\n",
              "          const element = document.querySelector('#df-1d1301f3-1531-44a6-b8d2-20e47cf35f88');\n",
              "          const dataTable =\n",
              "            await google.colab.kernel.invokeFunction('convertToInteractive',\n",
              "                                                     [key], {});\n",
              "          if (!dataTable) return;\n",
              "\n",
              "          const docLinkHtml = 'Like what you see? Visit the ' +\n",
              "            '<a target=\"_blank\" href=https://colab.research.google.com/notebooks/data_table.ipynb>data table notebook</a>'\n",
              "            + ' to learn more about interactive tables.';\n",
              "          element.innerHTML = '';\n",
              "          dataTable['output_type'] = 'display_data';\n",
              "          await google.colab.output.renderOutput(dataTable, element);\n",
              "          const docLink = document.createElement('div');\n",
              "          docLink.innerHTML = docLinkHtml;\n",
              "          element.appendChild(docLink);\n",
              "        }\n",
              "      </script>\n",
              "    </div>\n",
              "  </div>\n",
              "  "
            ],
            "text/plain": [
              "                                       tweet_content  ... sentiment_via_VADER\n",
              "0  The Dera followers across India have taken the...  ...            negative\n",
              "1  Saint Dr. @Gurmeetramrahim ji🌸\\n#RoadSafetyIni...  ...            negative\n",
              "2  The Dera followers across India have taken the...  ...            negative\n",
              "3  #RoadSafetyInitiativeByDSS\\nThe Dera followers...  ...            negative\n",
              "4  The Dera followers across India have taken the...  ...            negative\n",
              "\n",
              "[5 rows x 9 columns]"
            ]
          },
          "metadata": {},
          "execution_count": 6
        }
      ]
    },
    {
      "cell_type": "code",
      "source": [
        "df.dropna(inplace = True)"
      ],
      "metadata": {
        "id": "q9elZhc-WpUu"
      },
      "execution_count": 7,
      "outputs": []
    },
    {
      "cell_type": "code",
      "source": [
        "df.shape"
      ],
      "metadata": {
        "colab": {
          "base_uri": "https://localhost:8080/"
        },
        "id": "zFQu92svW-tb",
        "outputId": "dfa60bcd-9f29-4289-d774-bc9bc203eb54"
      },
      "execution_count": 8,
      "outputs": [
        {
          "output_type": "execute_result",
          "data": {
            "text/plain": [
              "(37412, 9)"
            ]
          },
          "metadata": {},
          "execution_count": 8
        }
      ]
    },
    {
      "cell_type": "code",
      "source": [
        "import ast\n",
        "scores_ = []\n",
        "for i in range(df.shape[0]):\n",
        "  score = list(ast.literal_eval(df.iloc[i]['best_labels_scores']).values())\n",
        "  scores_.append(score)\n",
        "\n",
        "len(scores_)"
      ],
      "metadata": {
        "colab": {
          "base_uri": "https://localhost:8080/"
        },
        "id": "69OhwkykTEow",
        "outputId": "01281204-24e8-4fa3-dc5e-87301d3aeb65"
      },
      "execution_count": 9,
      "outputs": [
        {
          "output_type": "execute_result",
          "data": {
            "text/plain": [
              "37412"
            ]
          },
          "metadata": {},
          "execution_count": 9
        }
      ]
    },
    {
      "cell_type": "code",
      "source": [
        "df['best_scores']  = scores_"
      ],
      "metadata": {
        "id": "0qvRlhpMSwvY"
      },
      "execution_count": 10,
      "outputs": []
    },
    {
      "cell_type": "code",
      "source": [
        "df.iloc[37407]['tweet_content']"
      ],
      "metadata": {
        "colab": {
          "base_uri": "https://localhost:8080/",
          "height": 35
        },
        "id": "GklXHyHqXxeh",
        "outputId": "b613622c-e95a-47fb-ce78-fbb287181009"
      },
      "execution_count": 11,
      "outputs": [
        {
          "output_type": "execute_result",
          "data": {
            "application/vnd.google.colaboratory.intrinsic+json": {
              "type": "string"
            },
            "text/plain": [
              "'now its just gettin on my nerves! Ppl r standin on the footboards! Wonder why india has many road accidents, well answer 1'"
            ]
          },
          "metadata": {},
          "execution_count": 11
        }
      ]
    },
    {
      "cell_type": "code",
      "source": [
        "df[['tweet_content',\t'best_labels', 'best_scores']].reset_index(drop = True)"
      ],
      "metadata": {
        "colab": {
          "base_uri": "https://localhost:8080/",
          "height": 423
        },
        "id": "BgpTZp2aWPZi",
        "outputId": "795b18b3-b5da-4855-f08f-2419b22418ce"
      },
      "execution_count": 12,
      "outputs": [
        {
          "output_type": "execute_result",
          "data": {
            "text/html": [
              "\n",
              "  <div id=\"df-d63d5480-6f42-48cb-8bfa-ef58c967fbd1\">\n",
              "    <div class=\"colab-df-container\">\n",
              "      <div>\n",
              "<style scoped>\n",
              "    .dataframe tbody tr th:only-of-type {\n",
              "        vertical-align: middle;\n",
              "    }\n",
              "\n",
              "    .dataframe tbody tr th {\n",
              "        vertical-align: top;\n",
              "    }\n",
              "\n",
              "    .dataframe thead th {\n",
              "        text-align: right;\n",
              "    }\n",
              "</style>\n",
              "<table border=\"1\" class=\"dataframe\">\n",
              "  <thead>\n",
              "    <tr style=\"text-align: right;\">\n",
              "      <th></th>\n",
              "      <th>tweet_content</th>\n",
              "      <th>best_labels</th>\n",
              "      <th>best_scores</th>\n",
              "    </tr>\n",
              "  </thead>\n",
              "  <tbody>\n",
              "    <tr>\n",
              "      <th>0</th>\n",
              "      <td>The Dera followers across India have taken the...</td>\n",
              "      <td>['positive information', 'negative information']</td>\n",
              "      <td>[0.6932814717292786, 0.13189217448234558]</td>\n",
              "    </tr>\n",
              "    <tr>\n",
              "      <th>1</th>\n",
              "      <td>Saint Dr. @Gurmeetramrahim ji🌸\\n#RoadSafetyIni...</td>\n",
              "      <td>['positive information', 'negative information']</td>\n",
              "      <td>[0.6274787783622742, 0.15558470785617828]</td>\n",
              "    </tr>\n",
              "    <tr>\n",
              "      <th>2</th>\n",
              "      <td>The Dera followers across India have taken the...</td>\n",
              "      <td>['positive information', 'negative information']</td>\n",
              "      <td>[0.6528342366218567, 0.16880010068416595]</td>\n",
              "    </tr>\n",
              "    <tr>\n",
              "      <th>3</th>\n",
              "      <td>#RoadSafetyInitiativeByDSS\\nThe Dera followers...</td>\n",
              "      <td>['positive information', 'appreciation']</td>\n",
              "      <td>[0.7812352180480957, 0.07765661180019379]</td>\n",
              "    </tr>\n",
              "    <tr>\n",
              "      <th>4</th>\n",
              "      <td>The Dera followers across India have taken the...</td>\n",
              "      <td>['positive information', 'appreciation']</td>\n",
              "      <td>[0.6620956063270569, 0.14676465094089508]</td>\n",
              "    </tr>\n",
              "    <tr>\n",
              "      <th>...</th>\n",
              "      <td>...</td>\n",
              "      <td>...</td>\n",
              "      <td>...</td>\n",
              "    </tr>\n",
              "    <tr>\n",
              "      <th>37407</th>\n",
              "      <td>now its just gettin on my nerves! Ppl r standi...</td>\n",
              "      <td>['complaints', 'negative information']</td>\n",
              "      <td>[0.6474745869636536, 0.3313472867012024]</td>\n",
              "    </tr>\n",
              "    <tr>\n",
              "      <th>37408</th>\n",
              "      <td>#thaindian: Second highest number of road acci...</td>\n",
              "      <td>['negative information', 'fatal accident']</td>\n",
              "      <td>[0.6264201402664185, 0.304487407207489]</td>\n",
              "    </tr>\n",
              "    <tr>\n",
              "      <th>37409</th>\n",
              "      <td>www.newestdiscovery.com update: India tiger di...</td>\n",
              "      <td>['fatal accident', 'negative information']</td>\n",
              "      <td>[0.7110347151756287, 0.1832621693611145]</td>\n",
              "    </tr>\n",
              "    <tr>\n",
              "      <th>37410</th>\n",
              "      <td>Dawn Thirty one killed in eastern India road a...</td>\n",
              "      <td>['negative information', 'fatal accident']</td>\n",
              "      <td>[0.4900580048561096, 0.4652746915817261]</td>\n",
              "    </tr>\n",
              "    <tr>\n",
              "      <th>37411</th>\n",
              "      <td>@s4ur4bh \"India recorded 2,24,107 road acciden...</td>\n",
              "      <td>['negative information', 'fatal accident']</td>\n",
              "      <td>[0.8404765725135803, 0.09337089955806732]</td>\n",
              "    </tr>\n",
              "  </tbody>\n",
              "</table>\n",
              "<p>37412 rows × 3 columns</p>\n",
              "</div>\n",
              "      <button class=\"colab-df-convert\" onclick=\"convertToInteractive('df-d63d5480-6f42-48cb-8bfa-ef58c967fbd1')\"\n",
              "              title=\"Convert this dataframe to an interactive table.\"\n",
              "              style=\"display:none;\">\n",
              "        \n",
              "  <svg xmlns=\"http://www.w3.org/2000/svg\" height=\"24px\"viewBox=\"0 0 24 24\"\n",
              "       width=\"24px\">\n",
              "    <path d=\"M0 0h24v24H0V0z\" fill=\"none\"/>\n",
              "    <path d=\"M18.56 5.44l.94 2.06.94-2.06 2.06-.94-2.06-.94-.94-2.06-.94 2.06-2.06.94zm-11 1L8.5 8.5l.94-2.06 2.06-.94-2.06-.94L8.5 2.5l-.94 2.06-2.06.94zm10 10l.94 2.06.94-2.06 2.06-.94-2.06-.94-.94-2.06-.94 2.06-2.06.94z\"/><path d=\"M17.41 7.96l-1.37-1.37c-.4-.4-.92-.59-1.43-.59-.52 0-1.04.2-1.43.59L10.3 9.45l-7.72 7.72c-.78.78-.78 2.05 0 2.83L4 21.41c.39.39.9.59 1.41.59.51 0 1.02-.2 1.41-.59l7.78-7.78 2.81-2.81c.8-.78.8-2.07 0-2.86zM5.41 20L4 18.59l7.72-7.72 1.47 1.35L5.41 20z\"/>\n",
              "  </svg>\n",
              "      </button>\n",
              "      \n",
              "  <style>\n",
              "    .colab-df-container {\n",
              "      display:flex;\n",
              "      flex-wrap:wrap;\n",
              "      gap: 12px;\n",
              "    }\n",
              "\n",
              "    .colab-df-convert {\n",
              "      background-color: #E8F0FE;\n",
              "      border: none;\n",
              "      border-radius: 50%;\n",
              "      cursor: pointer;\n",
              "      display: none;\n",
              "      fill: #1967D2;\n",
              "      height: 32px;\n",
              "      padding: 0 0 0 0;\n",
              "      width: 32px;\n",
              "    }\n",
              "\n",
              "    .colab-df-convert:hover {\n",
              "      background-color: #E2EBFA;\n",
              "      box-shadow: 0px 1px 2px rgba(60, 64, 67, 0.3), 0px 1px 3px 1px rgba(60, 64, 67, 0.15);\n",
              "      fill: #174EA6;\n",
              "    }\n",
              "\n",
              "    [theme=dark] .colab-df-convert {\n",
              "      background-color: #3B4455;\n",
              "      fill: #D2E3FC;\n",
              "    }\n",
              "\n",
              "    [theme=dark] .colab-df-convert:hover {\n",
              "      background-color: #434B5C;\n",
              "      box-shadow: 0px 1px 3px 1px rgba(0, 0, 0, 0.15);\n",
              "      filter: drop-shadow(0px 1px 2px rgba(0, 0, 0, 0.3));\n",
              "      fill: #FFFFFF;\n",
              "    }\n",
              "  </style>\n",
              "\n",
              "      <script>\n",
              "        const buttonEl =\n",
              "          document.querySelector('#df-d63d5480-6f42-48cb-8bfa-ef58c967fbd1 button.colab-df-convert');\n",
              "        buttonEl.style.display =\n",
              "          google.colab.kernel.accessAllowed ? 'block' : 'none';\n",
              "\n",
              "        async function convertToInteractive(key) {\n",
              "          const element = document.querySelector('#df-d63d5480-6f42-48cb-8bfa-ef58c967fbd1');\n",
              "          const dataTable =\n",
              "            await google.colab.kernel.invokeFunction('convertToInteractive',\n",
              "                                                     [key], {});\n",
              "          if (!dataTable) return;\n",
              "\n",
              "          const docLinkHtml = 'Like what you see? Visit the ' +\n",
              "            '<a target=\"_blank\" href=https://colab.research.google.com/notebooks/data_table.ipynb>data table notebook</a>'\n",
              "            + ' to learn more about interactive tables.';\n",
              "          element.innerHTML = '';\n",
              "          dataTable['output_type'] = 'display_data';\n",
              "          await google.colab.output.renderOutput(dataTable, element);\n",
              "          const docLink = document.createElement('div');\n",
              "          docLink.innerHTML = docLinkHtml;\n",
              "          element.appendChild(docLink);\n",
              "        }\n",
              "      </script>\n",
              "    </div>\n",
              "  </div>\n",
              "  "
            ],
            "text/plain": [
              "                                           tweet_content  ...                                best_scores\n",
              "0      The Dera followers across India have taken the...  ...  [0.6932814717292786, 0.13189217448234558]\n",
              "1      Saint Dr. @Gurmeetramrahim ji🌸\\n#RoadSafetyIni...  ...  [0.6274787783622742, 0.15558470785617828]\n",
              "2      The Dera followers across India have taken the...  ...  [0.6528342366218567, 0.16880010068416595]\n",
              "3      #RoadSafetyInitiativeByDSS\\nThe Dera followers...  ...  [0.7812352180480957, 0.07765661180019379]\n",
              "4      The Dera followers across India have taken the...  ...  [0.6620956063270569, 0.14676465094089508]\n",
              "...                                                  ...  ...                                        ...\n",
              "37407  now its just gettin on my nerves! Ppl r standi...  ...   [0.6474745869636536, 0.3313472867012024]\n",
              "37408  #thaindian: Second highest number of road acci...  ...    [0.6264201402664185, 0.304487407207489]\n",
              "37409  www.newestdiscovery.com update: India tiger di...  ...   [0.7110347151756287, 0.1832621693611145]\n",
              "37410  Dawn Thirty one killed in eastern India road a...  ...   [0.4900580048561096, 0.4652746915817261]\n",
              "37411  @s4ur4bh \"India recorded 2,24,107 road acciden...  ...  [0.8404765725135803, 0.09337089955806732]\n",
              "\n",
              "[37412 rows x 3 columns]"
            ]
          },
          "metadata": {},
          "execution_count": 12
        }
      ]
    },
    {
      "cell_type": "code",
      "source": [
        "label_ = []\n",
        "for i in range(df.shape[0]):\n",
        "  label = ast.literal_eval(df.best_labels.iloc[i])[0]\n",
        "  label_.append(label)\n",
        "\n",
        "df['label'] = label_"
      ],
      "metadata": {
        "id": "JZY1bN7HIQu6"
      },
      "execution_count": 13,
      "outputs": []
    },
    {
      "cell_type": "code",
      "source": [
        "scores_ = []\n",
        "for i in range(df.shape[0]):\n",
        "  score = df.best_scores.iloc[i][0]\n",
        "  scores_.append(score)\n",
        "\n",
        "df['score'] = scores_"
      ],
      "metadata": {
        "id": "lh1Lq-nvKO9n"
      },
      "execution_count": 14,
      "outputs": []
    },
    {
      "cell_type": "code",
      "source": [
        "df.to_csv('df_final.csv')"
      ],
      "metadata": {
        "id": "-QLVb33dQg70"
      },
      "execution_count": 15,
      "outputs": []
    },
    {
      "cell_type": "code",
      "source": [
        "df = pd.read_csv('df_final.csv')"
      ],
      "metadata": {
        "id": "fg857DIYWoul"
      },
      "execution_count": 16,
      "outputs": []
    },
    {
      "cell_type": "code",
      "source": [
        "df.label.unique()"
      ],
      "metadata": {
        "colab": {
          "base_uri": "https://localhost:8080/"
        },
        "id": "dzInHBdU0LDs",
        "outputId": "33dcbc15-2aae-483a-8c12-9ec8b07c86dc"
      },
      "execution_count": 17,
      "outputs": [
        {
          "output_type": "execute_result",
          "data": {
            "text/plain": [
              "array(['positive information', 'negative information', 'complaints',\n",
              "       'fatal accident', 'appreciation'], dtype=object)"
            ]
          },
          "metadata": {},
          "execution_count": 17
        }
      ]
    },
    {
      "cell_type": "code",
      "source": [
        "df[df.label==\"negative information\"].shape"
      ],
      "metadata": {
        "colab": {
          "base_uri": "https://localhost:8080/"
        },
        "id": "kJm_jA-Z0Dlc",
        "outputId": "0bab5c8d-cfeb-4a43-edee-720b25047ad6"
      },
      "execution_count": 18,
      "outputs": [
        {
          "output_type": "execute_result",
          "data": {
            "text/plain": [
              "(19832, 13)"
            ]
          },
          "metadata": {},
          "execution_count": 18
        }
      ]
    },
    {
      "cell_type": "code",
      "source": [
        "df.head()"
      ],
      "metadata": {
        "colab": {
          "base_uri": "https://localhost:8080/",
          "height": 548
        },
        "id": "_CV-VXCsKsKe",
        "outputId": "c138fd9a-65d8-40d2-ae6c-638a19969547"
      },
      "execution_count": 19,
      "outputs": [
        {
          "output_type": "execute_result",
          "data": {
            "text/html": [
              "\n",
              "  <div id=\"df-94a4c2a2-a12f-4cea-b9ed-0fe47a65a83a\">\n",
              "    <div class=\"colab-df-container\">\n",
              "      <div>\n",
              "<style scoped>\n",
              "    .dataframe tbody tr th:only-of-type {\n",
              "        vertical-align: middle;\n",
              "    }\n",
              "\n",
              "    .dataframe tbody tr th {\n",
              "        vertical-align: top;\n",
              "    }\n",
              "\n",
              "    .dataframe thead th {\n",
              "        text-align: right;\n",
              "    }\n",
              "</style>\n",
              "<table border=\"1\" class=\"dataframe\">\n",
              "  <thead>\n",
              "    <tr style=\"text-align: right;\">\n",
              "      <th></th>\n",
              "      <th>Unnamed: 0</th>\n",
              "      <th>tweet_content</th>\n",
              "      <th>labels_zero_shot</th>\n",
              "      <th>respective_scores</th>\n",
              "      <th>best_labels_scores</th>\n",
              "      <th>best_labels</th>\n",
              "      <th>sentiments_one_shot_classifier_score</th>\n",
              "      <th>sentiments_one_shot_classifier</th>\n",
              "      <th>cleaned_text</th>\n",
              "      <th>sentiment_via_VADER</th>\n",
              "      <th>best_scores</th>\n",
              "      <th>label</th>\n",
              "      <th>score</th>\n",
              "    </tr>\n",
              "  </thead>\n",
              "  <tbody>\n",
              "    <tr>\n",
              "      <th>0</th>\n",
              "      <td>0</td>\n",
              "      <td>The Dera followers across India have taken the...</td>\n",
              "      <td>['positive information', 'negative information...</td>\n",
              "      <td>[0.6932814717292786, 0.13189217448234558, 0.09...</td>\n",
              "      <td>{'positive information': 0.6932814717292786, '...</td>\n",
              "      <td>['positive information', 'negative information']</td>\n",
              "      <td>{'positive': 0.8888261914253235}</td>\n",
              "      <td>positive</td>\n",
              "      <td>follower take initiative prevent road accident...</td>\n",
              "      <td>negative</td>\n",
              "      <td>[0.6932814717292786, 0.13189217448234558]</td>\n",
              "      <td>positive information</td>\n",
              "      <td>0.693281</td>\n",
              "    </tr>\n",
              "    <tr>\n",
              "      <th>1</th>\n",
              "      <td>1</td>\n",
              "      <td>Saint Dr. @Gurmeetramrahim ji🌸\\n#RoadSafetyIni...</td>\n",
              "      <td>['positive information', 'negative information...</td>\n",
              "      <td>[0.6274787783622742, 0.15558470785617828, 0.14...</td>\n",
              "      <td>{'positive information': 0.6274787783622742, '...</td>\n",
              "      <td>['positive information', 'negative information']</td>\n",
              "      <td>{'positive': 0.6677867770195007}</td>\n",
              "      <td>positive</td>\n",
              "      <td>follower take initiative prevent road accident...</td>\n",
              "      <td>negative</td>\n",
              "      <td>[0.6274787783622742, 0.15558470785617828]</td>\n",
              "      <td>positive information</td>\n",
              "      <td>0.627479</td>\n",
              "    </tr>\n",
              "    <tr>\n",
              "      <th>2</th>\n",
              "      <td>2</td>\n",
              "      <td>The Dera followers across India have taken the...</td>\n",
              "      <td>['positive information', 'negative information...</td>\n",
              "      <td>[0.6528342366218567, 0.16880010068416595, 0.11...</td>\n",
              "      <td>{'positive information': 0.6528342366218567, '...</td>\n",
              "      <td>['positive information', 'negative information']</td>\n",
              "      <td>{'positive': 0.844313383102417}</td>\n",
              "      <td>positive</td>\n",
              "      <td>follower take initiative prevent road accident...</td>\n",
              "      <td>negative</td>\n",
              "      <td>[0.6528342366218567, 0.16880010068416595]</td>\n",
              "      <td>positive information</td>\n",
              "      <td>0.652834</td>\n",
              "    </tr>\n",
              "    <tr>\n",
              "      <th>3</th>\n",
              "      <td>3</td>\n",
              "      <td>#RoadSafetyInitiativeByDSS\\nThe Dera followers...</td>\n",
              "      <td>['positive information', 'appreciation', 'nega...</td>\n",
              "      <td>[0.7812352180480957, 0.07765661180019379, 0.07...</td>\n",
              "      <td>{'positive information': 0.7812352180480957, '...</td>\n",
              "      <td>['positive information', 'appreciation']</td>\n",
              "      <td>{'positive': 0.8634591698646545}</td>\n",
              "      <td>positive</td>\n",
              "      <td>dera follower take initiative prevent road acc...</td>\n",
              "      <td>negative</td>\n",
              "      <td>[0.7812352180480957, 0.07765661180019379]</td>\n",
              "      <td>positive information</td>\n",
              "      <td>0.781235</td>\n",
              "    </tr>\n",
              "    <tr>\n",
              "      <th>4</th>\n",
              "      <td>4</td>\n",
              "      <td>The Dera followers across India have taken the...</td>\n",
              "      <td>['positive information', 'appreciation', 'nega...</td>\n",
              "      <td>[0.6620956063270569, 0.14676465094089508, 0.11...</td>\n",
              "      <td>{'positive information': 0.6620956063270569, '...</td>\n",
              "      <td>['positive information', 'appreciation']</td>\n",
              "      <td>{'positive': 0.8870344161987305}</td>\n",
              "      <td>positive</td>\n",
              "      <td>follower take initiative prevent road accident...</td>\n",
              "      <td>negative</td>\n",
              "      <td>[0.6620956063270569, 0.14676465094089508]</td>\n",
              "      <td>positive information</td>\n",
              "      <td>0.662096</td>\n",
              "    </tr>\n",
              "  </tbody>\n",
              "</table>\n",
              "</div>\n",
              "      <button class=\"colab-df-convert\" onclick=\"convertToInteractive('df-94a4c2a2-a12f-4cea-b9ed-0fe47a65a83a')\"\n",
              "              title=\"Convert this dataframe to an interactive table.\"\n",
              "              style=\"display:none;\">\n",
              "        \n",
              "  <svg xmlns=\"http://www.w3.org/2000/svg\" height=\"24px\"viewBox=\"0 0 24 24\"\n",
              "       width=\"24px\">\n",
              "    <path d=\"M0 0h24v24H0V0z\" fill=\"none\"/>\n",
              "    <path d=\"M18.56 5.44l.94 2.06.94-2.06 2.06-.94-2.06-.94-.94-2.06-.94 2.06-2.06.94zm-11 1L8.5 8.5l.94-2.06 2.06-.94-2.06-.94L8.5 2.5l-.94 2.06-2.06.94zm10 10l.94 2.06.94-2.06 2.06-.94-2.06-.94-.94-2.06-.94 2.06-2.06.94z\"/><path d=\"M17.41 7.96l-1.37-1.37c-.4-.4-.92-.59-1.43-.59-.52 0-1.04.2-1.43.59L10.3 9.45l-7.72 7.72c-.78.78-.78 2.05 0 2.83L4 21.41c.39.39.9.59 1.41.59.51 0 1.02-.2 1.41-.59l7.78-7.78 2.81-2.81c.8-.78.8-2.07 0-2.86zM5.41 20L4 18.59l7.72-7.72 1.47 1.35L5.41 20z\"/>\n",
              "  </svg>\n",
              "      </button>\n",
              "      \n",
              "  <style>\n",
              "    .colab-df-container {\n",
              "      display:flex;\n",
              "      flex-wrap:wrap;\n",
              "      gap: 12px;\n",
              "    }\n",
              "\n",
              "    .colab-df-convert {\n",
              "      background-color: #E8F0FE;\n",
              "      border: none;\n",
              "      border-radius: 50%;\n",
              "      cursor: pointer;\n",
              "      display: none;\n",
              "      fill: #1967D2;\n",
              "      height: 32px;\n",
              "      padding: 0 0 0 0;\n",
              "      width: 32px;\n",
              "    }\n",
              "\n",
              "    .colab-df-convert:hover {\n",
              "      background-color: #E2EBFA;\n",
              "      box-shadow: 0px 1px 2px rgba(60, 64, 67, 0.3), 0px 1px 3px 1px rgba(60, 64, 67, 0.15);\n",
              "      fill: #174EA6;\n",
              "    }\n",
              "\n",
              "    [theme=dark] .colab-df-convert {\n",
              "      background-color: #3B4455;\n",
              "      fill: #D2E3FC;\n",
              "    }\n",
              "\n",
              "    [theme=dark] .colab-df-convert:hover {\n",
              "      background-color: #434B5C;\n",
              "      box-shadow: 0px 1px 3px 1px rgba(0, 0, 0, 0.15);\n",
              "      filter: drop-shadow(0px 1px 2px rgba(0, 0, 0, 0.3));\n",
              "      fill: #FFFFFF;\n",
              "    }\n",
              "  </style>\n",
              "\n",
              "      <script>\n",
              "        const buttonEl =\n",
              "          document.querySelector('#df-94a4c2a2-a12f-4cea-b9ed-0fe47a65a83a button.colab-df-convert');\n",
              "        buttonEl.style.display =\n",
              "          google.colab.kernel.accessAllowed ? 'block' : 'none';\n",
              "\n",
              "        async function convertToInteractive(key) {\n",
              "          const element = document.querySelector('#df-94a4c2a2-a12f-4cea-b9ed-0fe47a65a83a');\n",
              "          const dataTable =\n",
              "            await google.colab.kernel.invokeFunction('convertToInteractive',\n",
              "                                                     [key], {});\n",
              "          if (!dataTable) return;\n",
              "\n",
              "          const docLinkHtml = 'Like what you see? Visit the ' +\n",
              "            '<a target=\"_blank\" href=https://colab.research.google.com/notebooks/data_table.ipynb>data table notebook</a>'\n",
              "            + ' to learn more about interactive tables.';\n",
              "          element.innerHTML = '';\n",
              "          dataTable['output_type'] = 'display_data';\n",
              "          await google.colab.output.renderOutput(dataTable, element);\n",
              "          const docLink = document.createElement('div');\n",
              "          docLink.innerHTML = docLinkHtml;\n",
              "          element.appendChild(docLink);\n",
              "        }\n",
              "      </script>\n",
              "    </div>\n",
              "  </div>\n",
              "  "
            ],
            "text/plain": [
              "   Unnamed: 0  ...     score\n",
              "0           0  ...  0.693281\n",
              "1           1  ...  0.627479\n",
              "2           2  ...  0.652834\n",
              "3           3  ...  0.781235\n",
              "4           4  ...  0.662096\n",
              "\n",
              "[5 rows x 13 columns]"
            ]
          },
          "metadata": {},
          "execution_count": 19
        }
      ]
    },
    {
      "cell_type": "markdown",
      "source": [
        ""
      ],
      "metadata": {
        "id": "mMGnwjZU0BmC"
      }
    },
    {
      "cell_type": "code",
      "source": [
        "#Get the distribution of the ratings\n",
        "import seaborn as sns\n",
        "\n",
        "x=df['label'].value_counts()\n",
        "x=x.sort_index()\n",
        "#plot\n",
        "plt.figure(figsize = (12,8))\n",
        "ax= sns.barplot(x.index, x.values, alpha=0.8, palette = 'dark')\n",
        "plt.title(\"Topic Distribution\")\n",
        "# plt.ylabel('# of businesses', fontsize=12)\n",
        "plt.xlabel('Topics', fontsize=12)\n",
        "\n",
        "#adding the text labels\n",
        "rects = ax.patches\n",
        "labels = x.values\n",
        "for rect, label in zip(rects, labels):\n",
        "    height = rect.get_height()\n",
        "    ax.text(rect.get_x() + rect.get_width()/2, height + 5, label, ha='center', va='bottom')\n",
        "\n",
        "plt.show();"
      ],
      "metadata": {
        "colab": {
          "base_uri": "https://localhost:8080/",
          "height": 570
        },
        "id": "wfHgbqKnEv-Y",
        "outputId": "46882897-ed78-4ebd-b954-4932727787bb"
      },
      "execution_count": null,
      "outputs": [
        {
          "output_type": "stream",
          "name": "stderr",
          "text": [
            "/usr/local/lib/python3.7/dist-packages/seaborn/_decorators.py:43: FutureWarning: Pass the following variables as keyword args: x, y. From version 0.12, the only valid positional argument will be `data`, and passing other arguments without an explicit keyword will result in an error or misinterpretation.\n",
            "  FutureWarning\n"
          ]
        },
        {
          "output_type": "display_data",
          "data": {
            "image/png": "[encoded data removed]",
            "text/plain": [
              "<Figure size 864x576 with 1 Axes>"
            ]
          },
          "metadata": {
            "needs_background": "light"
          }
        }
      ]
    },
    {
      "cell_type": "code",
      "source": [
        "import re\n",
        "import unicodedata\n",
        "\n",
        "stop_words=stopwords.words('english') + ['&amp','&amp;']\n",
        "\n",
        "\n",
        "\n",
        "\"\"\"Functions to clean text using Regex\"\"\"\n",
        "ip_addr_regex = re.compile(r'\\b(?:[0-9]{1,3}\\.){3}[0-9]{1,3}\\b')\n",
        "emoji_pattern = re.compile(\"[\"\n",
        "        u\"\\U0001F600-\\U0001F64F\"  # emoticons\n",
        "        u\"\\U0001F300-\\U0001F5FF\"  # symbols & pictographs\n",
        "        u\"\\U0001F680-\\U0001F6FF\"  # transport & map symbols\n",
        "        u\"\\U0001F1E0-\\U0001F1FF\"  # flags (iOS)\n",
        "                           \"]+\", flags=re.UNICODE)\n",
        "def regex_cleaning(phrase):\n",
        "    # specific\n",
        "    phrase = re.sub(r\"won\\'t\", \"will not\", phrase)\n",
        "    phrase = re.sub(r\"can\\'t\", \"can not\", phrase)\n",
        "\n",
        "    # general\n",
        "    phrase = re.sub(r\"n\\'t\", \" not\", phrase)\n",
        "    phrase = re.sub(r\"\\'re\", \" are\", phrase)\n",
        "    phrase = re.sub(r\"\\'s\", \" is\", phrase)\n",
        "    phrase = re.sub(r\"\\'d\", \" would\", phrase)\n",
        "    phrase = re.sub(r\"\\'ll\", \" will\", phrase)\n",
        "    phrase = re.sub(r\"\\'t\", \" not\", phrase)\n",
        "    phrase = re.sub(r\"\\'ve\", \" have\", phrase)\n",
        "    phrase = re.sub(r\"\\'m\", \" am\", phrase)\n",
        "    phrase = re.sub(r\"[^a-zA-Z0-9]+\", \" \", phrase)\n",
        "    phrase = re.sub('[\\(\\[].*?[\\)\\]]', ' ', phrase)\n",
        "    phrase = unicodedata.normalize('NFKD', phrase).encode('ascii', 'ignore').decode('utf-8', 'ignore')\n",
        "    phrase = re.sub(r\"\\r\\n\", \"\", phrase)            # Removing additional line\n",
        "    phrase = re.sub(r\"\\n\", \"\", phrase)              # Removing additional line \n",
        "    phrase = re.sub(r\"\\S*@\\S*\\s?\", \"\", phrase)      # Removing email-addresses \n",
        "    phrase = re.sub(r'http\\S+', '', phrase)         # Removing website links\n",
        "    phrase = re.sub(ip_addr_regex, \"\", phrase)      # Removing IP address link.\n",
        "    phrase = emoji_pattern.sub(r'', phrase)         # Removing Emojis\n",
        "    \n",
        "    # phrase_final = \" \".join([word.lower() for word in phrase.split() if word not in stop_words and len(word) > 3])\n",
        "    phrase_final = [word.lower() for word in phrase.split() if word not in stop_words and len(word) > 3]\n",
        "    return \"\" if len(phrase_final) < 3 else \" \".join(phrase_final)  \n",
        "\n",
        "\n",
        "import gensim\n",
        "\n",
        "# def gen_words(text):\n",
        "#     final = []\n",
        "#     # for text in texts:\n",
        "#     new = gensim.utils.simple_preprocess(text, deacc=True)\n",
        "#     for word in new:\n",
        "#       if len(word) > 3:\n",
        "#         final.append(word)\n",
        "#     # print(final)\n",
        "#     return (\" \".join(final))\n",
        "\n",
        "\n",
        "\n",
        "# def lemmatization(texts, allowed_postags=[\"NOUN\", \"ADJ\", \"VERB\", \"ADV\"]):\n",
        "#   nlp = spacy.load(\"en_core_web_sm\")\n",
        "\n",
        "\n",
        "#   doc = nlp(texts)\n",
        "#   new_text = []\n",
        "#   for token in doc:\n",
        "#     if token.pos_ in allowed_postags:\n",
        "#       # final = \" \".join(new_text)\n",
        "#       new_text.append(token.lemma_)\n",
        "  \n",
        "#   return (\" \".join(new_text))\n",
        "from nltk import sent_tokenize\n",
        "from gensim.utils import simple_preprocess"
      ],
      "metadata": {
        "id": "i7QQQ7T7rEIn"
      },
      "execution_count": 20,
      "outputs": []
    },
    {
      "cell_type": "code",
      "source": [
        ""
      ],
      "metadata": {
        "id": "Tn1TwfLz0M9G"
      },
      "execution_count": 20,
      "outputs": []
    },
    {
      "cell_type": "markdown",
      "source": [
        "# **Data Selections**"
      ],
      "metadata": {
        "id": "AP1dY9_qeo4n"
      }
    },
    {
      "cell_type": "code",
      "source": [
        "df.label = df.label.replace('negative information', 'complaints').replace('positive information', 'appreciation').replace('fatal accident', 'accident')\n",
        "negative_df = df[(df['label'] == 'complaints') & (df.score > 0.7)][['tweet_content', 'label', 'score']]\n",
        "accident_df = df[(df['label'] == 'accident') & (df.score > 0.6)][['tweet_content', 'label', 'score']]\n",
        "positive_df = df[(df['label'] == 'appreciation')][['tweet_content', 'label', 'score']]\n",
        "negative_df.shape, accident_df.shape, positive_df.shape"
      ],
      "metadata": {
        "colab": {
          "base_uri": "https://localhost:8080/"
        },
        "id": "oMGlUvaya0GJ",
        "outputId": "6b3a8251-a493-432a-ef4a-fc68b10adf07"
      },
      "execution_count": 21,
      "outputs": [
        {
          "output_type": "execute_result",
          "data": {
            "text/plain": [
              "((8389, 3), (7884, 3), (5846, 3))"
            ]
          },
          "metadata": {},
          "execution_count": 21
        }
      ]
    },
    {
      "cell_type": "code",
      "source": [
        "final_df  = pd.concat([negative_df, positive_df, accident_df], ignore_index=True, sort=False)\n",
        "final_df = final_df[final_df.tweet_content.map(lambda x: x.isascii())] #removing non-english rows\n",
        "final_df.shape"
      ],
      "metadata": {
        "colab": {
          "base_uri": "https://localhost:8080/"
        },
        "id": "CpZah7QEdNUT",
        "outputId": "f11bfab7-b84a-4039-8ad9-fbc383e097ea"
      },
      "execution_count": 22,
      "outputs": [
        {
          "output_type": "execute_result",
          "data": {
            "text/plain": [
              "(18539, 3)"
            ]
          },
          "metadata": {},
          "execution_count": 22
        }
      ]
    },
    {
      "cell_type": "code",
      "source": [
        "freq_dict ={}\n",
        "text_list = [text for text in final_df['tweet_content']]\n",
        "for sentence in text_list:\n",
        "  for word in str(sentence).split(): \n",
        "    \n",
        "    if word in freq_dict.keys() and len(word) > 3 and word not in stopwords.words('english'):\n",
        "      freq_dict[word.lower()] += 1\n",
        "\n",
        "    if word not in freq_dict.keys() and len(word) > 3 and word not in stopwords.words('english'):\n",
        "      freq_dict[word.lower()] = 1\n",
        "\n",
        "\n",
        "count_df = pd.DataFrame( freq_dict.values(), freq_dict.keys()).reset_index().rename({0: \"Frequency\", \"index\": \"Words\"}, axis =1)\n",
        "count_df.sort_values(by = 'Frequency', ascending = False)[:10]"
      ],
      "metadata": {
        "colab": {
          "base_uri": "https://localhost:8080/",
          "height": 363
        },
        "id": "Yp02_-J3aVhg",
        "outputId": "b748e4b4-81f4-4b2d-ca7c-ae76c0ad503a"
      },
      "execution_count": 23,
      "outputs": [
        {
          "output_type": "execute_result",
          "data": {
            "text/html": [
              "\n",
              "  <div id=\"df-77fe34cf-c40a-40b6-a412-065ad230db98\">\n",
              "    <div class=\"colab-df-container\">\n",
              "      <div>\n",
              "<style scoped>\n",
              "    .dataframe tbody tr th:only-of-type {\n",
              "        vertical-align: middle;\n",
              "    }\n",
              "\n",
              "    .dataframe tbody tr th {\n",
              "        vertical-align: top;\n",
              "    }\n",
              "\n",
              "    .dataframe thead th {\n",
              "        text-align: right;\n",
              "    }\n",
              "</style>\n",
              "<table border=\"1\" class=\"dataframe\">\n",
              "  <thead>\n",
              "    <tr style=\"text-align: right;\">\n",
              "      <th></th>\n",
              "      <th>Words</th>\n",
              "      <th>Frequency</th>\n",
              "    </tr>\n",
              "  </thead>\n",
              "  <tbody>\n",
              "    <tr>\n",
              "      <th>56</th>\n",
              "      <td>&amp;amp;</td>\n",
              "      <td>1421</td>\n",
              "    </tr>\n",
              "    <tr>\n",
              "      <th>207</th>\n",
              "      <td>killed</td>\n",
              "      <td>720</td>\n",
              "    </tr>\n",
              "    <tr>\n",
              "      <th>308</th>\n",
              "      <td>@narendramodi</td>\n",
              "      <td>439</td>\n",
              "    </tr>\n",
              "    <tr>\n",
              "      <th>15</th>\n",
              "      <td>reflectors</td>\n",
              "      <td>369</td>\n",
              "    </tr>\n",
              "    <tr>\n",
              "      <th>12</th>\n",
              "      <td>tying</td>\n",
              "      <td>345</td>\n",
              "    </tr>\n",
              "    <tr>\n",
              "      <th>19</th>\n",
              "      <td>animals.</td>\n",
              "      <td>288</td>\n",
              "    </tr>\n",
              "    <tr>\n",
              "      <th>321</th>\n",
              "      <td>caused</td>\n",
              "      <td>279</td>\n",
              "    </tr>\n",
              "    <tr>\n",
              "      <th>7854</th>\n",
              "      <td>horns/necks</td>\n",
              "      <td>248</td>\n",
              "    </tr>\n",
              "    <tr>\n",
              "      <th>13</th>\n",
              "      <td>radium</td>\n",
              "      <td>206</td>\n",
              "    </tr>\n",
              "    <tr>\n",
              "      <th>5228</th>\n",
              "      <td>accident:</td>\n",
              "      <td>205</td>\n",
              "    </tr>\n",
              "  </tbody>\n",
              "</table>\n",
              "</div>\n",
              "      <button class=\"colab-df-convert\" onclick=\"convertToInteractive('df-77fe34cf-c40a-40b6-a412-065ad230db98')\"\n",
              "              title=\"Convert this dataframe to an interactive table.\"\n",
              "              style=\"display:none;\">\n",
              "        \n",
              "  <svg xmlns=\"http://www.w3.org/2000/svg\" height=\"24px\"viewBox=\"0 0 24 24\"\n",
              "       width=\"24px\">\n",
              "    <path d=\"M0 0h24v24H0V0z\" fill=\"none\"/>\n",
              "    <path d=\"M18.56 5.44l.94 2.06.94-2.06 2.06-.94-2.06-.94-.94-2.06-.94 2.06-2.06.94zm-11 1L8.5 8.5l.94-2.06 2.06-.94-2.06-.94L8.5 2.5l-.94 2.06-2.06.94zm10 10l.94 2.06.94-2.06 2.06-.94-2.06-.94-.94-2.06-.94 2.06-2.06.94z\"/><path d=\"M17.41 7.96l-1.37-1.37c-.4-.4-.92-.59-1.43-.59-.52 0-1.04.2-1.43.59L10.3 9.45l-7.72 7.72c-.78.78-.78 2.05 0 2.83L4 21.41c.39.39.9.59 1.41.59.51 0 1.02-.2 1.41-.59l7.78-7.78 2.81-2.81c.8-.78.8-2.07 0-2.86zM5.41 20L4 18.59l7.72-7.72 1.47 1.35L5.41 20z\"/>\n",
              "  </svg>\n",
              "      </button>\n",
              "      \n",
              "  <style>\n",
              "    .colab-df-container {\n",
              "      display:flex;\n",
              "      flex-wrap:wrap;\n",
              "      gap: 12px;\n",
              "    }\n",
              "\n",
              "    .colab-df-convert {\n",
              "      background-color: #E8F0FE;\n",
              "      border: none;\n",
              "      border-radius: 50%;\n",
              "      cursor: pointer;\n",
              "      display: none;\n",
              "      fill: #1967D2;\n",
              "      height: 32px;\n",
              "      padding: 0 0 0 0;\n",
              "      width: 32px;\n",
              "    }\n",
              "\n",
              "    .colab-df-convert:hover {\n",
              "      background-color: #E2EBFA;\n",
              "      box-shadow: 0px 1px 2px rgba(60, 64, 67, 0.3), 0px 1px 3px 1px rgba(60, 64, 67, 0.15);\n",
              "      fill: #174EA6;\n",
              "    }\n",
              "\n",
              "    [theme=dark] .colab-df-convert {\n",
              "      background-color: #3B4455;\n",
              "      fill: #D2E3FC;\n",
              "    }\n",
              "\n",
              "    [theme=dark] .colab-df-convert:hover {\n",
              "      background-color: #434B5C;\n",
              "      box-shadow: 0px 1px 3px 1px rgba(0, 0, 0, 0.15);\n",
              "      filter: drop-shadow(0px 1px 2px rgba(0, 0, 0, 0.3));\n",
              "      fill: #FFFFFF;\n",
              "    }\n",
              "  </style>\n",
              "\n",
              "      <script>\n",
              "        const buttonEl =\n",
              "          document.querySelector('#df-77fe34cf-c40a-40b6-a412-065ad230db98 button.colab-df-convert');\n",
              "        buttonEl.style.display =\n",
              "          google.colab.kernel.accessAllowed ? 'block' : 'none';\n",
              "\n",
              "        async function convertToInteractive(key) {\n",
              "          const element = document.querySelector('#df-77fe34cf-c40a-40b6-a412-065ad230db98');\n",
              "          const dataTable =\n",
              "            await google.colab.kernel.invokeFunction('convertToInteractive',\n",
              "                                                     [key], {});\n",
              "          if (!dataTable) return;\n",
              "\n",
              "          const docLinkHtml = 'Like what you see? Visit the ' +\n",
              "            '<a target=\"_blank\" href=https://colab.research.google.com/notebooks/data_table.ipynb>data table notebook</a>'\n",
              "            + ' to learn more about interactive tables.';\n",
              "          element.innerHTML = '';\n",
              "          dataTable['output_type'] = 'display_data';\n",
              "          await google.colab.output.renderOutput(dataTable, element);\n",
              "          const docLink = document.createElement('div');\n",
              "          docLink.innerHTML = docLinkHtml;\n",
              "          element.appendChild(docLink);\n",
              "        }\n",
              "      </script>\n",
              "    </div>\n",
              "  </div>\n",
              "  "
            ],
            "text/plain": [
              "              Words  Frequency\n",
              "56            &amp;       1421\n",
              "207          killed        720\n",
              "308   @narendramodi        439\n",
              "15       reflectors        369\n",
              "12            tying        345\n",
              "19         animals.        288\n",
              "321          caused        279\n",
              "7854    horns/necks        248\n",
              "13           radium        206\n",
              "5228      accident:        205"
            ]
          },
          "metadata": {},
          "execution_count": 23
        }
      ]
    },
    {
      "cell_type": "code",
      "source": [
        "final_df['clean_corpus'] = final_df['tweet_content'].apply(regex_cleaning) #cleaning through regex"
      ],
      "metadata": {
        "id": "zrI4Um9YpmpO"
      },
      "execution_count": 24,
      "outputs": []
    },
    {
      "cell_type": "code",
      "source": [
        "final_df = final_df[~(final_df['clean_corpus'] == '')] # Selecting rows which doesnt have empty values"
      ],
      "metadata": {
        "id": "NDjUYZZisi1B"
      },
      "execution_count": 25,
      "outputs": []
    },
    {
      "cell_type": "code",
      "source": [
        "story = []\n",
        "for doc in final_df['clean_corpus']:\n",
        "    raw_sent = sent_tokenize(doc)\n",
        "    for sent in raw_sent:\n",
        "        story.append(simple_preprocess(sent))\n",
        "\n",
        "# Word2Vec model\n",
        "model_gensim = gensim.models.Word2Vec( \n",
        "    window=10,\n",
        "    min_count=2\n",
        ")"
      ],
      "metadata": {
        "id": "IzJ-HNXclQWn"
      },
      "execution_count": 26,
      "outputs": []
    },
    {
      "cell_type": "code",
      "source": [
        "model_gensim.build_vocab(story) #building vocabulary"
      ],
      "metadata": {
        "id": "N9vN-Pfblju-"
      },
      "execution_count": 27,
      "outputs": []
    },
    {
      "cell_type": "code",
      "source": [
        "model_gensim.train(story, total_examples=model_gensim.corpus_count, epochs=model_gensim.epochs) # training the model"
      ],
      "metadata": {
        "colab": {
          "base_uri": "https://localhost:8080/"
        },
        "id": "RySdxL13lmhH",
        "outputId": "f755a364-a965-4863-cf3a-c9c292d3dcd0"
      },
      "execution_count": 28,
      "outputs": [
        {
          "output_type": "execute_result",
          "data": {
            "text/plain": [
              "(957229, 1405935)"
            ]
          },
          "metadata": {},
          "execution_count": 28
        }
      ]
    },
    {
      "cell_type": "code",
      "source": [
        "len(model_gensim.wv.index2word) # number of words in vocab"
      ],
      "metadata": {
        "colab": {
          "base_uri": "https://localhost:8080/"
        },
        "id": "VOph97ckmUyu",
        "outputId": "db9f8e2b-df5b-46cd-e975-965313420959"
      },
      "execution_count": 29,
      "outputs": [
        {
          "output_type": "execute_result",
          "data": {
            "text/plain": [
              "10756"
            ]
          },
          "metadata": {},
          "execution_count": 29
        }
      ]
    },
    {
      "cell_type": "code",
      "source": [
        "# remove out-of-vocabulary word\n",
        "def document_vector(doc):\n",
        "    doc = [word for word in doc.split() if word in model_gensim.wv.index2word]\n",
        "    return np.mean(model_gensim.wv[doc], axis=0)"
      ],
      "metadata": {
        "id": "X74ZnUqllqaw"
      },
      "execution_count": 30,
      "outputs": []
    },
    {
      "cell_type": "code",
      "source": [
        "final_df.shape "
      ],
      "metadata": {
        "colab": {
          "base_uri": "https://localhost:8080/"
        },
        "id": "6LZ3yt5b14O7",
        "outputId": "072dc851-2e26-464c-8ad9-d5a02d5aeeda"
      },
      "execution_count": 31,
      "outputs": [
        {
          "output_type": "execute_result",
          "data": {
            "text/plain": [
              "(18515, 4)"
            ]
          },
          "metadata": {},
          "execution_count": 31
        }
      ]
    },
    {
      "cell_type": "code",
      "source": [
        "\"\"\"In case some rows still have non-english words: e.g. words left from hashtags\"\"\"\n",
        "remove_rows = [10922]\n",
        "# final_df.iloc[10922]\n",
        "for rows in remove_rows:\n",
        "  final_df.drop(final_df.iloc[rows].name, inplace = True)"
      ],
      "metadata": {
        "id": "Evq93hZg0vC9"
      },
      "execution_count": 32,
      "outputs": []
    },
    {
      "cell_type": "code",
      "source": [
        "document_vector(final_df['clean_corpus'].values[65])"
      ],
      "metadata": {
        "colab": {
          "base_uri": "https://localhost:8080/"
        },
        "id": "86qIHAX0oGCL",
        "outputId": "5503d378-f590-4a08-9264-2b97db5d32db"
      },
      "execution_count": 33,
      "outputs": [
        {
          "output_type": "execute_result",
          "data": {
            "text/plain": [
              "array([-0.6362046 ,  0.03838497, -0.26371565,  0.23302005, -0.85238516,\n",
              "        0.77610016, -0.5493654 ,  0.40624052, -0.1580896 , -0.4901084 ,\n",
              "       -0.3273979 , -0.48704514,  0.6454286 , -0.11755516,  0.18298562,\n",
              "       -0.48281598, -0.43052873,  0.2543208 , -0.21328846,  0.3090805 ,\n",
              "       -0.10214788, -0.15684697,  0.00720023, -0.19067132,  0.21217313,\n",
              "       -0.4343221 ,  0.41230318,  0.1483024 ,  0.4963882 , -0.37488183,\n",
              "        0.30136654, -0.00171599,  0.30118433,  0.02528669,  0.5004216 ,\n",
              "        0.15887134,  0.12355552, -0.6608208 ,  0.1204779 , -0.7094614 ,\n",
              "        1.2338936 , -0.40285805,  0.47487307, -0.13723364, -0.0646386 ,\n",
              "       -0.1766134 ,  0.6048441 , -0.03320064, -0.00529787,  0.2654773 ,\n",
              "        0.5863606 ,  0.11799149,  0.03580938, -0.6893941 ,  0.02926108,\n",
              "        0.13704275, -0.22700468,  0.17905243,  0.26356068,  0.22325434,\n",
              "        0.06882661,  0.16740103,  0.26425305, -0.02811571,  0.01719855,\n",
              "        0.19967733,  0.3045549 ,  0.1472523 ,  0.10652192,  0.46137142,\n",
              "        0.07135198,  0.07298558, -0.6552633 , -0.32807127, -0.6433841 ,\n",
              "        0.11723389,  0.25226563, -0.2853987 ,  0.27137333,  0.34640485,\n",
              "       -0.20936693,  0.19814284, -0.316721  ,  0.64195716,  0.3341724 ,\n",
              "        0.36702135, -0.10171384,  0.20863678, -0.29900834, -0.22279382,\n",
              "        0.18243094,  0.10632366,  0.6677279 ,  0.14970076,  0.2315694 ,\n",
              "        0.5719799 , -0.22250724,  0.33771315,  0.50997955, -0.43099156],\n",
              "      dtype=float32)"
            ]
          },
          "metadata": {},
          "execution_count": 33
        }
      ]
    },
    {
      "cell_type": "code",
      "source": [
        "from tqdm import tqdm"
      ],
      "metadata": {
        "id": "gy7kw6-VoNKh"
      },
      "execution_count": 34,
      "outputs": []
    },
    {
      "cell_type": "code",
      "source": [
        "\"\"\"Applying Word2Vec on whole data\"\"\"\n",
        "X = []\n",
        "for doc in tqdm(final_df['clean_corpus'].values):\n",
        "    X.append(document_vector(doc))\n",
        "\n",
        "# X = np.array(X)"
      ],
      "metadata": {
        "colab": {
          "base_uri": "https://localhost:8080/"
        },
        "id": "HDFdhHpPoPED",
        "outputId": "f431b090-40b6-4cca-9464-344896b4791b"
      },
      "execution_count": 35,
      "outputs": [
        {
          "output_type": "stream",
          "name": "stderr",
          "text": [
            "100%|██████████| 18514/18514 [00:29<00:00, 637.40it/s] \n"
          ]
        }
      ]
    },
    {
      "cell_type": "code",
      "source": [
        "\"\"\"Converting the list to array\"\"\"\n",
        "X = np.array(X)\n",
        "X[0]"
      ],
      "metadata": {
        "colab": {
          "base_uri": "https://localhost:8080/"
        },
        "id": "UkMak1qB0tFk",
        "outputId": "84952219-96be-462e-8adb-53a8f0500332"
      },
      "execution_count": 36,
      "outputs": [
        {
          "output_type": "execute_result",
          "data": {
            "text/plain": [
              "array([-0.03428847,  1.024388  ,  0.16794524,  0.5957152 , -1.2872887 ,\n",
              "        1.7121269 , -1.4198289 ,  0.08767035, -0.3297567 , -0.6707794 ,\n",
              "       -1.1651106 ,  0.36724272,  0.12783916, -0.99396247, -0.30995408,\n",
              "       -1.4247141 , -1.208958  ,  0.19690177, -0.72898716, -0.7119701 ,\n",
              "        0.6801718 , -0.6178304 ,  0.88383734, -1.3144163 ,  0.22043411,\n",
              "       -1.4783585 , -1.4135733 , -0.30150783, -0.1386294 , -0.4022793 ,\n",
              "        0.8071914 , -0.6680154 ,  0.12461966, -0.03838794,  1.2762374 ,\n",
              "       -0.37576127, -1.2288694 , -0.47132608, -0.09315123, -0.8424872 ,\n",
              "        1.7695417 , -0.34223083,  1.2836822 ,  0.230482  , -0.19311966,\n",
              "        0.10113182,  1.0957463 , -0.35885853, -0.7788668 ,  1.2205887 ,\n",
              "       -0.01245501, -0.10139952,  0.30831346, -1.54914   ,  0.2210652 ,\n",
              "       -0.27992034, -1.7512043 ,  0.7871657 ,  0.32260153,  0.27966017,\n",
              "       -0.7288472 ,  0.49440882,  0.44781378,  0.9486015 , -0.21397698,\n",
              "       -0.22821216,  1.3029402 , -0.14323705,  0.9722874 ,  0.28330982,\n",
              "        0.72602   , -0.22601813,  0.16568331, -0.49914494, -1.2370043 ,\n",
              "        0.9805833 , -1.2927355 , -0.76213473,  0.00324487,  1.2389631 ,\n",
              "       -0.955824  ,  0.5356787 , -0.6753989 ,  2.3381493 ,  0.5954202 ,\n",
              "        0.18948643,  0.70485413, -0.01366116, -0.38324583,  0.30442497,\n",
              "        1.4649726 ,  0.10060708,  1.6175411 , -0.55060625, -0.20317876,\n",
              "        0.34040236,  0.21303515, -0.2008725 , -0.08733822, -1.6076828 ],\n",
              "      dtype=float32)"
            ]
          },
          "metadata": {},
          "execution_count": 36
        }
      ]
    },
    {
      "cell_type": "code",
      "source": [
        "final_df.label.value_counts()"
      ],
      "metadata": {
        "colab": {
          "base_uri": "https://localhost:8080/"
        },
        "id": "SCUuGrFnTZ8b",
        "outputId": "7965f9f7-8cd7-4b32-e885-7fcba059e50a"
      },
      "execution_count": 37,
      "outputs": [
        {
          "output_type": "execute_result",
          "data": {
            "text/plain": [
              "complaints      6834\n",
              "accident        6776\n",
              "appreciation    4904\n",
              "Name: label, dtype: int64"
            ]
          },
          "metadata": {},
          "execution_count": 37
        }
      ]
    },
    {
      "cell_type": "code",
      "source": [
        "\"\"\"Decalring Features and Label\"\"\"\n",
        "features = X.copy()\n",
        "labels = final_df['label'].values"
      ],
      "metadata": {
        "id": "F2Kfd_fgtKkd"
      },
      "execution_count": 38,
      "outputs": []
    },
    {
      "cell_type": "code",
      "source": [
        "# # Splitting the data into Training and Testing set\n",
        "X_train, X_test, y_train, y_test = train_test_split(features, labels, stratify = labels,   test_size= 0.3,  random_state = 42)"
      ],
      "metadata": {
        "id": "-Q0Y1X6wtRl-"
      },
      "execution_count": 39,
      "outputs": []
    },
    {
      "cell_type": "code",
      "source": [
        "from sklearn.linear_model import LogisticRegression\n",
        "from sklearn.svm import SVC\n",
        "from sklearn.naive_bayes import MultinomialNB\n",
        "from sklearn.tree import DecisionTreeClassifier\n",
        "from sklearn.neighbors import KNeighborsClassifier\n",
        "from sklearn.ensemble import RandomForestClassifier\n",
        "from sklearn.ensemble import AdaBoostClassifier\n",
        "from sklearn.ensemble import BaggingClassifier\n",
        "from sklearn.ensemble import ExtraTreesClassifier\n",
        "from sklearn.ensemble import GradientBoostingClassifier\n",
        "from xgboost import XGBClassifier"
      ],
      "metadata": {
        "id": "oVNL6fFJlSti"
      },
      "execution_count": 40,
      "outputs": []
    },
    {
      "cell_type": "code",
      "source": [
        "svc = SVC( kernel=\"linear\", class_weight='balanced' )\n",
        "knc = KNeighborsClassifier()\n",
        "# mnb = MultinomialNB()\n",
        "dtc = DecisionTreeClassifier()\n",
        "lrc = LogisticRegression(solver='liblinear', penalty='l1')\n",
        "rfc = RandomForestClassifier( random_state=7)\n",
        "abc = AdaBoostClassifier( random_state=7)\n",
        "bc = BaggingClassifier(random_state=7)\n",
        "etc = ExtraTreesClassifier(random_state=7)\n",
        "gbdt = GradientBoostingClassifier(random_state=7)\n",
        "xgb = XGBClassifier(random_state=7)"
      ],
      "metadata": {
        "id": "lw2qBnIwlU3T"
      },
      "execution_count": 41,
      "outputs": []
    },
    {
      "cell_type": "code",
      "source": [
        "clfs = {'SVC':svc,\n",
        "    'KN' : knc, \n",
        "    # 'NB': mnb, \n",
        "    'DT': dtc, \n",
        "    'LR': lrc, \n",
        "    'RF': rfc, \n",
        "    'AdaBoost': abc, \n",
        "    'BgC': bc, \n",
        "    'ETC': etc,\n",
        "    'GBDT':gbdt,\n",
        "    'xgb':xgb\n",
        "}"
      ],
      "metadata": {
        "id": "J4Bo1wVnlZp8"
      },
      "execution_count": 42,
      "outputs": []
    },
    {
      "cell_type": "code",
      "source": [
        "def train_classifier(clf,X_train,y_train,X_test,y_test):\n",
        "    clf.fit(X_train,y_train)\n",
        "    train_pred = clf.predict(X_train)\n",
        "    test_pred = clf.predict(X_test)\n",
        "    accuracy_train = metrics.accuracy_score(y_train,train_pred )\n",
        "    accuracy_test = metrics.accuracy_score(y_test,test_pred)\n",
        "    precision_train = metrics.precision_score(y_train,train_pred, average=\"macro\")\n",
        "    precision_test = metrics.precision_score(y_test,test_pred, average=\"macro\")\n",
        "    recall_train = metrics.recall_score(y_train,train_pred, average=\"macro\")\n",
        "    recall_test = metrics.recall_score(y_test,test_pred, average=\"macro\")\n",
        "    \n",
        "    return accuracy_train,accuracy_test, precision_train, precision_test, recall_train, recall_test"
      ],
      "metadata": {
        "id": "2XOlUx3tld2M"
      },
      "execution_count": 43,
      "outputs": []
    },
    {
      "cell_type": "code",
      "source": [
        "import warnings\n",
        "warnings.filterwarnings('ignore')"
      ],
      "metadata": {
        "id": "mqUi4XD5oR91"
      },
      "execution_count": 44,
      "outputs": []
    },
    {
      "cell_type": "code",
      "source": [
        "\n",
        "accuracy_scores_tr = []\n",
        "accuracy_scores_ts = []\n",
        "precision_tr_scores = []\n",
        "precision_ts_scores = []\n",
        "recall_tr_scores = []\n",
        "recall_ts_scores = []\n",
        "\n",
        "for name,clf in clfs.items():\n",
        "    \n",
        "    current_accuracy_tr,current_accuracy_ts,precision_tr, precision_ts, recall_tr, recall_ts = train_classifier(clf, X_train,\n",
        "                                                                                                      y_train,X_test,y_test)\n",
        "    \n",
        "    print(\"For \",name)\n",
        "    print(\"Accuracy Train - \",current_accuracy_tr)\n",
        "    print(\"Accuracy Test - \",current_accuracy_ts)\n",
        "    print(\"Precision Train - \\n\",precision_tr)\n",
        "    print(\"Precision Test - \\n\",precision_ts)\n",
        "    print(\"Recall Train - \\n\",recall_tr)\n",
        "    print(\"Recall Test - \\n\",recall_ts)\n",
        "    \n",
        "    accuracy_scores_tr.append(current_accuracy_tr)\n",
        "    accuracy_scores_ts.append(current_accuracy_ts)\n",
        "    precision_tr_scores.append(precision_tr)\n",
        "    precision_ts_scores.append(precision_ts)\n",
        "    recall_tr_scores.append(recall_tr)\n",
        "    recall_ts_scores.append(recall_ts)\n",
        "    print()\n",
        "    print(\"=\"*100)\n",
        "    print()"
      ],
      "metadata": {
        "colab": {
          "base_uri": "https://localhost:8080/"
        },
        "id": "H_wpkrO3mJVZ",
        "outputId": "21a8473c-90b4-4fc0-ae68-98436e8d807b"
      },
      "execution_count": 45,
      "outputs": [
        {
          "output_type": "stream",
          "name": "stdout",
          "text": [
            "For  SVC\n",
            "Accuracy Train -  0.7607068446639401\n",
            "Accuracy Test -  0.763996399639964\n",
            "Precision Train - \n",
            " 0.756495893921599\n",
            "Precision Test - \n",
            " 0.7575917052218655\n",
            "Recall Train - \n",
            " 0.7495115321979974\n",
            "Recall Test - \n",
            " 0.7529525908676931\n",
            "\n",
            "====================================================================================================\n",
            "\n",
            "For  KN\n",
            "Accuracy Train -  0.8446639401188363\n",
            "Accuracy Test -  0.7704770477047704\n",
            "Precision Train - \n",
            " 0.8401680528579902\n",
            "Precision Test - \n",
            " 0.7619881921181543\n",
            "Recall Train - \n",
            " 0.8355503903959768\n",
            "Recall Test - \n",
            " 0.7602462705551698\n",
            "\n",
            "====================================================================================================\n",
            "\n",
            "For  DT\n",
            "Accuracy Train -  0.9991511690716877\n",
            "Accuracy Test -  0.7533753375337534\n",
            "Precision Train - \n",
            " 0.999094801688663\n",
            "Precision Test - \n",
            " 0.7456557180834164\n",
            "Recall Train - \n",
            " 0.9991505917020053\n",
            "Recall Test - \n",
            " 0.7455562393473341\n",
            "\n",
            "====================================================================================================\n",
            "\n",
            "For  LR\n",
            "Accuracy Train -  0.7647194999614167\n",
            "Accuracy Test -  0.7706570657065707\n",
            "Precision Train - \n",
            " 0.7661585323293344\n",
            "Precision Test - \n",
            " 0.7692148635724759\n",
            "Recall Train - \n",
            " 0.7468308776786348\n",
            "Recall Test - \n",
            " 0.7522309037125461\n",
            "\n",
            "====================================================================================================\n",
            "\n",
            "For  RF\n",
            "Accuracy Train -  0.9991511690716877\n",
            "Accuracy Test -  0.810981098109811\n",
            "Precision Train - \n",
            " 0.999122598424198\n",
            "Precision Test - \n",
            " 0.8099399336101464\n",
            "Recall Train - \n",
            " 0.999122598424198\n",
            "Recall Test - \n",
            " 0.7975020929239115\n",
            "\n",
            "====================================================================================================\n",
            "\n",
            "For  AdaBoost\n",
            "Accuracy Train -  0.7303032641407516\n",
            "Accuracy Test -  0.7306930693069307\n",
            "Precision Train - \n",
            " 0.7266736824184852\n",
            "Precision Test - \n",
            " 0.72532525409546\n",
            "Recall Train - \n",
            " 0.7119597064489854\n",
            "Recall Test - \n",
            " 0.7120131207668491\n",
            "\n",
            "====================================================================================================\n",
            "\n",
            "For  BgC\n",
            "Accuracy Train -  0.9926691874373023\n",
            "Accuracy Test -  0.7828982898289829\n",
            "Precision Train - \n",
            " 0.9922778359507424\n",
            "Precision Test - \n",
            " 0.7741163597939592\n",
            "Recall Train - \n",
            " 0.9926603204466616\n",
            "Recall Test - \n",
            " 0.7755189917299842\n",
            "\n",
            "====================================================================================================\n",
            "\n",
            "For  ETC\n",
            "Accuracy Train -  0.9991511690716877\n",
            "Accuracy Test -  0.8108010801080108\n",
            "Precision Train - \n",
            " 0.999094801688663\n",
            "Precision Test - \n",
            " 0.8099314376400021\n",
            "Recall Train - \n",
            " 0.9991505917020053\n",
            "Recall Test - \n",
            " 0.7975303742316086\n",
            "\n",
            "====================================================================================================\n",
            "\n",
            "For  GBDT\n",
            "Accuracy Train -  0.8233660004629987\n",
            "Accuracy Test -  0.7805580558055806\n",
            "Precision Train - \n",
            " 0.8351462379971103\n",
            "Precision Test - \n",
            " 0.7860851991487041\n",
            "Recall Train - \n",
            " 0.8057552158684876\n",
            "Recall Test - \n",
            " 0.761004058129866\n",
            "\n",
            "====================================================================================================\n",
            "\n",
            "For  xgb\n",
            "Accuracy Train -  0.7995987344702523\n",
            "Accuracy Test -  0.7776777677767777\n",
            "Precision Train - \n",
            " 0.8157841598303864\n",
            "Precision Test - \n",
            " 0.7886682043127832\n",
            "Recall Train - \n",
            " 0.7778795422881789\n",
            "Recall Test - \n",
            " 0.7551341372043007\n",
            "\n",
            "====================================================================================================\n",
            "\n"
          ]
        }
      ]
    },
    {
      "cell_type": "code",
      "source": [
        "performance_df = pd.DataFrame({'Algorithm':clfs.keys(),'Accuracy Train':accuracy_scores_tr,'Accuracy Test':accuracy_scores_ts,\n",
        "                               'Precision Train':precision_tr_scores,'Precision Test':precision_ts_scores,\n",
        "                               'Recall Train':recall_tr_scores,'Recall Test':recall_ts_scores}).style.background_gradient(cmap = 'magma_r', subset = ['Recall Test', 'Precision Test', 'Accuracy Test'\t])\n",
        "performance_df"
      ],
      "metadata": {
        "id": "NS4gjmNLo4m_",
        "colab": {
          "base_uri": "https://localhost:8080/",
          "height": 363
        },
        "outputId": "d32efaed-495b-4594-cd15-2cb83c89c3e1"
      },
      "execution_count": 47,
      "outputs": [
        {
          "output_type": "execute_result",
          "data": {
            "text/html": [
              "<style type=\"text/css\">\n",
              "#T_99340_row0_col2 {\n",
              "  background-color: #d8456c;\n",
              "  color: #f1f1f1;\n",
              "}\n",
              "#T_99340_row0_col4 {\n",
              "  background-color: #e44f64;\n",
              "  color: #f1f1f1;\n",
              "}\n",
              "#T_99340_row0_col6 {\n",
              "  background-color: #bf3a77;\n",
              "  color: #f1f1f1;\n",
              "}\n",
              "#T_99340_row1_col2 {\n",
              "  background-color: #b83779;\n",
              "  color: #f1f1f1;\n",
              "}\n",
              "#T_99340_row1_col4 {\n",
              "  background-color: #d2426f;\n",
              "  color: #f1f1f1;\n",
              "}\n",
              "#T_99340_row1_col6 {\n",
              "  background-color: #9b2e7f;\n",
              "  color: #f1f1f1;\n",
              "}\n",
              "#T_99340_row2_col2 {\n",
              "  background-color: #f9785d;\n",
              "  color: #f1f1f1;\n",
              "}\n",
              "#T_99340_row2_col4 {\n",
              "  background-color: #fc8c63;\n",
              "  color: #f1f1f1;\n",
              "}\n",
              "#T_99340_row2_col6 {\n",
              "  background-color: #e04c67;\n",
              "  color: #f1f1f1;\n",
              "}\n",
              "#T_99340_row3_col2 {\n",
              "  background-color: #b73779;\n",
              "  color: #f1f1f1;\n",
              "}\n",
              "#T_99340_row3_col4 {\n",
              "  background-color: #ae347b;\n",
              "  color: #f1f1f1;\n",
              "}\n",
              "#T_99340_row3_col6 {\n",
              "  background-color: #c23b75;\n",
              "  color: #f1f1f1;\n",
              "}\n",
              "#T_99340_row4_col2, #T_99340_row4_col4, #T_99340_row4_col6, #T_99340_row7_col2, #T_99340_row7_col4, #T_99340_row7_col6 {\n",
              "  background-color: #000004;\n",
              "  color: #f1f1f1;\n",
              "}\n",
              "#T_99340_row5_col2, #T_99340_row5_col4, #T_99340_row5_col6 {\n",
              "  background-color: #fcfdbf;\n",
              "  color: #000000;\n",
              "}\n",
              "#T_99340_row6_col2 {\n",
              "  background-color: #782281;\n",
              "  color: #f1f1f1;\n",
              "}\n",
              "#T_99340_row6_col4 {\n",
              "  background-color: #962c80;\n",
              "  color: #f1f1f1;\n",
              "}\n",
              "#T_99340_row6_col6 {\n",
              "  background-color: #52137c;\n",
              "  color: #f1f1f1;\n",
              "}\n",
              "#T_99340_row8_col2 {\n",
              "  background-color: #842681;\n",
              "  color: #f1f1f1;\n",
              "}\n",
              "#T_99340_row8_col4 {\n",
              "  background-color: #5d177f;\n",
              "  color: #f1f1f1;\n",
              "}\n",
              "#T_99340_row8_col6 {\n",
              "  background-color: #982d80;\n",
              "  color: #f1f1f1;\n",
              "}\n",
              "#T_99340_row9_col2 {\n",
              "  background-color: #932b80;\n",
              "  color: #f1f1f1;\n",
              "}\n",
              "#T_99340_row9_col4 {\n",
              "  background-color: #51127c;\n",
              "  color: #f1f1f1;\n",
              "}\n",
              "#T_99340_row9_col6 {\n",
              "  background-color: #b3367a;\n",
              "  color: #f1f1f1;\n",
              "}\n",
              "</style>\n",
              "<table id=\"T_99340_\" class=\"dataframe\">\n",
              "  <thead>\n",
              "    <tr>\n",
              "      <th class=\"blank level0\" >&nbsp;</th>\n",
              "      <th class=\"col_heading level0 col0\" >Algorithm</th>\n",
              "      <th class=\"col_heading level0 col1\" >Accuracy Train</th>\n",
              "      <th class=\"col_heading level0 col2\" >Accuracy Test</th>\n",
              "      <th class=\"col_heading level0 col3\" >Precision Train</th>\n",
              "      <th class=\"col_heading level0 col4\" >Precision Test</th>\n",
              "      <th class=\"col_heading level0 col5\" >Recall Train</th>\n",
              "      <th class=\"col_heading level0 col6\" >Recall Test</th>\n",
              "    </tr>\n",
              "  </thead>\n",
              "  <tbody>\n",
              "    <tr>\n",
              "      <th id=\"T_99340_level0_row0\" class=\"row_heading level0 row0\" >0</th>\n",
              "      <td id=\"T_99340_row0_col0\" class=\"data row0 col0\" >SVC</td>\n",
              "      <td id=\"T_99340_row0_col1\" class=\"data row0 col1\" >0.760707</td>\n",
              "      <td id=\"T_99340_row0_col2\" class=\"data row0 col2\" >0.763996</td>\n",
              "      <td id=\"T_99340_row0_col3\" class=\"data row0 col3\" >0.756496</td>\n",
              "      <td id=\"T_99340_row0_col4\" class=\"data row0 col4\" >0.757592</td>\n",
              "      <td id=\"T_99340_row0_col5\" class=\"data row0 col5\" >0.749512</td>\n",
              "      <td id=\"T_99340_row0_col6\" class=\"data row0 col6\" >0.752953</td>\n",
              "    </tr>\n",
              "    <tr>\n",
              "      <th id=\"T_99340_level0_row1\" class=\"row_heading level0 row1\" >1</th>\n",
              "      <td id=\"T_99340_row1_col0\" class=\"data row1 col0\" >KN</td>\n",
              "      <td id=\"T_99340_row1_col1\" class=\"data row1 col1\" >0.844664</td>\n",
              "      <td id=\"T_99340_row1_col2\" class=\"data row1 col2\" >0.770477</td>\n",
              "      <td id=\"T_99340_row1_col3\" class=\"data row1 col3\" >0.840168</td>\n",
              "      <td id=\"T_99340_row1_col4\" class=\"data row1 col4\" >0.761988</td>\n",
              "      <td id=\"T_99340_row1_col5\" class=\"data row1 col5\" >0.835550</td>\n",
              "      <td id=\"T_99340_row1_col6\" class=\"data row1 col6\" >0.760246</td>\n",
              "    </tr>\n",
              "    <tr>\n",
              "      <th id=\"T_99340_level0_row2\" class=\"row_heading level0 row2\" >2</th>\n",
              "      <td id=\"T_99340_row2_col0\" class=\"data row2 col0\" >DT</td>\n",
              "      <td id=\"T_99340_row2_col1\" class=\"data row2 col1\" >0.999151</td>\n",
              "      <td id=\"T_99340_row2_col2\" class=\"data row2 col2\" >0.753375</td>\n",
              "      <td id=\"T_99340_row2_col3\" class=\"data row2 col3\" >0.999095</td>\n",
              "      <td id=\"T_99340_row2_col4\" class=\"data row2 col4\" >0.745656</td>\n",
              "      <td id=\"T_99340_row2_col5\" class=\"data row2 col5\" >0.999151</td>\n",
              "      <td id=\"T_99340_row2_col6\" class=\"data row2 col6\" >0.745556</td>\n",
              "    </tr>\n",
              "    <tr>\n",
              "      <th id=\"T_99340_level0_row3\" class=\"row_heading level0 row3\" >3</th>\n",
              "      <td id=\"T_99340_row3_col0\" class=\"data row3 col0\" >LR</td>\n",
              "      <td id=\"T_99340_row3_col1\" class=\"data row3 col1\" >0.764719</td>\n",
              "      <td id=\"T_99340_row3_col2\" class=\"data row3 col2\" >0.770657</td>\n",
              "      <td id=\"T_99340_row3_col3\" class=\"data row3 col3\" >0.766159</td>\n",
              "      <td id=\"T_99340_row3_col4\" class=\"data row3 col4\" >0.769215</td>\n",
              "      <td id=\"T_99340_row3_col5\" class=\"data row3 col5\" >0.746831</td>\n",
              "      <td id=\"T_99340_row3_col6\" class=\"data row3 col6\" >0.752231</td>\n",
              "    </tr>\n",
              "    <tr>\n",
              "      <th id=\"T_99340_level0_row4\" class=\"row_heading level0 row4\" >4</th>\n",
              "      <td id=\"T_99340_row4_col0\" class=\"data row4 col0\" >RF</td>\n",
              "      <td id=\"T_99340_row4_col1\" class=\"data row4 col1\" >0.999151</td>\n",
              "      <td id=\"T_99340_row4_col2\" class=\"data row4 col2\" >0.810981</td>\n",
              "      <td id=\"T_99340_row4_col3\" class=\"data row4 col3\" >0.999123</td>\n",
              "      <td id=\"T_99340_row4_col4\" class=\"data row4 col4\" >0.809940</td>\n",
              "      <td id=\"T_99340_row4_col5\" class=\"data row4 col5\" >0.999123</td>\n",
              "      <td id=\"T_99340_row4_col6\" class=\"data row4 col6\" >0.797502</td>\n",
              "    </tr>\n",
              "    <tr>\n",
              "      <th id=\"T_99340_level0_row5\" class=\"row_heading level0 row5\" >5</th>\n",
              "      <td id=\"T_99340_row5_col0\" class=\"data row5 col0\" >AdaBoost</td>\n",
              "      <td id=\"T_99340_row5_col1\" class=\"data row5 col1\" >0.730303</td>\n",
              "      <td id=\"T_99340_row5_col2\" class=\"data row5 col2\" >0.730693</td>\n",
              "      <td id=\"T_99340_row5_col3\" class=\"data row5 col3\" >0.726674</td>\n",
              "      <td id=\"T_99340_row5_col4\" class=\"data row5 col4\" >0.725325</td>\n",
              "      <td id=\"T_99340_row5_col5\" class=\"data row5 col5\" >0.711960</td>\n",
              "      <td id=\"T_99340_row5_col6\" class=\"data row5 col6\" >0.712013</td>\n",
              "    </tr>\n",
              "    <tr>\n",
              "      <th id=\"T_99340_level0_row6\" class=\"row_heading level0 row6\" >6</th>\n",
              "      <td id=\"T_99340_row6_col0\" class=\"data row6 col0\" >BgC</td>\n",
              "      <td id=\"T_99340_row6_col1\" class=\"data row6 col1\" >0.992669</td>\n",
              "      <td id=\"T_99340_row6_col2\" class=\"data row6 col2\" >0.782898</td>\n",
              "      <td id=\"T_99340_row6_col3\" class=\"data row6 col3\" >0.992278</td>\n",
              "      <td id=\"T_99340_row6_col4\" class=\"data row6 col4\" >0.774116</td>\n",
              "      <td id=\"T_99340_row6_col5\" class=\"data row6 col5\" >0.992660</td>\n",
              "      <td id=\"T_99340_row6_col6\" class=\"data row6 col6\" >0.775519</td>\n",
              "    </tr>\n",
              "    <tr>\n",
              "      <th id=\"T_99340_level0_row7\" class=\"row_heading level0 row7\" >7</th>\n",
              "      <td id=\"T_99340_row7_col0\" class=\"data row7 col0\" >ETC</td>\n",
              "      <td id=\"T_99340_row7_col1\" class=\"data row7 col1\" >0.999151</td>\n",
              "      <td id=\"T_99340_row7_col2\" class=\"data row7 col2\" >0.810801</td>\n",
              "      <td id=\"T_99340_row7_col3\" class=\"data row7 col3\" >0.999095</td>\n",
              "      <td id=\"T_99340_row7_col4\" class=\"data row7 col4\" >0.809931</td>\n",
              "      <td id=\"T_99340_row7_col5\" class=\"data row7 col5\" >0.999151</td>\n",
              "      <td id=\"T_99340_row7_col6\" class=\"data row7 col6\" >0.797530</td>\n",
              "    </tr>\n",
              "    <tr>\n",
              "      <th id=\"T_99340_level0_row8\" class=\"row_heading level0 row8\" >8</th>\n",
              "      <td id=\"T_99340_row8_col0\" class=\"data row8 col0\" >GBDT</td>\n",
              "      <td id=\"T_99340_row8_col1\" class=\"data row8 col1\" >0.823366</td>\n",
              "      <td id=\"T_99340_row8_col2\" class=\"data row8 col2\" >0.780558</td>\n",
              "      <td id=\"T_99340_row8_col3\" class=\"data row8 col3\" >0.835146</td>\n",
              "      <td id=\"T_99340_row8_col4\" class=\"data row8 col4\" >0.786085</td>\n",
              "      <td id=\"T_99340_row8_col5\" class=\"data row8 col5\" >0.805755</td>\n",
              "      <td id=\"T_99340_row8_col6\" class=\"data row8 col6\" >0.761004</td>\n",
              "    </tr>\n",
              "    <tr>\n",
              "      <th id=\"T_99340_level0_row9\" class=\"row_heading level0 row9\" >9</th>\n",
              "      <td id=\"T_99340_row9_col0\" class=\"data row9 col0\" >xgb</td>\n",
              "      <td id=\"T_99340_row9_col1\" class=\"data row9 col1\" >0.799599</td>\n",
              "      <td id=\"T_99340_row9_col2\" class=\"data row9 col2\" >0.777678</td>\n",
              "      <td id=\"T_99340_row9_col3\" class=\"data row9 col3\" >0.815784</td>\n",
              "      <td id=\"T_99340_row9_col4\" class=\"data row9 col4\" >0.788668</td>\n",
              "      <td id=\"T_99340_row9_col5\" class=\"data row9 col5\" >0.777880</td>\n",
              "      <td id=\"T_99340_row9_col6\" class=\"data row9 col6\" >0.755134</td>\n",
              "    </tr>\n",
              "  </tbody>\n",
              "</table>\n"
            ],
            "text/plain": [
              "<pandas.io.formats.style.Styler at 0x7f2e10a3c150>"
            ]
          },
          "metadata": {},
          "execution_count": 47
        }
      ]
    },
    {
      "cell_type": "code",
      "source": [
        "%%time\n",
        "# from sklearn.ensemble import RandomForestClassifier\n",
        "lr = SVC(kernel=\"linear\", class_weight='balanced' )\n",
        "lr.fit(X_train,y_train)\n",
        "\n",
        "preds_train = lr.predict(X_train)                                            # Prediction on training set\n",
        "preds_test = lr.predict(X_test)                                              # Prediction on training set\n",
        "\n",
        "training_metrics = metrics.classification_report(y_train, preds_train)                    # Getting Classification report of Training set predictions\n",
        "testing_metrics = metrics.classification_report(y_test, preds_test)                       # Getting Classification report of Test set predictions\n",
        "\n",
        "print(f\"Training Confusion Matrix: \\n{metrics.confusion_matrix(y_train, preds_train)}\\n\") # Printing Confusion Matrix (training)\n",
        "print(f\"Training Classification Report: \\n{training_metrics}\")                            # Printing Classification report (testing)\n",
        "print(\"=\"*100)\n",
        "print(f\"Testing Confusion Matrix: \\n{metrics.confusion_matrix(y_test, preds_test)}\\n\")    # Printing Confusion Matrix (training)\n",
        "print(f\"Testing Classification Report: \\n{testing_metrics}\")                              # Printing Classification report (testing)"
      ],
      "metadata": {
        "colab": {
          "base_uri": "https://localhost:8080/"
        },
        "id": "znqwQb2RtVBZ",
        "outputId": "df22570f-ea1e-4c4a-8150-41e0b7b2a547"
      },
      "execution_count": 48,
      "outputs": [
        {
          "output_type": "stream",
          "name": "stdout",
          "text": [
            "Training Confusion Matrix: \n",
            "[[4121  104  518]\n",
            " [ 122 2192 1119]\n",
            " [ 335  903 3545]]\n",
            "\n",
            "Training Classification Report: \n",
            "              precision    recall  f1-score   support\n",
            "\n",
            "    accident       0.90      0.87      0.88      4743\n",
            "appreciation       0.69      0.64      0.66      3433\n",
            "  complaints       0.68      0.74      0.71      4783\n",
            "\n",
            "    accuracy                           0.76     12959\n",
            "   macro avg       0.76      0.75      0.75     12959\n",
            "weighted avg       0.76      0.76      0.76     12959\n",
            "\n",
            "====================================================================================================\n",
            "Testing Confusion Matrix: \n",
            "[[1798   39  196]\n",
            " [  50  946  475]\n",
            " [ 131  420 1500]]\n",
            "\n",
            "Testing Classification Report: \n",
            "              precision    recall  f1-score   support\n",
            "\n",
            "    accident       0.91      0.88      0.90      2033\n",
            "appreciation       0.67      0.64      0.66      1471\n",
            "  complaints       0.69      0.73      0.71      2051\n",
            "\n",
            "    accuracy                           0.76      5555\n",
            "   macro avg       0.76      0.75      0.75      5555\n",
            "weighted avg       0.77      0.76      0.76      5555\n",
            "\n",
            "CPU times: user 20.5 s, sys: 203 ms, total: 20.7 s\n",
            "Wall time: 24 s\n"
          ]
        }
      ]
    },
    {
      "cell_type": "code",
      "source": [
        "plt.figure(figsize = (15,15))\n",
        "metrics.plot_confusion_matrix(lr,X_train,y_train, )  \n",
        "plt.xticks(rotation = 90)\n",
        "plt.show()\n"
      ],
      "metadata": {
        "colab": {
          "base_uri": "https://localhost:8080/",
          "height": 350
        },
        "id": "SVizb98HUagE",
        "outputId": "79b63e96-f510-48d5-884d-a6b7c220203d"
      },
      "execution_count": 49,
      "outputs": [
        {
          "output_type": "display_data",
          "data": {
            "text/plain": [
              "<Figure size 1080x1080 with 0 Axes>"
            ]
          },
          "metadata": {}
        },
        {
          "output_type": "display_data",
          "data": {
            "image/png": "[encoded data removed]",
            "text/plain": [
              "<Figure size 432x288 with 2 Axes>"
            ]
          },
          "metadata": {
            "needs_background": "light"
          }
        }
      ]
    },
    {
      "cell_type": "markdown",
      "source": [
        "## **Hyper-parameter tuning**\n",
        "\n"
      ],
      "metadata": {
        "id": "w8tYlHV7w2Eq"
      }
    },
    {
      "cell_type": "code",
      "source": [
        ""
      ],
      "metadata": {
        "id": "vh8IcXohRSzx"
      },
      "execution_count": null,
      "outputs": []
    },
    {
      "cell_type": "code",
      "source": [
        "import optuna\n",
        "from sklearn.metrics import precision_recall_curve\n",
        "from sklearn.metrics import auc\n",
        "import matplotlib.pyplot as plt\n",
        "from sklearn import preprocessing\n",
        "\n",
        "\n",
        "def train_classifier(clf,X_train,y_train,X_test,y_test):\n",
        "    # clf.fit(X_train,y_train)\n",
        "    train_preds = clf.predict_proba(X_train)[:,1]\n",
        "    test_preds = clf.predict_proba(X_test)[:,1]\n",
        "    \n",
        "    pr_test,re_test,_ = precision_recall_curve(y_test,test_preds)\n",
        "\n",
        "    auc_test = auc(re_test, pr_test)\n",
        "    return re_test, pr_test, auc_test\n",
        "\n",
        "\n",
        "def run(trial):\n",
        "  xtrain =  X_train.copy()\n",
        "  xvalid = X_test.copy()\n",
        "\n",
        "\n",
        "  ytrain = y_train.copy()\n",
        "  yvalid = y_test.copy()\n",
        "\n",
        "  # xtrain = xtrain[useful_features]\n",
        "  # xvalid = xvalid[useful_features]\n",
        "  \n",
        "  # qc=preprocessing.LabelEncoder()\n",
        "  # ytrain = qc.fit_transform(ytrain)\n",
        "  # yvalid = qc.transform(yvalid)\n",
        "  \n",
        "  \n",
        "  params = {\n",
        "  'C': trial.suggest_float(\"C\", 1e-2, 5, log=True),\n",
        "  # 'reg_lambda' : trial.suggest_loguniform(\"reg_lambda\", 1e-8, 100.0),\n",
        "  # 'reg_alpha' : trial.suggest_loguniform(\"reg_alpha\", 1e-8, 100.0),\n",
        "  # 'subsample' : trial.suggest_float(\"subsample\", 0.1, 1.0),\n",
        "  # 'colsample_bytree' : trial.suggest_float(\"colsample_bytree\", 0.1, 1.0),\n",
        "      'class_weight' : trial.suggest_categorical(\"class_weight\", ['balanced', None])\n",
        "  }\n",
        "  \n",
        "  model = SVC(**params,\n",
        "#         tree_method=\"gpu_hist\",\n",
        "#         gpu_id=1,\n",
        "#         predictor=\"gpu_predictor\",\n",
        "  )\n",
        "  \n",
        "  \n",
        "  model.fit(xtrain, ytrain)\n",
        "  # re_test, pr_test, auc_test = train_classifier(model,xtrain,ytrain,xvalid,yvalid)\n",
        "  preds_train=model.predict(xtrain)\n",
        "  preds_valid=model.predict(xvalid)\n",
        "    \n",
        "    # final_test_preds.append(preds_test)\n",
        "    # final_valid_preds.update(dict(zip(valid_id,preds_valid)))\n",
        "  \n",
        "  f1_score= metrics.f1_score(yvalid,preds_valid, average = 'macro')\n",
        "  #Score \n",
        "  # scores.append(roc1)\n",
        "  print(f\"f1_score:{f1_score}\")\n",
        "\n",
        "  # print(auc_test)\n",
        "  return f1_score\n",
        "\n",
        "\n",
        "study = optuna.create_study(direction=\"maximize\")\n",
        "study.optimize(run, n_trials=20)\n",
        "\n",
        "study.best_params"
      ],
      "metadata": {
        "colab": {
          "base_uri": "https://localhost:8080/"
        },
        "id": "lOZ3YXiOWu_x",
        "outputId": "a06ff139-3a8a-4eff-f358-7b28197e6616"
      },
      "execution_count": 51,
      "outputs": [
        {
          "output_type": "stream",
          "name": "stderr",
          "text": [
            "\u001b[32m[I 2022-02-08 12:23:16,809]\u001b[0m A new study created in memory with name: no-name-4e9bfd4b-8ce3-43be-ba0e-6e21972d6027\u001b[0m\n",
            "\u001b[32m[I 2022-02-08 12:23:44,953]\u001b[0m Trial 0 finished with value: 0.7393821823613317 and parameters: {'C': 2.1533402150895062, 'class_weight': None}. Best is trial 0 with value: 0.7393821823613317.\u001b[0m\n"
          ]
        },
        {
          "output_type": "stream",
          "name": "stdout",
          "text": [
            "f1_score:0.7393821823613317\n"
          ]
        },
        {
          "output_type": "stream",
          "name": "stderr",
          "text": [
            "\u001b[32m[I 2022-02-08 12:24:15,396]\u001b[0m Trial 1 finished with value: 0.7567550979848857 and parameters: {'C': 2.3382732507683284, 'class_weight': 'balanced'}. Best is trial 1 with value: 0.7567550979848857.\u001b[0m\n"
          ]
        },
        {
          "output_type": "stream",
          "name": "stdout",
          "text": [
            "f1_score:0.7567550979848857\n"
          ]
        },
        {
          "output_type": "stream",
          "name": "stderr",
          "text": [
            "\u001b[32m[I 2022-02-08 12:24:47,239]\u001b[0m Trial 2 finished with value: 0.7451875176970671 and parameters: {'C': 0.7679756467327976, 'class_weight': 'balanced'}. Best is trial 1 with value: 0.7567550979848857.\u001b[0m\n"
          ]
        },
        {
          "output_type": "stream",
          "name": "stdout",
          "text": [
            "f1_score:0.7451875176970671\n"
          ]
        },
        {
          "output_type": "stream",
          "name": "stderr",
          "text": [
            "\u001b[32m[I 2022-02-08 12:25:17,483]\u001b[0m Trial 3 finished with value: 0.6929175344146717 and parameters: {'C': 0.272895452884832, 'class_weight': None}. Best is trial 1 with value: 0.7567550979848857.\u001b[0m\n"
          ]
        },
        {
          "output_type": "stream",
          "name": "stdout",
          "text": [
            "f1_score:0.6929175344146717\n"
          ]
        },
        {
          "output_type": "stream",
          "name": "stderr",
          "text": [
            "\u001b[32m[I 2022-02-08 12:25:51,667]\u001b[0m Trial 4 finished with value: 0.72272021070098 and parameters: {'C': 0.10239339004509426, 'class_weight': 'balanced'}. Best is trial 1 with value: 0.7567550979848857.\u001b[0m\n"
          ]
        },
        {
          "output_type": "stream",
          "name": "stdout",
          "text": [
            "f1_score:0.72272021070098\n"
          ]
        },
        {
          "output_type": "stream",
          "name": "stderr",
          "text": [
            "\u001b[32m[I 2022-02-08 12:26:23,446]\u001b[0m Trial 5 finished with value: 0.6768376614900505 and parameters: {'C': 0.14859534080073167, 'class_weight': None}. Best is trial 1 with value: 0.7567550979848857.\u001b[0m\n"
          ]
        },
        {
          "output_type": "stream",
          "name": "stdout",
          "text": [
            "f1_score:0.6768376614900505\n"
          ]
        },
        {
          "output_type": "stream",
          "name": "stderr",
          "text": [
            "\u001b[32m[I 2022-02-08 12:27:05,696]\u001b[0m Trial 6 finished with value: 0.6396655571316675 and parameters: {'C': 0.04211686875660154, 'class_weight': None}. Best is trial 1 with value: 0.7567550979848857.\u001b[0m\n"
          ]
        },
        {
          "output_type": "stream",
          "name": "stdout",
          "text": [
            "f1_score:0.6396655571316675\n"
          ]
        },
        {
          "output_type": "stream",
          "name": "stderr",
          "text": [
            "\u001b[32m[I 2022-02-08 12:27:38,950]\u001b[0m Trial 7 finished with value: 0.760429212438862 and parameters: {'C': 3.3746543157237645, 'class_weight': 'balanced'}. Best is trial 7 with value: 0.760429212438862.\u001b[0m\n"
          ]
        },
        {
          "output_type": "stream",
          "name": "stdout",
          "text": [
            "f1_score:0.760429212438862\n"
          ]
        },
        {
          "output_type": "stream",
          "name": "stderr",
          "text": [
            "\u001b[32m[I 2022-02-08 12:28:09,973]\u001b[0m Trial 8 finished with value: 0.7454639091982688 and parameters: {'C': 0.6200857466019488, 'class_weight': 'balanced'}. Best is trial 7 with value: 0.760429212438862.\u001b[0m\n"
          ]
        },
        {
          "output_type": "stream",
          "name": "stdout",
          "text": [
            "f1_score:0.7454639091982688\n"
          ]
        },
        {
          "output_type": "stream",
          "name": "stderr",
          "text": [
            "\u001b[32m[I 2022-02-08 12:28:47,240]\u001b[0m Trial 9 finished with value: 0.6960070374524739 and parameters: {'C': 0.051025629227635184, 'class_weight': 'balanced'}. Best is trial 7 with value: 0.760429212438862.\u001b[0m\n"
          ]
        },
        {
          "output_type": "stream",
          "name": "stdout",
          "text": [
            "f1_score:0.6960070374524739\n"
          ]
        },
        {
          "output_type": "stream",
          "name": "stderr",
          "text": [
            "\u001b[32m[I 2022-02-08 12:29:17,333]\u001b[0m Trial 10 finished with value: 0.7522439540680224 and parameters: {'C': 4.473875506639135, 'class_weight': None}. Best is trial 7 with value: 0.760429212438862.\u001b[0m\n"
          ]
        },
        {
          "output_type": "stream",
          "name": "stdout",
          "text": [
            "f1_score:0.7522439540680224\n"
          ]
        },
        {
          "output_type": "stream",
          "name": "stderr",
          "text": [
            "\u001b[32m[I 2022-02-08 12:29:58,034]\u001b[0m Trial 11 finished with value: 0.625188207293187 and parameters: {'C': 0.010389035709954019, 'class_weight': None}. Best is trial 7 with value: 0.760429212438862.\u001b[0m\n"
          ]
        },
        {
          "output_type": "stream",
          "name": "stdout",
          "text": [
            "f1_score:0.625188207293187\n"
          ]
        },
        {
          "output_type": "stream",
          "name": "stderr",
          "text": [
            "\u001b[32m[I 2022-02-08 12:30:25,412]\u001b[0m Trial 12 finished with value: 0.750453858866726 and parameters: {'C': 4.3857137955481065, 'class_weight': None}. Best is trial 7 with value: 0.760429212438862.\u001b[0m\n"
          ]
        },
        {
          "output_type": "stream",
          "name": "stdout",
          "text": [
            "f1_score:0.750453858866726\n"
          ]
        },
        {
          "output_type": "stream",
          "name": "stderr",
          "text": [
            "\u001b[32m[I 2022-02-08 12:30:54,414]\u001b[0m Trial 13 finished with value: 0.7294115595689851 and parameters: {'C': 1.2598853078360364, 'class_weight': None}. Best is trial 7 with value: 0.760429212438862.\u001b[0m\n"
          ]
        },
        {
          "output_type": "stream",
          "name": "stdout",
          "text": [
            "f1_score:0.7294115595689851\n"
          ]
        },
        {
          "output_type": "stream",
          "name": "stderr",
          "text": [
            "\u001b[32m[I 2022-02-08 12:31:22,672]\u001b[0m Trial 14 finished with value: 0.7384107347107166 and parameters: {'C': 2.00480275638623, 'class_weight': None}. Best is trial 7 with value: 0.760429212438862.\u001b[0m\n"
          ]
        },
        {
          "output_type": "stream",
          "name": "stdout",
          "text": [
            "f1_score:0.7384107347107166\n"
          ]
        },
        {
          "output_type": "stream",
          "name": "stderr",
          "text": [
            "\u001b[32m[I 2022-02-08 12:31:52,916]\u001b[0m Trial 15 finished with value: 0.7034787962967243 and parameters: {'C': 0.39745576386261744, 'class_weight': None}. Best is trial 7 with value: 0.760429212438862.\u001b[0m\n"
          ]
        },
        {
          "output_type": "stream",
          "name": "stdout",
          "text": [
            "f1_score:0.7034787962967243\n"
          ]
        },
        {
          "output_type": "stream",
          "name": "stderr",
          "text": [
            "\u001b[32m[I 2022-02-08 12:32:21,322]\u001b[0m Trial 16 finished with value: 0.7386744215412763 and parameters: {'C': 2.0284215963571333, 'class_weight': None}. Best is trial 7 with value: 0.760429212438862.\u001b[0m\n"
          ]
        },
        {
          "output_type": "stream",
          "name": "stdout",
          "text": [
            "f1_score:0.7386744215412763\n"
          ]
        },
        {
          "output_type": "stream",
          "name": "stderr",
          "text": [
            "\u001b[32m[I 2022-02-08 12:32:48,754]\u001b[0m Trial 17 finished with value: 0.752068726167788 and parameters: {'C': 4.522329557602137, 'class_weight': None}. Best is trial 7 with value: 0.760429212438862.\u001b[0m\n"
          ]
        },
        {
          "output_type": "stream",
          "name": "stdout",
          "text": [
            "f1_score:0.752068726167788\n"
          ]
        },
        {
          "output_type": "stream",
          "name": "stderr",
          "text": [
            "\u001b[32m[I 2022-02-08 12:33:17,566]\u001b[0m Trial 18 finished with value: 0.7270969451360009 and parameters: {'C': 1.000698717476207, 'class_weight': None}. Best is trial 7 with value: 0.760429212438862.\u001b[0m\n"
          ]
        },
        {
          "output_type": "stream",
          "name": "stdout",
          "text": [
            "f1_score:0.7270969451360009\n"
          ]
        },
        {
          "output_type": "stream",
          "name": "stderr",
          "text": [
            "\u001b[32m[I 2022-02-08 12:33:47,743]\u001b[0m Trial 19 finished with value: 0.7073428393350588 and parameters: {'C': 0.47366592581201356, 'class_weight': None}. Best is trial 7 with value: 0.760429212438862.\u001b[0m\n"
          ]
        },
        {
          "output_type": "stream",
          "name": "stdout",
          "text": [
            "f1_score:0.7073428393350588\n"
          ]
        },
        {
          "output_type": "execute_result",
          "data": {
            "text/plain": [
              "{'C': 3.3746543157237645, 'class_weight': 'balanced'}"
            ]
          },
          "metadata": {},
          "execution_count": 51
        }
      ]
    },
    {
      "cell_type": "markdown",
      "source": [
        "### **Prediction using SVC(optimized)**"
      ],
      "metadata": {
        "id": "ld8B4Aq_xZux"
      }
    },
    {
      "cell_type": "code",
      "source": [
        "params = {'C': 3.3746543157237645, 'class_weight': 'balanced'}\n",
        "\n",
        "model = SVC(**params,\n",
        "#         tree_method=\"gpu_hist\",\n",
        "#         gpu_id=1,\n",
        "#         predictor=\"gpu_predictor\",\n",
        ")\n",
        "model.fit(X_train, y_train)\n",
        "preds_train = model.predict(X_train)                                            # Prediction on training set\n",
        "preds_test = model.predict(X_test)                                              # Prediction on training set\n",
        "\n",
        "training_metrics = metrics.classification_report(y_train, preds_train)                    # Getting Classification report of Training set predictions\n",
        "testing_metrics = metrics.classification_report(y_test, preds_test)                       # Getting Classification report of Test set predictions\n",
        "\n",
        "print(f\"Training Confusion Matrix: \\n{metrics.confusion_matrix(y_train, preds_train)}\\n\") # Printing Confusion Matrix (training)\n",
        "print(f\"Training Classification Report: \\n{training_metrics}\")                            # Printing Classification report (testing)\n",
        "print(\"=\"*100)\n",
        "print(f\"Testing Confusion Matrix: \\n{metrics.confusion_matrix(y_test, preds_test)}\\n\")    # Printing Confusion Matrix (training)\n",
        "print(f\"Testing Classification Report: \\n{testing_metrics}\")                              # Printing Classification report (testing)"
      ],
      "metadata": {
        "colab": {
          "base_uri": "https://localhost:8080/"
        },
        "id": "VN8zOBSQxYQ_",
        "outputId": "9db81a30-42ef-4b2f-e005-cc34bed8fd53"
      },
      "execution_count": 52,
      "outputs": [
        {
          "output_type": "stream",
          "name": "stdout",
          "text": [
            "Training Confusion Matrix: \n",
            "[[4113  105  525]\n",
            " [ 143 2129 1161]\n",
            " [ 309  750 3724]]\n",
            "\n",
            "Training Classification Report: \n",
            "              precision    recall  f1-score   support\n",
            "\n",
            "    accident       0.90      0.87      0.88      4743\n",
            "appreciation       0.71      0.62      0.66      3433\n",
            "  complaints       0.69      0.78      0.73      4783\n",
            "\n",
            "    accuracy                           0.77     12959\n",
            "   macro avg       0.77      0.76      0.76     12959\n",
            "weighted avg       0.77      0.77      0.77     12959\n",
            "\n",
            "====================================================================================================\n",
            "Testing Confusion Matrix: \n",
            "[[1794   35  204]\n",
            " [  53  913  505]\n",
            " [ 131  346 1574]]\n",
            "\n",
            "Testing Classification Report: \n",
            "              precision    recall  f1-score   support\n",
            "\n",
            "    accident       0.91      0.88      0.89      2033\n",
            "appreciation       0.71      0.62      0.66      1471\n",
            "  complaints       0.69      0.77      0.73      2051\n",
            "\n",
            "    accuracy                           0.77      5555\n",
            "   macro avg       0.77      0.76      0.76      5555\n",
            "weighted avg       0.77      0.77      0.77      5555\n",
            "\n"
          ]
        }
      ]
    },
    {
      "cell_type": "markdown",
      "source": [
        "## **Deployment and Saving of important functions and model**"
      ],
      "metadata": {
        "id": "iWxMkyO3HjFE"
      }
    },
    {
      "cell_type": "markdown",
      "source": [
        "#### **Model**"
      ],
      "metadata": {
        "id": "nTJ1_sHHH-jP"
      }
    },
    {
      "cell_type": "code",
      "source": [
        "params = {'C': 3.3746543157237645, 'class_weight': 'balanced'}\n",
        "\n",
        "model = SVC(**params,\n",
        "#         tree_method=\"gpu_hist\",\n",
        "#         gpu_id=1,\n",
        "#         predictor=\"gpu_predictor\",\n",
        ")\n",
        "model.fit(X_train, y_train)\n",
        "preds_train = model.predict(X_train)                                            # Prediction on training set\n",
        "preds_test = model.predict(X_test)                                              # Prediction on training set\n",
        "\n",
        "training_metrics = metrics.classification_report(y_train, preds_train)                    # Getting Classification report of Training set predictions\n",
        "testing_metrics = metrics.classification_report(y_test, preds_test)                       # Getting Classification report of Test set predictions\n",
        "\n",
        "print(f\"Training Confusion Matrix: \\n{metrics.confusion_matrix(y_train, preds_train)}\\n\") # Printing Confusion Matrix (training)\n",
        "print(f\"Training Classification Report: \\n{training_metrics}\")                            # Printing Classification report (testing)\n",
        "print(\"=\"*100)\n",
        "print(f\"Testing Confusion Matrix: \\n{metrics.confusion_matrix(y_test, preds_test)}\\n\")    # Printing Confusion Matrix (training)\n",
        "print(f\"Testing Classification Report: \\n{testing_metrics}\")   "
      ],
      "metadata": {
        "id": "VeWxwOdzH8-D"
      },
      "execution_count": null,
      "outputs": []
    },
    {
      "cell_type": "code",
      "source": [
        "suff_  = round(metrics.f1_score(y_test, preds_test,average = 'weighted' ), 3)\n",
        "import pickle\n",
        "\"\"\"Save the Bagging CLF model\"\"\"\n",
        "output_file = f'model_label_generator_SVC_{suff_}.pkl'\n",
        "\n",
        "with open(output_file, 'wb') as f_out:\n",
        "    pickle.dump(model, f_out)"
      ],
      "metadata": {
        "id": "n89PActFIGqj"
      },
      "execution_count": 53,
      "outputs": []
    },
    {
      "cell_type": "markdown",
      "source": [
        "### **Preprocessing functions**"
      ],
      "metadata": {
        "id": "C7jTFO-nINoF"
      }
    },
    {
      "cell_type": "code",
      "source": [
        "\"\"\"Functions to clean text using Regex\"\"\"\n",
        "ip_addr_regex = re.compile(r'\\b(?:[0-9]{1,3}\\.){3}[0-9]{1,3}\\b')\n",
        "emoji_pattern = re.compile(\"[\"\n",
        "        u\"\\U0001F600-\\U0001F64F\"  # emoticons\n",
        "        u\"\\U0001F300-\\U0001F5FF\"  # symbols & pictographs\n",
        "        u\"\\U0001F680-\\U0001F6FF\"  # transport & map symbols\n",
        "        u\"\\U0001F1E0-\\U0001F1FF\"  # flags (iOS)\n",
        "                           \"]+\", flags=re.UNICODE)\n",
        "def regex_cleaning(phrase):\n",
        "    # specific\n",
        "    phrase = re.sub(r\"won\\'t\", \"will not\", phrase)\n",
        "    phrase = re.sub(r\"can\\'t\", \"can not\", phrase)\n",
        "\n",
        "    # general\n",
        "    phrase = re.sub(r\"n\\'t\", \" not\", phrase)\n",
        "    phrase = re.sub(r\"\\'re\", \" are\", phrase)\n",
        "    phrase = re.sub(r\"\\'s\", \" is\", phrase)\n",
        "    phrase = re.sub(r\"\\'d\", \" would\", phrase)\n",
        "    phrase = re.sub(r\"\\'ll\", \" will\", phrase)\n",
        "    phrase = re.sub(r\"\\'t\", \" not\", phrase)\n",
        "    phrase = re.sub(r\"\\'ve\", \" have\", phrase)\n",
        "    phrase = re.sub(r\"\\'m\", \" am\", phrase)\n",
        "    phrase = re.sub(r\"[^a-zA-Z0-9]+\", \" \", phrase)\n",
        "    phrase = re.sub('[\\(\\[].*?[\\)\\]]', ' ', phrase)\n",
        "    phrase = unicodedata.normalize('NFKD', phrase).encode('ascii', 'ignore').decode('utf-8', 'ignore')\n",
        "    phrase = re.sub(r\"\\r\\n\", \"\", phrase)            # Removing additional line\n",
        "    phrase = re.sub(r\"\\n\", \"\", phrase)              # Removing additional line \n",
        "    phrase = re.sub(r\"\\S*@\\S*\\s?\", \"\", phrase)      # Removing email-addresses \n",
        "    phrase = re.sub(r'http\\S+', '', phrase)         # Removing website links\n",
        "    phrase = re.sub(ip_addr_regex, \"\", phrase)      # Removing IP address link.\n",
        "    phrase = emoji_pattern.sub(r'', phrase)         # Removing Emojis\n",
        "    \n",
        "    # phrase_final = \" \".join([word.lower() for word in phrase.split() if word not in stop_words and len(word) > 3])\n",
        "    phrase_final = [word.lower() for word in phrase.split() if word not in stop_words and len(word) > 3]\n",
        "    return \"\" if len(phrase_final) < 3 else \" \".join(phrase_final)  \n",
        "\n",
        "def word_2_vec_train(df_corpus):\n",
        "  story = []\n",
        "  clean_corpus = df_corpus.apply(regex_cleaning)\n",
        "  for doc in clean_corpus:\n",
        "      raw_sent = sent_tokenize(doc)\n",
        "      for sent in raw_sent:\n",
        "          story.append(simple_preprocess(sent))\n",
        "  model_gensim = gensim.models.Word2Vec( \n",
        "      window=10,\n",
        "      min_count=2\n",
        "  )\n",
        "  model_gensim.build_vocab(story)\n",
        "  model_gensim.train(story, total_examples=model_gensim.corpus_count, epochs=model_gensim.epochs)\n",
        "\n",
        "  # \"\"\"Applying Word2Vec on whole data\"\"\"\n",
        "  # X = []\n",
        "  # for doc in tqdm(final_df['clean_corpus'].values):\n",
        "  #     X.append(document_vector(doc))\n",
        "\n",
        "  # X = np.array(X)\n",
        "  # remove out-of-vocabulary words\n",
        "  doc = [word for word in doc.split() if word in model_gensim.wv.index2word]\n",
        "  return model_gensim, np.mean(model_gensim.wv[doc], axis=0)\n",
        "\n",
        "def word_2_vec_transform(doc, model_gensim):\n",
        "  clean_doc = regex_cleaning(test_text)\n",
        "  doc = [word for word in doc.split() if word in model_gensim.wv.index2word]\n",
        "  return np.mean(model_gensim.wv[doc], axis=0)"
      ],
      "metadata": {
        "id": "dfhJQ_60EEgf"
      },
      "execution_count": null,
      "outputs": []
    },
    {
      "cell_type": "code",
      "source": [
        "# model_gensim, vec = word_2_vec_train(final_df.tweet_content)\n",
        "\n",
        "output_file = f'model_gensim_label.pkl'\n",
        "\n",
        "with open(output_file, 'wb') as f_out:\n",
        "    pickle.dump(model_gensim, f_out)"
      ],
      "metadata": {
        "id": "rdONC6SPE32G"
      },
      "execution_count": 54,
      "outputs": []
    },
    {
      "cell_type": "code",
      "source": [
        "\"\"\"Try out\"\"\"\n",
        "test_text = final_df.tweet_content.iloc[200]\n",
        "clean_text = regex_cleaning(test_text)\n",
        "model.predict(word_2_vec_transform(clean_text, model_gensim).reshape(1, -1))[0]"
      ],
      "metadata": {
        "colab": {
          "base_uri": "https://localhost:8080/",
          "height": 35
        },
        "id": "d7tKK11rEm8f",
        "outputId": "7fb3a5b2-ad9e-4cb6-efe8-af394a5db3c6"
      },
      "execution_count": null,
      "outputs": [
        {
          "output_type": "execute_result",
          "data": {
            "application/vnd.google.colaboratory.intrinsic+json": {
              "type": "string"
            },
            "text/plain": [
              "'complaints'"
            ]
          },
          "metadata": {},
          "execution_count": 310
        }
      ]
    },
    {
      "cell_type": "code",
      "source": [
        ""
      ],
      "metadata": {
        "id": "2ew3gdBEHl08"
      },
      "execution_count": null,
      "outputs": []
    },
    {
      "cell_type": "code",
      "source": [
        "!pip freeze > requirements.txt  "
      ],
      "metadata": {
        "id": "biTyG7mDa0fg"
      },
      "execution_count": null,
      "outputs": []
    },
    {
      "cell_type": "code",
      "source": [
        ""
      ],
      "metadata": {
        "id": "hAbcDAqJMLMB"
      },
      "execution_count": null,
      "outputs": []
    }
  ],
  "metadata": {
    "interpreter": {
      "hash": "152bf6e7dc8ee53edb5af21dc1a8faeab7f134840808a94079ed98d91ece7e0c"
    },
    "kernelspec": {
      "display_name": "Python 3",
      "language": "python",
      "name": "python3"
    },
    "language_info": {
      "codemirror_mode": {
        "name": "ipython",
        "version": 3
      },
      "file_extension": ".py",
      "mimetype": "text/x-python",
      "name": "python",
      "nbconvert_exporter": "python",
      "pygments_lexer": "ipython3",
      "version": "3.7.9"
    },
    "colab": {
      "name": "Multi_Class_Classification_on_Twitter_data (1).ipynb",
      "provenance": [],
      "collapsed_sections": []
    }
  },
  "nbformat": 4,
  "nbformat_minor": 0
}